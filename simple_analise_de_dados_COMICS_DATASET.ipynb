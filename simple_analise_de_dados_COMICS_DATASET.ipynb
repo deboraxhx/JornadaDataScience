{
  "nbformat": 4,
  "nbformat_minor": 0,
  "metadata": {
    "colab": {
      "name": "simple_analise de_dados_COMICS_DATASET.ipynb",
      "provenance": [],
      "collapsed_sections": [
        "AsRmw2oi4B-R",
        "N4bAv_JN3cPn"
      ],
      "mount_file_id": "1JRc049CGiTNaTQiLHpsdMau3OHeGcyTy",
      "authorship_tag": "ABX9TyOhOsAvnSklr3vxEFWhc2D9"
    },
    "kernelspec": {
      "name": "python3",
      "display_name": "Python 3"
    },
    "language_info": {
      "name": "python"
    }
  },
  "cells": [
    {
      "cell_type": "code",
      "execution_count": 47,
      "metadata": {
        "id": "63Q7Lhe458_I"
      },
      "outputs": [],
      "source": [
        "import pandas as pd\n",
        "import numpy as np\n",
        "import matplotlib.pyplot as plt\n",
        "import seaborn as sns\n",
        "import warnings\n",
        "warnings.filterwarnings(\"ignore\")\n",
        "\n",
        "\n",
        "dados = pd.read_csv('/content/drive/MyDrive/comics_data.csv')"
      ]
    },
    {
      "cell_type": "markdown",
      "source": [
        "Visualizando os dados"
      ],
      "metadata": {
        "id": "09FHomPl63Rs"
      }
    },
    {
      "cell_type": "code",
      "source": [
        "dados.head().T"
      ],
      "metadata": {
        "colab": {
          "base_uri": "https://localhost:8080/",
          "height": 1000
        },
        "id": "ZRp68-wk6Uqs",
        "outputId": "7a23265a-385f-4c29-cbde-c3ab0e531c6f"
      },
      "execution_count": 48,
      "outputs": [
        {
          "output_type": "execute_result",
          "data": {
            "text/html": [
              "\n",
              "  <div id=\"df-91f5ec0b-f7ba-4a83-ae95-4b5c32e515e2\">\n",
              "    <div class=\"colab-df-container\">\n",
              "      <div>\n",
              "<style scoped>\n",
              "    .dataframe tbody tr th:only-of-type {\n",
              "        vertical-align: middle;\n",
              "    }\n",
              "\n",
              "    .dataframe tbody tr th {\n",
              "        vertical-align: top;\n",
              "    }\n",
              "\n",
              "    .dataframe thead th {\n",
              "        text-align: right;\n",
              "    }\n",
              "</style>\n",
              "<table border=\"1\" class=\"dataframe\">\n",
              "  <thead>\n",
              "    <tr style=\"text-align: right;\">\n",
              "      <th></th>\n",
              "      <th>0</th>\n",
              "      <th>1</th>\n",
              "      <th>2</th>\n",
              "      <th>3</th>\n",
              "      <th>4</th>\n",
              "    </tr>\n",
              "  </thead>\n",
              "  <tbody>\n",
              "    <tr>\n",
              "      <th>Unnamed: 0</th>\n",
              "      <td>0</td>\n",
              "      <td>1</td>\n",
              "      <td>2</td>\n",
              "      <td>3</td>\n",
              "      <td>4</td>\n",
              "    </tr>\n",
              "    <tr>\n",
              "      <th>title</th>\n",
              "      <td>'Mazing Man</td>\n",
              "      <td>'Mazing Man</td>\n",
              "      <td>'Mazing Man</td>\n",
              "      <td>'Mazing Man</td>\n",
              "      <td>'Mazing Man</td>\n",
              "    </tr>\n",
              "    <tr>\n",
              "      <th>title_link</th>\n",
              "      <td>/series/4036/0/dc-comics-mazing-man</td>\n",
              "      <td>/series/4036/0/dc-comics-mazing-man</td>\n",
              "      <td>/series/4036/0/dc-comics-mazing-man</td>\n",
              "      <td>/series/4036/0/dc-comics-mazing-man</td>\n",
              "      <td>/series/4036/0/dc-comics-mazing-man</td>\n",
              "    </tr>\n",
              "    <tr>\n",
              "      <th>issue_link</th>\n",
              "      <td>https://comicbookrealm.com/series/4036/54341/d...</td>\n",
              "      <td>https://comicbookrealm.com/series/4036/54350/d...</td>\n",
              "      <td>https://comicbookrealm.com/series/4036/54351/d...</td>\n",
              "      <td>https://comicbookrealm.com/series/4036/54352/d...</td>\n",
              "      <td>https://comicbookrealm.com/series/4036/54342/d...</td>\n",
              "    </tr>\n",
              "    <tr>\n",
              "      <th>cover_link</th>\n",
              "      <td>/cover-scan/acb40c8a57d50781194e37be2a94b3d5/l...</td>\n",
              "      <td>/cover-scan/293f4e231eccb71ad6e6bc3fe3e49c4f/l...</td>\n",
              "      <td>/cover-scan/45c7a284efa7d07f7bb5c9afb3080ffd/l...</td>\n",
              "      <td>/cover-scan/21764f5da802b25622831976f1619aa4/l...</td>\n",
              "      <td>/cover-scan/3a4df503a1fb2450b1227f4c1f0c45d9/l...</td>\n",
              "    </tr>\n",
              "    <tr>\n",
              "      <th>issue</th>\n",
              "      <td># 1</td>\n",
              "      <td># 10</td>\n",
              "      <td># 11</td>\n",
              "      <td># 12</td>\n",
              "      <td># 2</td>\n",
              "    </tr>\n",
              "    <tr>\n",
              "      <th>cover_date</th>\n",
              "      <td>Jan '86</td>\n",
              "      <td>Oct '86</td>\n",
              "      <td>Nov '86</td>\n",
              "      <td>Dec '86</td>\n",
              "      <td>Feb '86</td>\n",
              "    </tr>\n",
              "    <tr>\n",
              "      <th>cover_price</th>\n",
              "      <td>$0.75</td>\n",
              "      <td>$0.75</td>\n",
              "      <td>$0.75</td>\n",
              "      <td>$0.75</td>\n",
              "      <td>$0.75</td>\n",
              "    </tr>\n",
              "    <tr>\n",
              "      <th>current_value</th>\n",
              "      <td>$3.00</td>\n",
              "      <td>$3.00</td>\n",
              "      <td>$3.00</td>\n",
              "      <td>$4.00</td>\n",
              "      <td>$3.00</td>\n",
              "    </tr>\n",
              "    <tr>\n",
              "      <th>hist_prices_link</th>\n",
              "      <td>/comic.php?a=historical&amp;comic=54341?keepThis=t...</td>\n",
              "      <td>/comic.php?a=historical&amp;comic=54350?keepThis=t...</td>\n",
              "      <td>/comic.php?a=historical&amp;comic=54351?keepThis=t...</td>\n",
              "      <td>/comic.php?a=historical&amp;comic=54352?keepThis=t...</td>\n",
              "      <td>/comic.php?a=historical&amp;comic=54342?keepThis=t...</td>\n",
              "    </tr>\n",
              "    <tr>\n",
              "      <th>searched</th>\n",
              "      <td>1259</td>\n",
              "      <td>182</td>\n",
              "      <td>190</td>\n",
              "      <td>670</td>\n",
              "      <td>413</td>\n",
              "    </tr>\n",
              "    <tr>\n",
              "      <th>owned</th>\n",
              "      <td>181</td>\n",
              "      <td>70</td>\n",
              "      <td>65</td>\n",
              "      <td>96</td>\n",
              "      <td>118</td>\n",
              "    </tr>\n",
              "    <tr>\n",
              "      <th>pages</th>\n",
              "      <td>32.0</td>\n",
              "      <td>NaN</td>\n",
              "      <td>NaN</td>\n",
              "      <td>22.0</td>\n",
              "      <td>NaN</td>\n",
              "    </tr>\n",
              "    <tr>\n",
              "      <th>rating</th>\n",
              "      <td>0.0</td>\n",
              "      <td>0.0</td>\n",
              "      <td>0.0</td>\n",
              "      <td>0.0</td>\n",
              "      <td>0.0</td>\n",
              "    </tr>\n",
              "    <tr>\n",
              "      <th>rating_count</th>\n",
              "      <td>0</td>\n",
              "      <td>0</td>\n",
              "      <td>0</td>\n",
              "      <td>0</td>\n",
              "      <td>0</td>\n",
              "    </tr>\n",
              "    <tr>\n",
              "      <th>ISBN-UPC</th>\n",
              "      <td>NaN</td>\n",
              "      <td>NaN</td>\n",
              "      <td>NaN</td>\n",
              "      <td>NaN</td>\n",
              "      <td>NaN</td>\n",
              "    </tr>\n",
              "    <tr>\n",
              "      <th>est_print_run</th>\n",
              "      <td>NaN</td>\n",
              "      <td>NaN</td>\n",
              "      <td>NaN</td>\n",
              "      <td>NaN</td>\n",
              "      <td>NaN</td>\n",
              "    </tr>\n",
              "    <tr>\n",
              "      <th>variant_of</th>\n",
              "      <td>NaN</td>\n",
              "      <td>NaN</td>\n",
              "      <td>NaN</td>\n",
              "      <td>NaN</td>\n",
              "      <td>NaN</td>\n",
              "    </tr>\n",
              "    <tr>\n",
              "      <th>preview</th>\n",
              "      <td>NaN</td>\n",
              "      <td>NaN</td>\n",
              "      <td>NaN</td>\n",
              "      <td>NaN</td>\n",
              "      <td>NaN</td>\n",
              "    </tr>\n",
              "    <tr>\n",
              "      <th>synopsis</th>\n",
              "      <td>1st appearance of 'Mazing Man</td>\n",
              "      <td>NaN</td>\n",
              "      <td>NaN</td>\n",
              "      <td>\"Ch-Ch-Changes.\"</td>\n",
              "      <td>NaN</td>\n",
              "    </tr>\n",
              "    <tr>\n",
              "      <th>contributors_names</th>\n",
              "      <td>['Stephen Destefano', 'Alan Gold', 'Nansi Hool...</td>\n",
              "      <td>no contributors assigned</td>\n",
              "      <td>no contributors assigned</td>\n",
              "      <td>['Craig Boldman', 'Stephen DeStafano', 'Nansi ...</td>\n",
              "      <td>no contributors assigned</td>\n",
              "    </tr>\n",
              "    <tr>\n",
              "      <th>contributors_roles</th>\n",
              "      <td>['Pencils-CoverArt', 'Editor', 'Colors', 'Cove...</td>\n",
              "      <td>no contributors assigned</td>\n",
              "      <td>no contributors assigned</td>\n",
              "      <td>['Inks', 'Scripts-CoverArt', 'Colors', 'CoverA...</td>\n",
              "      <td>no contributors assigned</td>\n",
              "    </tr>\n",
              "    <tr>\n",
              "      <th>characters</th>\n",
              "      <td>[[\"'Mazing Man\", '/character-photos/character_...</td>\n",
              "      <td>no characters assigned</td>\n",
              "      <td>no characters assigned</td>\n",
              "      <td>[[\"'Mazing Man\", '/character-photos/character_...</td>\n",
              "      <td>no characters assigned</td>\n",
              "    </tr>\n",
              "    <tr>\n",
              "      <th>pub_id</th>\n",
              "      <td>1.0</td>\n",
              "      <td>1.0</td>\n",
              "      <td>1.0</td>\n",
              "      <td>1.0</td>\n",
              "      <td>1.0</td>\n",
              "    </tr>\n",
              "    <tr>\n",
              "      <th>volume</th>\n",
              "      <td>NaN</td>\n",
              "      <td>NaN</td>\n",
              "      <td>NaN</td>\n",
              "      <td>NaN</td>\n",
              "      <td>NaN</td>\n",
              "    </tr>\n",
              "    <tr>\n",
              "      <th>years</th>\n",
              "      <td>1986</td>\n",
              "      <td>1986</td>\n",
              "      <td>1986</td>\n",
              "      <td>1986</td>\n",
              "      <td>1986</td>\n",
              "    </tr>\n",
              "    <tr>\n",
              "      <th>issues_total</th>\n",
              "      <td>15.0</td>\n",
              "      <td>15.0</td>\n",
              "      <td>15.0</td>\n",
              "      <td>15.0</td>\n",
              "      <td>15.0</td>\n",
              "    </tr>\n",
              "    <tr>\n",
              "      <th>pub_name</th>\n",
              "      <td>DC Comics</td>\n",
              "      <td>DC Comics</td>\n",
              "      <td>DC Comics</td>\n",
              "      <td>DC Comics</td>\n",
              "      <td>DC Comics</td>\n",
              "    </tr>\n",
              "    <tr>\n",
              "      <th>pub_titles_total</th>\n",
              "      <td>4688</td>\n",
              "      <td>4688</td>\n",
              "      <td>4688</td>\n",
              "      <td>4688</td>\n",
              "      <td>4688</td>\n",
              "    </tr>\n",
              "    <tr>\n",
              "      <th>pub_issues_total</th>\n",
              "      <td>57043</td>\n",
              "      <td>57043</td>\n",
              "      <td>57043</td>\n",
              "      <td>57043</td>\n",
              "      <td>57043</td>\n",
              "    </tr>\n",
              "  </tbody>\n",
              "</table>\n",
              "</div>\n",
              "      <button class=\"colab-df-convert\" onclick=\"convertToInteractive('df-91f5ec0b-f7ba-4a83-ae95-4b5c32e515e2')\"\n",
              "              title=\"Convert this dataframe to an interactive table.\"\n",
              "              style=\"display:none;\">\n",
              "        \n",
              "  <svg xmlns=\"http://www.w3.org/2000/svg\" height=\"24px\"viewBox=\"0 0 24 24\"\n",
              "       width=\"24px\">\n",
              "    <path d=\"M0 0h24v24H0V0z\" fill=\"none\"/>\n",
              "    <path d=\"M18.56 5.44l.94 2.06.94-2.06 2.06-.94-2.06-.94-.94-2.06-.94 2.06-2.06.94zm-11 1L8.5 8.5l.94-2.06 2.06-.94-2.06-.94L8.5 2.5l-.94 2.06-2.06.94zm10 10l.94 2.06.94-2.06 2.06-.94-2.06-.94-.94-2.06-.94 2.06-2.06.94z\"/><path d=\"M17.41 7.96l-1.37-1.37c-.4-.4-.92-.59-1.43-.59-.52 0-1.04.2-1.43.59L10.3 9.45l-7.72 7.72c-.78.78-.78 2.05 0 2.83L4 21.41c.39.39.9.59 1.41.59.51 0 1.02-.2 1.41-.59l7.78-7.78 2.81-2.81c.8-.78.8-2.07 0-2.86zM5.41 20L4 18.59l7.72-7.72 1.47 1.35L5.41 20z\"/>\n",
              "  </svg>\n",
              "      </button>\n",
              "      \n",
              "  <style>\n",
              "    .colab-df-container {\n",
              "      display:flex;\n",
              "      flex-wrap:wrap;\n",
              "      gap: 12px;\n",
              "    }\n",
              "\n",
              "    .colab-df-convert {\n",
              "      background-color: #E8F0FE;\n",
              "      border: none;\n",
              "      border-radius: 50%;\n",
              "      cursor: pointer;\n",
              "      display: none;\n",
              "      fill: #1967D2;\n",
              "      height: 32px;\n",
              "      padding: 0 0 0 0;\n",
              "      width: 32px;\n",
              "    }\n",
              "\n",
              "    .colab-df-convert:hover {\n",
              "      background-color: #E2EBFA;\n",
              "      box-shadow: 0px 1px 2px rgba(60, 64, 67, 0.3), 0px 1px 3px 1px rgba(60, 64, 67, 0.15);\n",
              "      fill: #174EA6;\n",
              "    }\n",
              "\n",
              "    [theme=dark] .colab-df-convert {\n",
              "      background-color: #3B4455;\n",
              "      fill: #D2E3FC;\n",
              "    }\n",
              "\n",
              "    [theme=dark] .colab-df-convert:hover {\n",
              "      background-color: #434B5C;\n",
              "      box-shadow: 0px 1px 3px 1px rgba(0, 0, 0, 0.15);\n",
              "      filter: drop-shadow(0px 1px 2px rgba(0, 0, 0, 0.3));\n",
              "      fill: #FFFFFF;\n",
              "    }\n",
              "  </style>\n",
              "\n",
              "      <script>\n",
              "        const buttonEl =\n",
              "          document.querySelector('#df-91f5ec0b-f7ba-4a83-ae95-4b5c32e515e2 button.colab-df-convert');\n",
              "        buttonEl.style.display =\n",
              "          google.colab.kernel.accessAllowed ? 'block' : 'none';\n",
              "\n",
              "        async function convertToInteractive(key) {\n",
              "          const element = document.querySelector('#df-91f5ec0b-f7ba-4a83-ae95-4b5c32e515e2');\n",
              "          const dataTable =\n",
              "            await google.colab.kernel.invokeFunction('convertToInteractive',\n",
              "                                                     [key], {});\n",
              "          if (!dataTable) return;\n",
              "\n",
              "          const docLinkHtml = 'Like what you see? Visit the ' +\n",
              "            '<a target=\"_blank\" href=https://colab.research.google.com/notebooks/data_table.ipynb>data table notebook</a>'\n",
              "            + ' to learn more about interactive tables.';\n",
              "          element.innerHTML = '';\n",
              "          dataTable['output_type'] = 'display_data';\n",
              "          await google.colab.output.renderOutput(dataTable, element);\n",
              "          const docLink = document.createElement('div');\n",
              "          docLink.innerHTML = docLinkHtml;\n",
              "          element.appendChild(docLink);\n",
              "        }\n",
              "      </script>\n",
              "    </div>\n",
              "  </div>\n",
              "  "
            ],
            "text/plain": [
              "                                                                    0  \\\n",
              "Unnamed: 0                                                          0   \n",
              "title                                                     'Mazing Man   \n",
              "title_link                        /series/4036/0/dc-comics-mazing-man   \n",
              "issue_link          https://comicbookrealm.com/series/4036/54341/d...   \n",
              "cover_link          /cover-scan/acb40c8a57d50781194e37be2a94b3d5/l...   \n",
              "issue                                                             # 1   \n",
              "cover_date                                                    Jan '86   \n",
              "cover_price                                                     $0.75   \n",
              "current_value                                                   $3.00   \n",
              "hist_prices_link    /comic.php?a=historical&comic=54341?keepThis=t...   \n",
              "searched                                                         1259   \n",
              "owned                                                             181   \n",
              "pages                                                            32.0   \n",
              "rating                                                            0.0   \n",
              "rating_count                                                        0   \n",
              "ISBN-UPC                                                          NaN   \n",
              "est_print_run                                                     NaN   \n",
              "variant_of                                                        NaN   \n",
              "preview                                                           NaN   \n",
              "synopsis                                1st appearance of 'Mazing Man   \n",
              "contributors_names  ['Stephen Destefano', 'Alan Gold', 'Nansi Hool...   \n",
              "contributors_roles  ['Pencils-CoverArt', 'Editor', 'Colors', 'Cove...   \n",
              "characters          [[\"'Mazing Man\", '/character-photos/character_...   \n",
              "pub_id                                                            1.0   \n",
              "volume                                                            NaN   \n",
              "years                                                            1986   \n",
              "issues_total                                                     15.0   \n",
              "pub_name                                                    DC Comics   \n",
              "pub_titles_total                                                 4688   \n",
              "pub_issues_total                                                57043   \n",
              "\n",
              "                                                                    1  \\\n",
              "Unnamed: 0                                                          1   \n",
              "title                                                     'Mazing Man   \n",
              "title_link                        /series/4036/0/dc-comics-mazing-man   \n",
              "issue_link          https://comicbookrealm.com/series/4036/54350/d...   \n",
              "cover_link          /cover-scan/293f4e231eccb71ad6e6bc3fe3e49c4f/l...   \n",
              "issue                                                            # 10   \n",
              "cover_date                                                    Oct '86   \n",
              "cover_price                                                     $0.75   \n",
              "current_value                                                   $3.00   \n",
              "hist_prices_link    /comic.php?a=historical&comic=54350?keepThis=t...   \n",
              "searched                                                          182   \n",
              "owned                                                              70   \n",
              "pages                                                             NaN   \n",
              "rating                                                            0.0   \n",
              "rating_count                                                        0   \n",
              "ISBN-UPC                                                          NaN   \n",
              "est_print_run                                                     NaN   \n",
              "variant_of                                                        NaN   \n",
              "preview                                                           NaN   \n",
              "synopsis                                                          NaN   \n",
              "contributors_names                           no contributors assigned   \n",
              "contributors_roles                           no contributors assigned   \n",
              "characters                                     no characters assigned   \n",
              "pub_id                                                            1.0   \n",
              "volume                                                            NaN   \n",
              "years                                                            1986   \n",
              "issues_total                                                     15.0   \n",
              "pub_name                                                    DC Comics   \n",
              "pub_titles_total                                                 4688   \n",
              "pub_issues_total                                                57043   \n",
              "\n",
              "                                                                    2  \\\n",
              "Unnamed: 0                                                          2   \n",
              "title                                                     'Mazing Man   \n",
              "title_link                        /series/4036/0/dc-comics-mazing-man   \n",
              "issue_link          https://comicbookrealm.com/series/4036/54351/d...   \n",
              "cover_link          /cover-scan/45c7a284efa7d07f7bb5c9afb3080ffd/l...   \n",
              "issue                                                            # 11   \n",
              "cover_date                                                    Nov '86   \n",
              "cover_price                                                     $0.75   \n",
              "current_value                                                   $3.00   \n",
              "hist_prices_link    /comic.php?a=historical&comic=54351?keepThis=t...   \n",
              "searched                                                          190   \n",
              "owned                                                              65   \n",
              "pages                                                             NaN   \n",
              "rating                                                            0.0   \n",
              "rating_count                                                        0   \n",
              "ISBN-UPC                                                          NaN   \n",
              "est_print_run                                                     NaN   \n",
              "variant_of                                                        NaN   \n",
              "preview                                                           NaN   \n",
              "synopsis                                                          NaN   \n",
              "contributors_names                           no contributors assigned   \n",
              "contributors_roles                           no contributors assigned   \n",
              "characters                                     no characters assigned   \n",
              "pub_id                                                            1.0   \n",
              "volume                                                            NaN   \n",
              "years                                                            1986   \n",
              "issues_total                                                     15.0   \n",
              "pub_name                                                    DC Comics   \n",
              "pub_titles_total                                                 4688   \n",
              "pub_issues_total                                                57043   \n",
              "\n",
              "                                                                    3  \\\n",
              "Unnamed: 0                                                          3   \n",
              "title                                                     'Mazing Man   \n",
              "title_link                        /series/4036/0/dc-comics-mazing-man   \n",
              "issue_link          https://comicbookrealm.com/series/4036/54352/d...   \n",
              "cover_link          /cover-scan/21764f5da802b25622831976f1619aa4/l...   \n",
              "issue                                                            # 12   \n",
              "cover_date                                                    Dec '86   \n",
              "cover_price                                                     $0.75   \n",
              "current_value                                                   $4.00   \n",
              "hist_prices_link    /comic.php?a=historical&comic=54352?keepThis=t...   \n",
              "searched                                                          670   \n",
              "owned                                                              96   \n",
              "pages                                                            22.0   \n",
              "rating                                                            0.0   \n",
              "rating_count                                                        0   \n",
              "ISBN-UPC                                                          NaN   \n",
              "est_print_run                                                     NaN   \n",
              "variant_of                                                        NaN   \n",
              "preview                                                           NaN   \n",
              "synopsis                                             \"Ch-Ch-Changes.\"   \n",
              "contributors_names  ['Craig Boldman', 'Stephen DeStafano', 'Nansi ...   \n",
              "contributors_roles  ['Inks', 'Scripts-CoverArt', 'Colors', 'CoverA...   \n",
              "characters          [[\"'Mazing Man\", '/character-photos/character_...   \n",
              "pub_id                                                            1.0   \n",
              "volume                                                            NaN   \n",
              "years                                                            1986   \n",
              "issues_total                                                     15.0   \n",
              "pub_name                                                    DC Comics   \n",
              "pub_titles_total                                                 4688   \n",
              "pub_issues_total                                                57043   \n",
              "\n",
              "                                                                    4  \n",
              "Unnamed: 0                                                          4  \n",
              "title                                                     'Mazing Man  \n",
              "title_link                        /series/4036/0/dc-comics-mazing-man  \n",
              "issue_link          https://comicbookrealm.com/series/4036/54342/d...  \n",
              "cover_link          /cover-scan/3a4df503a1fb2450b1227f4c1f0c45d9/l...  \n",
              "issue                                                             # 2  \n",
              "cover_date                                                    Feb '86  \n",
              "cover_price                                                     $0.75  \n",
              "current_value                                                   $3.00  \n",
              "hist_prices_link    /comic.php?a=historical&comic=54342?keepThis=t...  \n",
              "searched                                                          413  \n",
              "owned                                                             118  \n",
              "pages                                                             NaN  \n",
              "rating                                                            0.0  \n",
              "rating_count                                                        0  \n",
              "ISBN-UPC                                                          NaN  \n",
              "est_print_run                                                     NaN  \n",
              "variant_of                                                        NaN  \n",
              "preview                                                           NaN  \n",
              "synopsis                                                          NaN  \n",
              "contributors_names                           no contributors assigned  \n",
              "contributors_roles                           no contributors assigned  \n",
              "characters                                     no characters assigned  \n",
              "pub_id                                                            1.0  \n",
              "volume                                                            NaN  \n",
              "years                                                            1986  \n",
              "issues_total                                                     15.0  \n",
              "pub_name                                                    DC Comics  \n",
              "pub_titles_total                                                 4688  \n",
              "pub_issues_total                                                57043  "
            ]
          },
          "metadata": {},
          "execution_count": 48
        }
      ]
    },
    {
      "cell_type": "code",
      "source": [
        "dados.describe().T"
      ],
      "metadata": {
        "colab": {
          "base_uri": "https://localhost:8080/",
          "height": 363
        },
        "id": "K9dVhspy69kI",
        "outputId": "ff7abfb5-b9a7-4a7d-b33c-730f84f1e49f"
      },
      "execution_count": 49,
      "outputs": [
        {
          "output_type": "execute_result",
          "data": {
            "text/html": [
              "\n",
              "  <div id=\"df-a3088b5f-1936-40fa-a8d2-738cda8f2492\">\n",
              "    <div class=\"colab-df-container\">\n",
              "      <div>\n",
              "<style scoped>\n",
              "    .dataframe tbody tr th:only-of-type {\n",
              "        vertical-align: middle;\n",
              "    }\n",
              "\n",
              "    .dataframe tbody tr th {\n",
              "        vertical-align: top;\n",
              "    }\n",
              "\n",
              "    .dataframe thead th {\n",
              "        text-align: right;\n",
              "    }\n",
              "</style>\n",
              "<table border=\"1\" class=\"dataframe\">\n",
              "  <thead>\n",
              "    <tr style=\"text-align: right;\">\n",
              "      <th></th>\n",
              "      <th>count</th>\n",
              "      <th>mean</th>\n",
              "      <th>std</th>\n",
              "      <th>min</th>\n",
              "      <th>25%</th>\n",
              "      <th>50%</th>\n",
              "      <th>75%</th>\n",
              "      <th>max</th>\n",
              "    </tr>\n",
              "  </thead>\n",
              "  <tbody>\n",
              "    <tr>\n",
              "      <th>Unnamed: 0</th>\n",
              "      <td>461301.0</td>\n",
              "      <td>230650.000000</td>\n",
              "      <td>133166.272601</td>\n",
              "      <td>0.0</td>\n",
              "      <td>115325.0</td>\n",
              "      <td>230650.0</td>\n",
              "      <td>345975.0</td>\n",
              "      <td>461300.0</td>\n",
              "    </tr>\n",
              "    <tr>\n",
              "      <th>searched</th>\n",
              "      <td>461301.0</td>\n",
              "      <td>472.510892</td>\n",
              "      <td>1832.640726</td>\n",
              "      <td>0.0</td>\n",
              "      <td>46.0</td>\n",
              "      <td>119.0</td>\n",
              "      <td>343.0</td>\n",
              "      <td>224080.0</td>\n",
              "    </tr>\n",
              "    <tr>\n",
              "      <th>owned</th>\n",
              "      <td>461301.0</td>\n",
              "      <td>54.493832</td>\n",
              "      <td>157.031092</td>\n",
              "      <td>0.0</td>\n",
              "      <td>1.0</td>\n",
              "      <td>6.0</td>\n",
              "      <td>33.0</td>\n",
              "      <td>6478.0</td>\n",
              "    </tr>\n",
              "    <tr>\n",
              "      <th>pages</th>\n",
              "      <td>208011.0</td>\n",
              "      <td>53.804641</td>\n",
              "      <td>195.457862</td>\n",
              "      <td>0.0</td>\n",
              "      <td>32.0</td>\n",
              "      <td>32.0</td>\n",
              "      <td>36.0</td>\n",
              "      <td>75960.0</td>\n",
              "    </tr>\n",
              "    <tr>\n",
              "      <th>rating</th>\n",
              "      <td>461301.0</td>\n",
              "      <td>0.378575</td>\n",
              "      <td>1.217336</td>\n",
              "      <td>0.0</td>\n",
              "      <td>0.0</td>\n",
              "      <td>0.0</td>\n",
              "      <td>0.0</td>\n",
              "      <td>5.0</td>\n",
              "    </tr>\n",
              "    <tr>\n",
              "      <th>rating_count</th>\n",
              "      <td>461301.0</td>\n",
              "      <td>0.141645</td>\n",
              "      <td>0.582849</td>\n",
              "      <td>0.0</td>\n",
              "      <td>0.0</td>\n",
              "      <td>0.0</td>\n",
              "      <td>0.0</td>\n",
              "      <td>15.0</td>\n",
              "    </tr>\n",
              "    <tr>\n",
              "      <th>pub_id</th>\n",
              "      <td>461301.0</td>\n",
              "      <td>1389.146538</td>\n",
              "      <td>1766.452783</td>\n",
              "      <td>1.0</td>\n",
              "      <td>2.0</td>\n",
              "      <td>559.0</td>\n",
              "      <td>2960.0</td>\n",
              "      <td>8253.0</td>\n",
              "    </tr>\n",
              "    <tr>\n",
              "      <th>issues_total</th>\n",
              "      <td>456401.0</td>\n",
              "      <td>105.147651</td>\n",
              "      <td>215.981536</td>\n",
              "      <td>1.0</td>\n",
              "      <td>8.0</td>\n",
              "      <td>28.0</td>\n",
              "      <td>99.0</td>\n",
              "      <td>1801.0</td>\n",
              "    </tr>\n",
              "    <tr>\n",
              "      <th>pub_titles_total</th>\n",
              "      <td>461301.0</td>\n",
              "      <td>2039.691928</td>\n",
              "      <td>2620.827222</td>\n",
              "      <td>1.0</td>\n",
              "      <td>91.0</td>\n",
              "      <td>517.0</td>\n",
              "      <td>4688.0</td>\n",
              "      <td>7285.0</td>\n",
              "    </tr>\n",
              "    <tr>\n",
              "      <th>pub_issues_total</th>\n",
              "      <td>461301.0</td>\n",
              "      <td>20774.509437</td>\n",
              "      <td>25262.635323</td>\n",
              "      <td>0.0</td>\n",
              "      <td>811.0</td>\n",
              "      <td>6574.0</td>\n",
              "      <td>57043.0</td>\n",
              "      <td>65535.0</td>\n",
              "    </tr>\n",
              "  </tbody>\n",
              "</table>\n",
              "</div>\n",
              "      <button class=\"colab-df-convert\" onclick=\"convertToInteractive('df-a3088b5f-1936-40fa-a8d2-738cda8f2492')\"\n",
              "              title=\"Convert this dataframe to an interactive table.\"\n",
              "              style=\"display:none;\">\n",
              "        \n",
              "  <svg xmlns=\"http://www.w3.org/2000/svg\" height=\"24px\"viewBox=\"0 0 24 24\"\n",
              "       width=\"24px\">\n",
              "    <path d=\"M0 0h24v24H0V0z\" fill=\"none\"/>\n",
              "    <path d=\"M18.56 5.44l.94 2.06.94-2.06 2.06-.94-2.06-.94-.94-2.06-.94 2.06-2.06.94zm-11 1L8.5 8.5l.94-2.06 2.06-.94-2.06-.94L8.5 2.5l-.94 2.06-2.06.94zm10 10l.94 2.06.94-2.06 2.06-.94-2.06-.94-.94-2.06-.94 2.06-2.06.94z\"/><path d=\"M17.41 7.96l-1.37-1.37c-.4-.4-.92-.59-1.43-.59-.52 0-1.04.2-1.43.59L10.3 9.45l-7.72 7.72c-.78.78-.78 2.05 0 2.83L4 21.41c.39.39.9.59 1.41.59.51 0 1.02-.2 1.41-.59l7.78-7.78 2.81-2.81c.8-.78.8-2.07 0-2.86zM5.41 20L4 18.59l7.72-7.72 1.47 1.35L5.41 20z\"/>\n",
              "  </svg>\n",
              "      </button>\n",
              "      \n",
              "  <style>\n",
              "    .colab-df-container {\n",
              "      display:flex;\n",
              "      flex-wrap:wrap;\n",
              "      gap: 12px;\n",
              "    }\n",
              "\n",
              "    .colab-df-convert {\n",
              "      background-color: #E8F0FE;\n",
              "      border: none;\n",
              "      border-radius: 50%;\n",
              "      cursor: pointer;\n",
              "      display: none;\n",
              "      fill: #1967D2;\n",
              "      height: 32px;\n",
              "      padding: 0 0 0 0;\n",
              "      width: 32px;\n",
              "    }\n",
              "\n",
              "    .colab-df-convert:hover {\n",
              "      background-color: #E2EBFA;\n",
              "      box-shadow: 0px 1px 2px rgba(60, 64, 67, 0.3), 0px 1px 3px 1px rgba(60, 64, 67, 0.15);\n",
              "      fill: #174EA6;\n",
              "    }\n",
              "\n",
              "    [theme=dark] .colab-df-convert {\n",
              "      background-color: #3B4455;\n",
              "      fill: #D2E3FC;\n",
              "    }\n",
              "\n",
              "    [theme=dark] .colab-df-convert:hover {\n",
              "      background-color: #434B5C;\n",
              "      box-shadow: 0px 1px 3px 1px rgba(0, 0, 0, 0.15);\n",
              "      filter: drop-shadow(0px 1px 2px rgba(0, 0, 0, 0.3));\n",
              "      fill: #FFFFFF;\n",
              "    }\n",
              "  </style>\n",
              "\n",
              "      <script>\n",
              "        const buttonEl =\n",
              "          document.querySelector('#df-a3088b5f-1936-40fa-a8d2-738cda8f2492 button.colab-df-convert');\n",
              "        buttonEl.style.display =\n",
              "          google.colab.kernel.accessAllowed ? 'block' : 'none';\n",
              "\n",
              "        async function convertToInteractive(key) {\n",
              "          const element = document.querySelector('#df-a3088b5f-1936-40fa-a8d2-738cda8f2492');\n",
              "          const dataTable =\n",
              "            await google.colab.kernel.invokeFunction('convertToInteractive',\n",
              "                                                     [key], {});\n",
              "          if (!dataTable) return;\n",
              "\n",
              "          const docLinkHtml = 'Like what you see? Visit the ' +\n",
              "            '<a target=\"_blank\" href=https://colab.research.google.com/notebooks/data_table.ipynb>data table notebook</a>'\n",
              "            + ' to learn more about interactive tables.';\n",
              "          element.innerHTML = '';\n",
              "          dataTable['output_type'] = 'display_data';\n",
              "          await google.colab.output.renderOutput(dataTable, element);\n",
              "          const docLink = document.createElement('div');\n",
              "          docLink.innerHTML = docLinkHtml;\n",
              "          element.appendChild(docLink);\n",
              "        }\n",
              "      </script>\n",
              "    </div>\n",
              "  </div>\n",
              "  "
            ],
            "text/plain": [
              "                     count           mean            std  min       25%  \\\n",
              "Unnamed: 0        461301.0  230650.000000  133166.272601  0.0  115325.0   \n",
              "searched          461301.0     472.510892    1832.640726  0.0      46.0   \n",
              "owned             461301.0      54.493832     157.031092  0.0       1.0   \n",
              "pages             208011.0      53.804641     195.457862  0.0      32.0   \n",
              "rating            461301.0       0.378575       1.217336  0.0       0.0   \n",
              "rating_count      461301.0       0.141645       0.582849  0.0       0.0   \n",
              "pub_id            461301.0    1389.146538    1766.452783  1.0       2.0   \n",
              "issues_total      456401.0     105.147651     215.981536  1.0       8.0   \n",
              "pub_titles_total  461301.0    2039.691928    2620.827222  1.0      91.0   \n",
              "pub_issues_total  461301.0   20774.509437   25262.635323  0.0     811.0   \n",
              "\n",
              "                       50%       75%       max  \n",
              "Unnamed: 0        230650.0  345975.0  461300.0  \n",
              "searched             119.0     343.0  224080.0  \n",
              "owned                  6.0      33.0    6478.0  \n",
              "pages                 32.0      36.0   75960.0  \n",
              "rating                 0.0       0.0       5.0  \n",
              "rating_count           0.0       0.0      15.0  \n",
              "pub_id               559.0    2960.0    8253.0  \n",
              "issues_total          28.0      99.0    1801.0  \n",
              "pub_titles_total     517.0    4688.0    7285.0  \n",
              "pub_issues_total    6574.0   57043.0   65535.0  "
            ]
          },
          "metadata": {},
          "execution_count": 49
        }
      ]
    },
    {
      "cell_type": "markdown",
      "source": [
        "Deletando as colunas que não usaremos"
      ],
      "metadata": {
        "id": "lDjeqUrnnEp6"
      }
    },
    {
      "cell_type": "code",
      "source": [
        "dados.drop(['Unnamed: 0','title_link','issue_link','cover_link','hist_prices_link'],axis=1,inplace=True)"
      ],
      "metadata": {
        "id": "oZBbO3NRnTAG"
      },
      "execution_count": 50,
      "outputs": []
    },
    {
      "cell_type": "code",
      "source": [
        "dados.info()"
      ],
      "metadata": {
        "colab": {
          "base_uri": "https://localhost:8080/"
        },
        "id": "3fUu4fGdl95G",
        "outputId": "d8a12435-6f73-4343-a36c-2e61f1e41e55"
      },
      "execution_count": 51,
      "outputs": [
        {
          "output_type": "stream",
          "name": "stdout",
          "text": [
            "<class 'pandas.core.frame.DataFrame'>\n",
            "RangeIndex: 461301 entries, 0 to 461300\n",
            "Data columns (total 25 columns):\n",
            " #   Column              Non-Null Count   Dtype  \n",
            "---  ------              --------------   -----  \n",
            " 0   title               461301 non-null  object \n",
            " 1   issue               461301 non-null  object \n",
            " 2   cover_date          369712 non-null  object \n",
            " 3   cover_price         461301 non-null  object \n",
            " 4   current_value       461301 non-null  object \n",
            " 5   searched            461301 non-null  int64  \n",
            " 6   owned               461301 non-null  int64  \n",
            " 7   pages               208011 non-null  float64\n",
            " 8   rating              461301 non-null  float64\n",
            " 9   rating_count        461301 non-null  int64  \n",
            " 10  ISBN-UPC            197912 non-null  object \n",
            " 11  est_print_run       30446 non-null   object \n",
            " 12  variant_of          131457 non-null  object \n",
            " 13  preview             15563 non-null   object \n",
            " 14  synopsis            291190 non-null  object \n",
            " 15  contributors_names  461301 non-null  object \n",
            " 16  contributors_roles  461301 non-null  object \n",
            " 17  characters          461301 non-null  object \n",
            " 18  pub_id              461301 non-null  float64\n",
            " 19  volume              210548 non-null  object \n",
            " 20  years               459453 non-null  object \n",
            " 21  issues_total        456401 non-null  float64\n",
            " 22  pub_name            461301 non-null  object \n",
            " 23  pub_titles_total    461301 non-null  int64  \n",
            " 24  pub_issues_total    461301 non-null  int64  \n",
            "dtypes: float64(4), int64(5), object(16)\n",
            "memory usage: 88.0+ MB\n"
          ]
        }
      ]
    },
    {
      "cell_type": "markdown",
      "source": [
        "Transformando os dados para possibilitar as analises"
      ],
      "metadata": {
        "id": "e2sUPeIInfXM"
      }
    },
    {
      "cell_type": "markdown",
      "source": [
        "*   title: objeto -> string\n",
        "*   cover_date: objeto -> data \n",
        "*   cover_price: objeto -> float\n",
        "*   current_value: objeto -> float\n",
        "\n",
        "\n",
        "\n",
        "\n",
        "\n"
      ],
      "metadata": {
        "id": "r-7e-9OEnqK-"
      }
    },
    {
      "cell_type": "code",
      "source": [
        "dados['title'] = dados.title.astype(str)"
      ],
      "metadata": {
        "id": "SoU5gFx4nEUb"
      },
      "execution_count": 52,
      "outputs": []
    },
    {
      "cell_type": "code",
      "source": [
        "dados['cover_date'] = dados['cover_date'].str.replace('\\D+','a', regex=True)\n",
        "dados['cover_date'] = dados['cover_date'].str.strip('a')"
      ],
      "metadata": {
        "id": "PuAzxB2ppAGA"
      },
      "execution_count": 53,
      "outputs": []
    },
    {
      "cell_type": "code",
      "source": [
        "dados = dados[dados.cover_date.isin(['']) ==False]\n",
        "dados.cover_date.unique()"
      ],
      "metadata": {
        "colab": {
          "base_uri": "https://localhost:8080/"
        },
        "id": "ntLWJBSzpDe3",
        "outputId": "b3f942d6-c2a4-40b2-c639-c11a9ea36dce"
      },
      "execution_count": 54,
      "outputs": [
        {
          "output_type": "execute_result",
          "data": {
            "text/plain": [
              "array(['86', '2007', '22', '75', '76', nan, '06', '16', '07', '12', '08',\n",
              "       '64', '65', '02', '00', '47', '49', '50', '51', '52', '53', '48',\n",
              "       '54', '55', '56', '57', '58', '59', '60', '04', '19', '17', '18',\n",
              "       '99', '14', '10', '11', '05', '15', '13', '09', '20', '21', '2003',\n",
              "       '94', '38', '39', '46', '91', '87', '90', '82', '97', '40', '61',\n",
              "       '62', '63', '41', '66', '67', '68', '69', '70', '71', '72', '73',\n",
              "       '74', '42', '77', '78', '79', '80', '81', '83', '84', '43', '85',\n",
              "       '88', '89', '92', '44', '93', '95', '96', '98', '01', '03', '45',\n",
              "       '1937', '1942', '2000', '2002', '2004', '2006', '1944', '1945',\n",
              "       '1943', '1991', '1977', '1973', '1994', '2018', '2010', '1996',\n",
              "       '1988', '1997', '2005', '1990', '1993', '1999', '1995', '1998',\n",
              "       '2001', '1992', '2019', '2008', '2009', '2015', '1981', '1966',\n",
              "       '2012', '35', '1989', '1978', '2016', '1982', '2017', '1979',\n",
              "       '1983', '1975', '1971', '2021', '37', '36', '1936', '2014', '1980',\n",
              "       '1987', '2013', '2020', '1961', '1956', '1976', '2011', '1986',\n",
              "       '1985', '1948', '1984', '1950', '1954', '1958', '1955', '1962',\n",
              "       '1969', '1972', '1957', '1974', '1953', '1968', '1964', '1965',\n",
              "       '1970', '1952', '1960', '1967', '1951', '1946', '32', '1939',\n",
              "       '1938', '1947', '1963', '1959', '1949', '1941', '1932', '1933',\n",
              "       '1934', '1940', '1930', '30', '31', '34', '1935', '1931', '33'],\n",
              "      dtype=object)"
            ]
          },
          "metadata": {},
          "execution_count": 54
        }
      ]
    },
    {
      "cell_type": "code",
      "source": [
        "dados = dados[dados['cover_date'].notna()]\n",
        "dados['cover_date'] = dados['cover_date'].astype(int)"
      ],
      "metadata": {
        "id": "0XdoYXB2pGCH"
      },
      "execution_count": 55,
      "outputs": []
    },
    {
      "cell_type": "code",
      "source": [
        "dados['cover_date'] =  dados['cover_date'].apply(lambda x: x+2000 if 0 <= x < 23  else x)\n",
        "dados['cover_date'] =  dados['cover_date'].apply(lambda x: x+1900 if 22 < x < 100 else x)\n",
        "#dados['cover_date'] =  dados['cover_date'].apply(lambda x: 2022-x if x >= 0 else x)"
      ],
      "metadata": {
        "id": "pZdbeG3mpJco"
      },
      "execution_count": 56,
      "outputs": []
    },
    {
      "cell_type": "code",
      "source": [
        "dados.cover_date.unique()"
      ],
      "metadata": {
        "colab": {
          "base_uri": "https://localhost:8080/"
        },
        "id": "deNkGwUepV3H",
        "outputId": "36f78ffb-3fd5-4872-d9dc-4c0b5f7be198"
      },
      "execution_count": 57,
      "outputs": [
        {
          "output_type": "execute_result",
          "data": {
            "text/plain": [
              "array([1986, 2007, 2022, 1975, 1976, 2006, 2016, 2012, 2008, 1964, 1965,\n",
              "       2002, 2000, 1947, 1949, 1950, 1951, 1952, 1953, 1948, 1954, 1955,\n",
              "       1956, 1957, 1958, 1959, 1960, 2004, 2019, 2017, 2018, 1999, 2014,\n",
              "       2010, 2011, 2005, 2015, 2013, 2009, 2020, 2021, 2003, 1994, 1938,\n",
              "       1939, 1946, 1991, 1987, 1990, 1982, 1997, 1940, 1961, 1962, 1963,\n",
              "       1941, 1966, 1967, 1968, 1969, 1970, 1971, 1972, 1973, 1974, 1942,\n",
              "       1977, 1978, 1979, 1980, 1981, 1983, 1984, 1943, 1985, 1988, 1989,\n",
              "       1992, 1944, 1993, 1995, 1996, 1998, 2001, 1945, 1937, 1935, 1936,\n",
              "       1932, 1933, 1934, 1930, 1931])"
            ]
          },
          "metadata": {},
          "execution_count": 57
        }
      ]
    },
    {
      "cell_type": "code",
      "source": [
        "dados['cover_price'] = dados['cover_price'].str.replace('$', '', regex=True)\n",
        "dados['cover_price'] = dados['cover_price'].str.replace(',', '', regex=True)\n",
        "dados['cover_price'] = dados['cover_price'].str.replace('Free', '0.00', regex=True)\n",
        "dados['cover_price'] = dados.cover_price.astype(float)"
      ],
      "metadata": {
        "id": "f3bfh9OJo6wR"
      },
      "execution_count": 58,
      "outputs": []
    },
    {
      "cell_type": "code",
      "source": [
        "dados['current_value'] = dados['current_value'].str.replace('$', '', regex=True)\n",
        "dados['current_value'] = dados['current_value'].str.replace(',', '', regex=True)\n",
        "dados['current_value'] = dados.current_value.astype(float) "
      ],
      "metadata": {
        "id": "CPGSfo7vn6Nd"
      },
      "execution_count": 59,
      "outputs": []
    },
    {
      "cell_type": "code",
      "source": [
        "dados.describe().T"
      ],
      "metadata": {
        "colab": {
          "base_uri": "https://localhost:8080/",
          "height": 426
        },
        "id": "qlcei6sLvhae",
        "outputId": "15fdcf22-936b-4088-bb7b-fe96f4b5510b"
      },
      "execution_count": 60,
      "outputs": [
        {
          "output_type": "execute_result",
          "data": {
            "text/html": [
              "\n",
              "  <div id=\"df-351858a5-7983-464d-ad00-6ba920b61572\">\n",
              "    <div class=\"colab-df-container\">\n",
              "      <div>\n",
              "<style scoped>\n",
              "    .dataframe tbody tr th:only-of-type {\n",
              "        vertical-align: middle;\n",
              "    }\n",
              "\n",
              "    .dataframe tbody tr th {\n",
              "        vertical-align: top;\n",
              "    }\n",
              "\n",
              "    .dataframe thead th {\n",
              "        text-align: right;\n",
              "    }\n",
              "</style>\n",
              "<table border=\"1\" class=\"dataframe\">\n",
              "  <thead>\n",
              "    <tr style=\"text-align: right;\">\n",
              "      <th></th>\n",
              "      <th>count</th>\n",
              "      <th>mean</th>\n",
              "      <th>std</th>\n",
              "      <th>min</th>\n",
              "      <th>25%</th>\n",
              "      <th>50%</th>\n",
              "      <th>75%</th>\n",
              "      <th>max</th>\n",
              "    </tr>\n",
              "  </thead>\n",
              "  <tbody>\n",
              "    <tr>\n",
              "      <th>cover_date</th>\n",
              "      <td>369707.0</td>\n",
              "      <td>1999.088178</td>\n",
              "      <td>21.576774</td>\n",
              "      <td>1930.0</td>\n",
              "      <td>1988.00</td>\n",
              "      <td>2007.00</td>\n",
              "      <td>2016.00</td>\n",
              "      <td>2022.0</td>\n",
              "    </tr>\n",
              "    <tr>\n",
              "      <th>cover_price</th>\n",
              "      <td>369707.0</td>\n",
              "      <td>4.614027</td>\n",
              "      <td>11.024207</td>\n",
              "      <td>0.0</td>\n",
              "      <td>0.25</td>\n",
              "      <td>2.99</td>\n",
              "      <td>3.99</td>\n",
              "      <td>1399.0</td>\n",
              "    </tr>\n",
              "    <tr>\n",
              "      <th>current_value</th>\n",
              "      <td>369707.0</td>\n",
              "      <td>120.384308</td>\n",
              "      <td>6056.489032</td>\n",
              "      <td>0.0</td>\n",
              "      <td>4.00</td>\n",
              "      <td>5.00</td>\n",
              "      <td>20.00</td>\n",
              "      <td>3000000.0</td>\n",
              "    </tr>\n",
              "    <tr>\n",
              "      <th>searched</th>\n",
              "      <td>369707.0</td>\n",
              "      <td>557.364421</td>\n",
              "      <td>2030.449350</td>\n",
              "      <td>0.0</td>\n",
              "      <td>57.00</td>\n",
              "      <td>150.00</td>\n",
              "      <td>420.00</td>\n",
              "      <td>224080.0</td>\n",
              "    </tr>\n",
              "    <tr>\n",
              "      <th>owned</th>\n",
              "      <td>369707.0</td>\n",
              "      <td>66.494868</td>\n",
              "      <td>173.186117</td>\n",
              "      <td>0.0</td>\n",
              "      <td>2.00</td>\n",
              "      <td>10.00</td>\n",
              "      <td>50.00</td>\n",
              "      <td>6478.0</td>\n",
              "    </tr>\n",
              "    <tr>\n",
              "      <th>pages</th>\n",
              "      <td>202542.0</td>\n",
              "      <td>53.505515</td>\n",
              "      <td>197.738679</td>\n",
              "      <td>0.0</td>\n",
              "      <td>32.00</td>\n",
              "      <td>32.00</td>\n",
              "      <td>36.00</td>\n",
              "      <td>75960.0</td>\n",
              "    </tr>\n",
              "    <tr>\n",
              "      <th>rating</th>\n",
              "      <td>369707.0</td>\n",
              "      <td>0.447844</td>\n",
              "      <td>1.311575</td>\n",
              "      <td>0.0</td>\n",
              "      <td>0.00</td>\n",
              "      <td>0.00</td>\n",
              "      <td>0.00</td>\n",
              "      <td>5.0</td>\n",
              "    </tr>\n",
              "    <tr>\n",
              "      <th>rating_count</th>\n",
              "      <td>369707.0</td>\n",
              "      <td>0.168693</td>\n",
              "      <td>0.634837</td>\n",
              "      <td>0.0</td>\n",
              "      <td>0.00</td>\n",
              "      <td>0.00</td>\n",
              "      <td>0.00</td>\n",
              "      <td>15.0</td>\n",
              "    </tr>\n",
              "    <tr>\n",
              "      <th>pub_id</th>\n",
              "      <td>369707.0</td>\n",
              "      <td>1226.490599</td>\n",
              "      <td>1673.948668</td>\n",
              "      <td>1.0</td>\n",
              "      <td>2.00</td>\n",
              "      <td>396.00</td>\n",
              "      <td>2914.00</td>\n",
              "      <td>8253.0</td>\n",
              "    </tr>\n",
              "    <tr>\n",
              "      <th>issues_total</th>\n",
              "      <td>366599.0</td>\n",
              "      <td>112.020557</td>\n",
              "      <td>227.485964</td>\n",
              "      <td>1.0</td>\n",
              "      <td>9.00</td>\n",
              "      <td>31.00</td>\n",
              "      <td>108.00</td>\n",
              "      <td>1801.0</td>\n",
              "    </tr>\n",
              "    <tr>\n",
              "      <th>pub_titles_total</th>\n",
              "      <td>369707.0</td>\n",
              "      <td>2354.736805</td>\n",
              "      <td>2722.348793</td>\n",
              "      <td>1.0</td>\n",
              "      <td>144.00</td>\n",
              "      <td>697.00</td>\n",
              "      <td>4688.00</td>\n",
              "      <td>7285.0</td>\n",
              "    </tr>\n",
              "    <tr>\n",
              "      <th>pub_issues_total</th>\n",
              "      <td>369707.0</td>\n",
              "      <td>23882.899753</td>\n",
              "      <td>26165.850524</td>\n",
              "      <td>0.0</td>\n",
              "      <td>1321.00</td>\n",
              "      <td>8415.00</td>\n",
              "      <td>57043.00</td>\n",
              "      <td>65535.0</td>\n",
              "    </tr>\n",
              "  </tbody>\n",
              "</table>\n",
              "</div>\n",
              "      <button class=\"colab-df-convert\" onclick=\"convertToInteractive('df-351858a5-7983-464d-ad00-6ba920b61572')\"\n",
              "              title=\"Convert this dataframe to an interactive table.\"\n",
              "              style=\"display:none;\">\n",
              "        \n",
              "  <svg xmlns=\"http://www.w3.org/2000/svg\" height=\"24px\"viewBox=\"0 0 24 24\"\n",
              "       width=\"24px\">\n",
              "    <path d=\"M0 0h24v24H0V0z\" fill=\"none\"/>\n",
              "    <path d=\"M18.56 5.44l.94 2.06.94-2.06 2.06-.94-2.06-.94-.94-2.06-.94 2.06-2.06.94zm-11 1L8.5 8.5l.94-2.06 2.06-.94-2.06-.94L8.5 2.5l-.94 2.06-2.06.94zm10 10l.94 2.06.94-2.06 2.06-.94-2.06-.94-.94-2.06-.94 2.06-2.06.94z\"/><path d=\"M17.41 7.96l-1.37-1.37c-.4-.4-.92-.59-1.43-.59-.52 0-1.04.2-1.43.59L10.3 9.45l-7.72 7.72c-.78.78-.78 2.05 0 2.83L4 21.41c.39.39.9.59 1.41.59.51 0 1.02-.2 1.41-.59l7.78-7.78 2.81-2.81c.8-.78.8-2.07 0-2.86zM5.41 20L4 18.59l7.72-7.72 1.47 1.35L5.41 20z\"/>\n",
              "  </svg>\n",
              "      </button>\n",
              "      \n",
              "  <style>\n",
              "    .colab-df-container {\n",
              "      display:flex;\n",
              "      flex-wrap:wrap;\n",
              "      gap: 12px;\n",
              "    }\n",
              "\n",
              "    .colab-df-convert {\n",
              "      background-color: #E8F0FE;\n",
              "      border: none;\n",
              "      border-radius: 50%;\n",
              "      cursor: pointer;\n",
              "      display: none;\n",
              "      fill: #1967D2;\n",
              "      height: 32px;\n",
              "      padding: 0 0 0 0;\n",
              "      width: 32px;\n",
              "    }\n",
              "\n",
              "    .colab-df-convert:hover {\n",
              "      background-color: #E2EBFA;\n",
              "      box-shadow: 0px 1px 2px rgba(60, 64, 67, 0.3), 0px 1px 3px 1px rgba(60, 64, 67, 0.15);\n",
              "      fill: #174EA6;\n",
              "    }\n",
              "\n",
              "    [theme=dark] .colab-df-convert {\n",
              "      background-color: #3B4455;\n",
              "      fill: #D2E3FC;\n",
              "    }\n",
              "\n",
              "    [theme=dark] .colab-df-convert:hover {\n",
              "      background-color: #434B5C;\n",
              "      box-shadow: 0px 1px 3px 1px rgba(0, 0, 0, 0.15);\n",
              "      filter: drop-shadow(0px 1px 2px rgba(0, 0, 0, 0.3));\n",
              "      fill: #FFFFFF;\n",
              "    }\n",
              "  </style>\n",
              "\n",
              "      <script>\n",
              "        const buttonEl =\n",
              "          document.querySelector('#df-351858a5-7983-464d-ad00-6ba920b61572 button.colab-df-convert');\n",
              "        buttonEl.style.display =\n",
              "          google.colab.kernel.accessAllowed ? 'block' : 'none';\n",
              "\n",
              "        async function convertToInteractive(key) {\n",
              "          const element = document.querySelector('#df-351858a5-7983-464d-ad00-6ba920b61572');\n",
              "          const dataTable =\n",
              "            await google.colab.kernel.invokeFunction('convertToInteractive',\n",
              "                                                     [key], {});\n",
              "          if (!dataTable) return;\n",
              "\n",
              "          const docLinkHtml = 'Like what you see? Visit the ' +\n",
              "            '<a target=\"_blank\" href=https://colab.research.google.com/notebooks/data_table.ipynb>data table notebook</a>'\n",
              "            + ' to learn more about interactive tables.';\n",
              "          element.innerHTML = '';\n",
              "          dataTable['output_type'] = 'display_data';\n",
              "          await google.colab.output.renderOutput(dataTable, element);\n",
              "          const docLink = document.createElement('div');\n",
              "          docLink.innerHTML = docLinkHtml;\n",
              "          element.appendChild(docLink);\n",
              "        }\n",
              "      </script>\n",
              "    </div>\n",
              "  </div>\n",
              "  "
            ],
            "text/plain": [
              "                     count          mean           std     min      25%  \\\n",
              "cover_date        369707.0   1999.088178     21.576774  1930.0  1988.00   \n",
              "cover_price       369707.0      4.614027     11.024207     0.0     0.25   \n",
              "current_value     369707.0    120.384308   6056.489032     0.0     4.00   \n",
              "searched          369707.0    557.364421   2030.449350     0.0    57.00   \n",
              "owned             369707.0     66.494868    173.186117     0.0     2.00   \n",
              "pages             202542.0     53.505515    197.738679     0.0    32.00   \n",
              "rating            369707.0      0.447844      1.311575     0.0     0.00   \n",
              "rating_count      369707.0      0.168693      0.634837     0.0     0.00   \n",
              "pub_id            369707.0   1226.490599   1673.948668     1.0     2.00   \n",
              "issues_total      366599.0    112.020557    227.485964     1.0     9.00   \n",
              "pub_titles_total  369707.0   2354.736805   2722.348793     1.0   144.00   \n",
              "pub_issues_total  369707.0  23882.899753  26165.850524     0.0  1321.00   \n",
              "\n",
              "                      50%       75%        max  \n",
              "cover_date        2007.00   2016.00     2022.0  \n",
              "cover_price          2.99      3.99     1399.0  \n",
              "current_value        5.00     20.00  3000000.0  \n",
              "searched           150.00    420.00   224080.0  \n",
              "owned               10.00     50.00     6478.0  \n",
              "pages               32.00     36.00    75960.0  \n",
              "rating               0.00      0.00        5.0  \n",
              "rating_count         0.00      0.00       15.0  \n",
              "pub_id             396.00   2914.00     8253.0  \n",
              "issues_total        31.00    108.00     1801.0  \n",
              "pub_titles_total   697.00   4688.00     7285.0  \n",
              "pub_issues_total  8415.00  57043.00    65535.0  "
            ]
          },
          "metadata": {},
          "execution_count": 60
        }
      ]
    },
    {
      "cell_type": "markdown",
      "source": [
        "A partir dos dados já corrigidos podemos fazer algumas inferencias\n",
        "\n",
        "1. Mais de 50% titulos forom publicados a partir de 2007, ou seja, mais de 150 mil publicações de menos de 15 anos. \n",
        "2. Podemos fazer uma linha do tempo com a evolução do preço(cover_price) de lançamento dos titulos. \n",
        "3. A variavel ratings(avaliações) possue muitos titulos com 0 de avaliações, o que demonstra que pode inferir que muitos titulos não são populares, e nem procurados. O que é corroborado pela variavel rating_counts(contagem de avaliações). Pois pelo menos de 75% da nosso conjunto de dados não tem sequer uma avaliação feita. Portanto, temos a possibilidade de excluir essa variavel de nossa analise a posterior. Podemos inferir que as avaliações nesse site não são muito utilizadas.\n",
        "4. A variavel searched(buscas) pode ser utilizadas em analises variadas. \n",
        "5. current_value(valor atual) pode ser umas variavel alvo para um projeto de machine learning. Porem temos valores muito discrepantes. \n",
        "6. Owned(Donos) é a uma variavel a ser explorada, e que pode ter correlação com o valor atual.   "
      ],
      "metadata": {
        "id": "6oiAzbDvwN6Q"
      }
    },
    {
      "cell_type": "code",
      "source": [
        "#utilizado quase como um group by\n",
        "#posso fazer de forma diferente, ao inves de criar uma nova columa\n",
        "#dados['title_issue'] = dados['title'] + ' ' + dados['issue']"
      ],
      "metadata": {
        "id": "j499bxMt-bD0"
      },
      "execution_count": 61,
      "outputs": []
    },
    {
      "cell_type": "code",
      "source": [
        "#fazendo um groupby, para teste\n"
      ],
      "metadata": {
        "id": "j6evFSoak1cL"
      },
      "execution_count": 62,
      "outputs": []
    },
    {
      "cell_type": "markdown",
      "source": [
        "Analisando os dados faltantes de todo o conjunto de dados"
      ],
      "metadata": {
        "id": "0JWF02iL6wlG"
      }
    },
    {
      "cell_type": "code",
      "source": [
        "import missingno as msno"
      ],
      "metadata": {
        "id": "ED9bNkR-6dth"
      },
      "execution_count": 63,
      "outputs": []
    },
    {
      "cell_type": "code",
      "source": [
        "msno.matrix(dados);"
      ],
      "metadata": {
        "colab": {
          "base_uri": "https://localhost:8080/",
          "height": 462
        },
        "id": "sfXEdB316kez",
        "outputId": "080f77f4-4f93-4ca6-b793-b61891beed33"
      },
      "execution_count": 64,
      "outputs": [
        {
          "output_type": "display_data",
          "data": {
            "image/png": "[encoded data removed]",
            "text/plain": [
              "<Figure size 1800x720 with 2 Axes>"
            ]
          },
          "metadata": {
            "needs_background": "light"
          }
        }
      ]
    },
    {
      "cell_type": "markdown",
      "source": [
        "Com isso podemos ter uma boa ideia do nosso conjunto de dados. \n",
        "\n",
        "1. as colunas de rating possuem valores zerados tanto para as colunas owned, rating, count_rating. E o que torna mais discrepante ainda é que no minimo 75% dos dados nas rating, count_rating são 0.\n",
        "\n",
        "2. Vamos verificar a distribuição dos valores num histograma"
      ],
      "metadata": {
        "id": "fIcrT0J07yex"
      }
    },
    {
      "cell_type": "code",
      "source": [
        "dados.hist(bins=25, figsize=(20,15));"
      ],
      "metadata": {
        "colab": {
          "base_uri": "https://localhost:8080/",
          "height": 721
        },
        "id": "rnl6cZlW7jII",
        "outputId": "ceb9ceb2-63e6-44e4-e222-b56f4bb74b0b"
      },
      "execution_count": 65,
      "outputs": [
        {
          "output_type": "display_data",
          "data": {
            "image/png": "[encoded data removed]",
            "text/plain": [
              "<Figure size 1440x1080 with 12 Axes>"
            ]
          },
          "metadata": {
            "needs_background": "light"
          }
        }
      ]
    },
    {
      "cell_type": "markdown",
      "source": [
        "# TITLE"
      ],
      "metadata": {
        "id": "wQ6wOc8Jm1Do"
      }
    },
    {
      "cell_type": "code",
      "source": [
        "contagem = dados.title.value_counts().to_frame().reset_index().iloc[:10]"
      ],
      "metadata": {
        "id": "bSGS6DIPmzzi"
      },
      "execution_count": 66,
      "outputs": []
    },
    {
      "cell_type": "code",
      "source": [
        "contagem.head(3)"
      ],
      "metadata": {
        "colab": {
          "base_uri": "https://localhost:8080/",
          "height": 143
        },
        "id": "b8ErZAHNo77U",
        "outputId": "41cb6271-fee9-4e81-ddd3-bfa600d63b1f"
      },
      "execution_count": 67,
      "outputs": [
        {
          "output_type": "execute_result",
          "data": {
            "text/html": [
              "\n",
              "  <div id=\"df-1759a626-97e6-44b4-8a5d-ceac0bf8170c\">\n",
              "    <div class=\"colab-df-container\">\n",
              "      <div>\n",
              "<style scoped>\n",
              "    .dataframe tbody tr th:only-of-type {\n",
              "        vertical-align: middle;\n",
              "    }\n",
              "\n",
              "    .dataframe tbody tr th {\n",
              "        vertical-align: top;\n",
              "    }\n",
              "\n",
              "    .dataframe thead th {\n",
              "        text-align: right;\n",
              "    }\n",
              "</style>\n",
              "<table border=\"1\" class=\"dataframe\">\n",
              "  <thead>\n",
              "    <tr style=\"text-align: right;\">\n",
              "      <th></th>\n",
              "      <th>index</th>\n",
              "      <th>title</th>\n",
              "    </tr>\n",
              "  </thead>\n",
              "  <tbody>\n",
              "    <tr>\n",
              "      <th>0</th>\n",
              "      <td>Amazing Spider-Man</td>\n",
              "      <td>2301</td>\n",
              "    </tr>\n",
              "    <tr>\n",
              "      <th>1</th>\n",
              "      <td>March of Comics</td>\n",
              "      <td>1765</td>\n",
              "    </tr>\n",
              "    <tr>\n",
              "      <th>2</th>\n",
              "      <td>Batman</td>\n",
              "      <td>1727</td>\n",
              "    </tr>\n",
              "  </tbody>\n",
              "</table>\n",
              "</div>\n",
              "      <button class=\"colab-df-convert\" onclick=\"convertToInteractive('df-1759a626-97e6-44b4-8a5d-ceac0bf8170c')\"\n",
              "              title=\"Convert this dataframe to an interactive table.\"\n",
              "              style=\"display:none;\">\n",
              "        \n",
              "  <svg xmlns=\"http://www.w3.org/2000/svg\" height=\"24px\"viewBox=\"0 0 24 24\"\n",
              "       width=\"24px\">\n",
              "    <path d=\"M0 0h24v24H0V0z\" fill=\"none\"/>\n",
              "    <path d=\"M18.56 5.44l.94 2.06.94-2.06 2.06-.94-2.06-.94-.94-2.06-.94 2.06-2.06.94zm-11 1L8.5 8.5l.94-2.06 2.06-.94-2.06-.94L8.5 2.5l-.94 2.06-2.06.94zm10 10l.94 2.06.94-2.06 2.06-.94-2.06-.94-.94-2.06-.94 2.06-2.06.94z\"/><path d=\"M17.41 7.96l-1.37-1.37c-.4-.4-.92-.59-1.43-.59-.52 0-1.04.2-1.43.59L10.3 9.45l-7.72 7.72c-.78.78-.78 2.05 0 2.83L4 21.41c.39.39.9.59 1.41.59.51 0 1.02-.2 1.41-.59l7.78-7.78 2.81-2.81c.8-.78.8-2.07 0-2.86zM5.41 20L4 18.59l7.72-7.72 1.47 1.35L5.41 20z\"/>\n",
              "  </svg>\n",
              "      </button>\n",
              "      \n",
              "  <style>\n",
              "    .colab-df-container {\n",
              "      display:flex;\n",
              "      flex-wrap:wrap;\n",
              "      gap: 12px;\n",
              "    }\n",
              "\n",
              "    .colab-df-convert {\n",
              "      background-color: #E8F0FE;\n",
              "      border: none;\n",
              "      border-radius: 50%;\n",
              "      cursor: pointer;\n",
              "      display: none;\n",
              "      fill: #1967D2;\n",
              "      height: 32px;\n",
              "      padding: 0 0 0 0;\n",
              "      width: 32px;\n",
              "    }\n",
              "\n",
              "    .colab-df-convert:hover {\n",
              "      background-color: #E2EBFA;\n",
              "      box-shadow: 0px 1px 2px rgba(60, 64, 67, 0.3), 0px 1px 3px 1px rgba(60, 64, 67, 0.15);\n",
              "      fill: #174EA6;\n",
              "    }\n",
              "\n",
              "    [theme=dark] .colab-df-convert {\n",
              "      background-color: #3B4455;\n",
              "      fill: #D2E3FC;\n",
              "    }\n",
              "\n",
              "    [theme=dark] .colab-df-convert:hover {\n",
              "      background-color: #434B5C;\n",
              "      box-shadow: 0px 1px 3px 1px rgba(0, 0, 0, 0.15);\n",
              "      filter: drop-shadow(0px 1px 2px rgba(0, 0, 0, 0.3));\n",
              "      fill: #FFFFFF;\n",
              "    }\n",
              "  </style>\n",
              "\n",
              "      <script>\n",
              "        const buttonEl =\n",
              "          document.querySelector('#df-1759a626-97e6-44b4-8a5d-ceac0bf8170c button.colab-df-convert');\n",
              "        buttonEl.style.display =\n",
              "          google.colab.kernel.accessAllowed ? 'block' : 'none';\n",
              "\n",
              "        async function convertToInteractive(key) {\n",
              "          const element = document.querySelector('#df-1759a626-97e6-44b4-8a5d-ceac0bf8170c');\n",
              "          const dataTable =\n",
              "            await google.colab.kernel.invokeFunction('convertToInteractive',\n",
              "                                                     [key], {});\n",
              "          if (!dataTable) return;\n",
              "\n",
              "          const docLinkHtml = 'Like what you see? Visit the ' +\n",
              "            '<a target=\"_blank\" href=https://colab.research.google.com/notebooks/data_table.ipynb>data table notebook</a>'\n",
              "            + ' to learn more about interactive tables.';\n",
              "          element.innerHTML = '';\n",
              "          dataTable['output_type'] = 'display_data';\n",
              "          await google.colab.output.renderOutput(dataTable, element);\n",
              "          const docLink = document.createElement('div');\n",
              "          docLink.innerHTML = docLinkHtml;\n",
              "          element.appendChild(docLink);\n",
              "        }\n",
              "      </script>\n",
              "    </div>\n",
              "  </div>\n",
              "  "
            ],
            "text/plain": [
              "                index  title\n",
              "0  Amazing Spider-Man   2301\n",
              "1     March of Comics   1765\n",
              "2              Batman   1727"
            ]
          },
          "metadata": {},
          "execution_count": 67
        }
      ]
    },
    {
      "cell_type": "code",
      "source": [
        "contagem.columns = ['title', 'Contagem']"
      ],
      "metadata": {
        "id": "-5pUjiX-o1Ng"
      },
      "execution_count": 68,
      "outputs": []
    },
    {
      "cell_type": "code",
      "source": [
        "plt.bar(x=contagem['title'], height=contagem['Contagem'])\n",
        "plt.xticks(rotation = 45)"
      ],
      "metadata": {
        "colab": {
          "base_uri": "https://localhost:8080/",
          "height": 352
        },
        "id": "2Lt_5OpJm_Ic",
        "outputId": "7580f111-0229-40c4-d264-ebfa5e157b8e"
      },
      "execution_count": 69,
      "outputs": [
        {
          "output_type": "execute_result",
          "data": {
            "text/plain": [
              "([0, 1, 2, 3, 4, 5, 6, 7, 8, 9], <a list of 10 Text major ticklabel objects>)"
            ]
          },
          "metadata": {},
          "execution_count": 69
        },
        {
          "output_type": "display_data",
          "data": {
            "image/png": "[encoded data removed]",
            "text/plain": [
              "<Figure size 432x288 with 1 Axes>"
            ]
          },
          "metadata": {
            "needs_background": "light"
          }
        }
      ]
    },
    {
      "cell_type": "markdown",
      "source": [
        "# ISSUE"
      ],
      "metadata": {
        "id": "yJU005UmrRH_"
      }
    },
    {
      "cell_type": "code",
      "source": [
        "contagem_issue = dados.issue.value_counts().to_frame().reset_index().iloc[:10]"
      ],
      "metadata": {
        "id": "g4ggbP2ur-ON"
      },
      "execution_count": 70,
      "outputs": []
    },
    {
      "cell_type": "code",
      "source": [
        "contagem_issue.columns = ['issue', 'Contagem']"
      ],
      "metadata": {
        "id": "VQza3xhIs8yE"
      },
      "execution_count": 71,
      "outputs": []
    },
    {
      "cell_type": "code",
      "source": [
        "contagem_issue.issue.unique()"
      ],
      "metadata": {
        "colab": {
          "base_uri": "https://localhost:8080/"
        },
        "id": "cGH-k40xskBM",
        "outputId": "b215d5d6-fbd3-48c1-b35d-0a7e562667d7"
      },
      "execution_count": 72,
      "outputs": [
        {
          "output_type": "execute_result",
          "data": {
            "text/plain": [
              "array(['# 1', '# 2', '# 3', '# 4', '# 5', '# 1b', '# 6', '# 7', '# 8',\n",
              "       '# 9'], dtype=object)"
            ]
          },
          "metadata": {},
          "execution_count": 72
        }
      ]
    },
    {
      "cell_type": "code",
      "source": [
        "plt.bar(x=contagem_issue['issue'], height=contagem_issue['Contagem'])\n",
        "plt.xticks(rotation = 45);"
      ],
      "metadata": {
        "colab": {
          "base_uri": "https://localhost:8080/",
          "height": 279
        },
        "id": "9vG-pyP5tb1f",
        "outputId": "219c6636-f9a3-4ca4-c5b8-a704ed3288c4"
      },
      "execution_count": 73,
      "outputs": [
        {
          "output_type": "display_data",
          "data": {
            "image/png": "[encoded data removed]",
            "text/plain": [
              "<Figure size 432x288 with 1 Axes>"
            ]
          },
          "metadata": {
            "needs_background": "light"
          }
        }
      ]
    },
    {
      "cell_type": "markdown",
      "source": [
        "# COVER DATE"
      ],
      "metadata": {
        "id": "4BHxXLeLbX-9"
      }
    },
    {
      "cell_type": "code",
      "source": [
        "plt.subplot(2,1,1)\n",
        "dados.cover_date.hist()\n",
        "\n",
        "plt.subplot(2,1,2)\n",
        "ax = sns.boxplot(x=dados.cover_date)\n",
        "ax.set(xlabel=\"Procura por titulo\")\n",
        "\n",
        "\n",
        "plt.show()"
      ],
      "metadata": {
        "colab": {
          "base_uri": "https://localhost:8080/",
          "height": 279
        },
        "id": "Dwn_ZjoEbXsz",
        "outputId": "f0b25433-531c-48c1-922c-b26893beaeee"
      },
      "execution_count": 74,
      "outputs": [
        {
          "output_type": "display_data",
          "data": {
            "image/png": "[encoded data removed]",
            "text/plain": [
              "<Figure size 432x288 with 2 Axes>"
            ]
          },
          "metadata": {
            "needs_background": "light"
          }
        }
      ]
    },
    {
      "cell_type": "markdown",
      "source": [
        "# COVER PRICE"
      ],
      "metadata": {
        "id": "yCo9x-oVcInN"
      }
    },
    {
      "cell_type": "code",
      "source": [
        "dados.cover_price.quantile(0.95)"
      ],
      "metadata": {
        "colab": {
          "base_uri": "https://localhost:8080/"
        },
        "id": "nh04Imitd1ca",
        "outputId": "4e96ebb9-32b3-4e60-bcdb-486bab47cb0f"
      },
      "execution_count": 75,
      "outputs": [
        {
          "output_type": "execute_result",
          "data": {
            "text/plain": [
              "16.95"
            ]
          },
          "metadata": {},
          "execution_count": 75
        }
      ]
    },
    {
      "cell_type": "code",
      "source": [
        "dados.query('cover_price == 0').cover_price.count()"
      ],
      "metadata": {
        "colab": {
          "base_uri": "https://localhost:8080/"
        },
        "id": "LgyJo5zOcIMa",
        "outputId": "99dcb2c9-932a-4060-8392-b8c1e429fc28"
      },
      "execution_count": 223,
      "outputs": [
        {
          "output_type": "execute_result",
          "data": {
            "text/plain": [
              "38706"
            ]
          },
          "metadata": {},
          "execution_count": 223
        }
      ]
    },
    {
      "cell_type": "markdown",
      "source": [
        "38706 titulos foram distribuidos de graça"
      ],
      "metadata": {
        "id": "HdqDRCqvew_M"
      }
    },
    {
      "cell_type": "markdown",
      "source": [
        "# CURRENT VALUE"
      ],
      "metadata": {
        "id": "9sopKu9vkpKl"
      }
    },
    {
      "cell_type": "code",
      "source": [
        "dados.current_value.quantile(0.95)"
      ],
      "metadata": {
        "colab": {
          "base_uri": "https://localhost:8080/"
        },
        "id": "ykynZNW_lLtm",
        "outputId": "e7fd700c-d794-40fa-e643-7e3fb931e5c6"
      },
      "execution_count": 230,
      "outputs": [
        {
          "output_type": "execute_result",
          "data": {
            "text/plain": [
              "225.0"
            ]
          },
          "metadata": {},
          "execution_count": 230
        }
      ]
    },
    {
      "cell_type": "code",
      "source": [
        "plt.subplot(2,1,1)\n",
        "dados.query('current_value <= 225 ').current_value.hist(bins=30)\n",
        "plt.title('Distribuição de preço atual até o 0.95 quantil')\n",
        "\n",
        "plt.subplot(2,1,2)\n",
        "ax = sns.boxplot(x=dados.query('current_value <= 225').current_value)\n",
        "ax.set(xlabel=\"Preço de atual\")\n",
        "\n",
        "\n",
        "plt.show()"
      ],
      "metadata": {
        "colab": {
          "base_uri": "https://localhost:8080/",
          "height": 513
        },
        "outputId": "317cbeb2-dd79-4fbb-d20e-7c2532f5720c",
        "id": "78MZROrjlp4x"
      },
      "execution_count": null,
      "outputs": [
        {
          "output_type": "display_data",
          "data": {
            "image/png": "[encoded data removed]",
            "text/plain": [
              "<Figure size 1080x576 with 2 Axes>"
            ]
          },
          "metadata": {
            "needs_background": "light"
          }
        }
      ]
    },
    {
      "cell_type": "markdown",
      "source": [
        "# PAGES"
      ],
      "metadata": {
        "id": "Al6R4D-pS-0G"
      }
    },
    {
      "cell_type": "code",
      "source": [
        "dados.reset_index(inplace = True)"
      ],
      "metadata": {
        "id": "eBvKSCx3-_Xg"
      },
      "execution_count": 66,
      "outputs": []
    },
    {
      "cell_type": "code",
      "source": [
        "dados.drop(['index'], axis = 1, inplace = True)"
      ],
      "metadata": {
        "id": "C1gbgckO_Xzb"
      },
      "execution_count": 67,
      "outputs": []
    },
    {
      "cell_type": "code",
      "source": [
        "dados.query(\"pages > 10000 \")"
      ],
      "metadata": {
        "colab": {
          "base_uri": "https://localhost:8080/",
          "height": 226
        },
        "id": "0NvCq4-b4Gvg",
        "outputId": "cd9e51ad-bb00-44ca-aa98-f1ef870705e1"
      },
      "execution_count": 68,
      "outputs": [
        {
          "output_type": "execute_result",
          "data": {
            "text/html": [
              "\n",
              "  <div id=\"df-2ee738f0-0352-4455-a4ee-c10c559464ae\">\n",
              "    <div class=\"colab-df-container\">\n",
              "      <div>\n",
              "<style scoped>\n",
              "    .dataframe tbody tr th:only-of-type {\n",
              "        vertical-align: middle;\n",
              "    }\n",
              "\n",
              "    .dataframe tbody tr th {\n",
              "        vertical-align: top;\n",
              "    }\n",
              "\n",
              "    .dataframe thead th {\n",
              "        text-align: right;\n",
              "    }\n",
              "</style>\n",
              "<table border=\"1\" class=\"dataframe\">\n",
              "  <thead>\n",
              "    <tr style=\"text-align: right;\">\n",
              "      <th></th>\n",
              "      <th>title</th>\n",
              "      <th>issue</th>\n",
              "      <th>cover_date</th>\n",
              "      <th>cover_price</th>\n",
              "      <th>current_value</th>\n",
              "      <th>searched</th>\n",
              "      <th>owned</th>\n",
              "      <th>pages</th>\n",
              "      <th>rating</th>\n",
              "      <th>rating_count</th>\n",
              "      <th>...</th>\n",
              "      <th>contributors_names</th>\n",
              "      <th>contributors_roles</th>\n",
              "      <th>characters</th>\n",
              "      <th>pub_id</th>\n",
              "      <th>volume</th>\n",
              "      <th>years</th>\n",
              "      <th>issues_total</th>\n",
              "      <th>pub_name</th>\n",
              "      <th>pub_titles_total</th>\n",
              "      <th>pub_issues_total</th>\n",
              "    </tr>\n",
              "  </thead>\n",
              "  <tbody>\n",
              "    <tr>\n",
              "      <th>135293</th>\n",
              "      <td>Warhammer 40000: Marneus Calgar</td>\n",
              "      <td># 1-2nd print</td>\n",
              "      <td>2021</td>\n",
              "      <td>4.99</td>\n",
              "      <td>5.0</td>\n",
              "      <td>319</td>\n",
              "      <td>0</td>\n",
              "      <td>75960.0</td>\n",
              "      <td>0.0</td>\n",
              "      <td>0</td>\n",
              "      <td>...</td>\n",
              "      <td>no contributors assigned</td>\n",
              "      <td>no contributors assigned</td>\n",
              "      <td>no characters assigned</td>\n",
              "      <td>2.0</td>\n",
              "      <td>NaN</td>\n",
              "      <td>2020 - 2021</td>\n",
              "      <td>14.0</td>\n",
              "      <td>Marvel Comics</td>\n",
              "      <td>7285</td>\n",
              "      <td>65535</td>\n",
              "    </tr>\n",
              "  </tbody>\n",
              "</table>\n",
              "<p>1 rows × 25 columns</p>\n",
              "</div>\n",
              "      <button class=\"colab-df-convert\" onclick=\"convertToInteractive('df-2ee738f0-0352-4455-a4ee-c10c559464ae')\"\n",
              "              title=\"Convert this dataframe to an interactive table.\"\n",
              "              style=\"display:none;\">\n",
              "        \n",
              "  <svg xmlns=\"http://www.w3.org/2000/svg\" height=\"24px\"viewBox=\"0 0 24 24\"\n",
              "       width=\"24px\">\n",
              "    <path d=\"M0 0h24v24H0V0z\" fill=\"none\"/>\n",
              "    <path d=\"M18.56 5.44l.94 2.06.94-2.06 2.06-.94-2.06-.94-.94-2.06-.94 2.06-2.06.94zm-11 1L8.5 8.5l.94-2.06 2.06-.94-2.06-.94L8.5 2.5l-.94 2.06-2.06.94zm10 10l.94 2.06.94-2.06 2.06-.94-2.06-.94-.94-2.06-.94 2.06-2.06.94z\"/><path d=\"M17.41 7.96l-1.37-1.37c-.4-.4-.92-.59-1.43-.59-.52 0-1.04.2-1.43.59L10.3 9.45l-7.72 7.72c-.78.78-.78 2.05 0 2.83L4 21.41c.39.39.9.59 1.41.59.51 0 1.02-.2 1.41-.59l7.78-7.78 2.81-2.81c.8-.78.8-2.07 0-2.86zM5.41 20L4 18.59l7.72-7.72 1.47 1.35L5.41 20z\"/>\n",
              "  </svg>\n",
              "      </button>\n",
              "      \n",
              "  <style>\n",
              "    .colab-df-container {\n",
              "      display:flex;\n",
              "      flex-wrap:wrap;\n",
              "      gap: 12px;\n",
              "    }\n",
              "\n",
              "    .colab-df-convert {\n",
              "      background-color: #E8F0FE;\n",
              "      border: none;\n",
              "      border-radius: 50%;\n",
              "      cursor: pointer;\n",
              "      display: none;\n",
              "      fill: #1967D2;\n",
              "      height: 32px;\n",
              "      padding: 0 0 0 0;\n",
              "      width: 32px;\n",
              "    }\n",
              "\n",
              "    .colab-df-convert:hover {\n",
              "      background-color: #E2EBFA;\n",
              "      box-shadow: 0px 1px 2px rgba(60, 64, 67, 0.3), 0px 1px 3px 1px rgba(60, 64, 67, 0.15);\n",
              "      fill: #174EA6;\n",
              "    }\n",
              "\n",
              "    [theme=dark] .colab-df-convert {\n",
              "      background-color: #3B4455;\n",
              "      fill: #D2E3FC;\n",
              "    }\n",
              "\n",
              "    [theme=dark] .colab-df-convert:hover {\n",
              "      background-color: #434B5C;\n",
              "      box-shadow: 0px 1px 3px 1px rgba(0, 0, 0, 0.15);\n",
              "      filter: drop-shadow(0px 1px 2px rgba(0, 0, 0, 0.3));\n",
              "      fill: #FFFFFF;\n",
              "    }\n",
              "  </style>\n",
              "\n",
              "      <script>\n",
              "        const buttonEl =\n",
              "          document.querySelector('#df-2ee738f0-0352-4455-a4ee-c10c559464ae button.colab-df-convert');\n",
              "        buttonEl.style.display =\n",
              "          google.colab.kernel.accessAllowed ? 'block' : 'none';\n",
              "\n",
              "        async function convertToInteractive(key) {\n",
              "          const element = document.querySelector('#df-2ee738f0-0352-4455-a4ee-c10c559464ae');\n",
              "          const dataTable =\n",
              "            await google.colab.kernel.invokeFunction('convertToInteractive',\n",
              "                                                     [key], {});\n",
              "          if (!dataTable) return;\n",
              "\n",
              "          const docLinkHtml = 'Like what you see? Visit the ' +\n",
              "            '<a target=\"_blank\" href=https://colab.research.google.com/notebooks/data_table.ipynb>data table notebook</a>'\n",
              "            + ' to learn more about interactive tables.';\n",
              "          element.innerHTML = '';\n",
              "          dataTable['output_type'] = 'display_data';\n",
              "          await google.colab.output.renderOutput(dataTable, element);\n",
              "          const docLink = document.createElement('div');\n",
              "          docLink.innerHTML = docLinkHtml;\n",
              "          element.appendChild(docLink);\n",
              "        }\n",
              "      </script>\n",
              "    </div>\n",
              "  </div>\n",
              "  "
            ],
            "text/plain": [
              "                                  title          issue  cover_date  \\\n",
              "135293  Warhammer 40000: Marneus Calgar  # 1-2nd print        2021   \n",
              "\n",
              "        cover_price  current_value  searched  owned    pages  rating  \\\n",
              "135293         4.99            5.0       319      0  75960.0     0.0   \n",
              "\n",
              "        rating_count  ...        contributors_names        contributors_roles  \\\n",
              "135293             0  ...  no contributors assigned  no contributors assigned   \n",
              "\n",
              "                    characters pub_id volume        years issues_total  \\\n",
              "135293  no characters assigned    2.0    NaN  2020 - 2021         14.0   \n",
              "\n",
              "             pub_name  pub_titles_total pub_issues_total  \n",
              "135293  Marvel Comics              7285            65535  \n",
              "\n",
              "[1 rows x 25 columns]"
            ]
          },
          "metadata": {},
          "execution_count": 68
        }
      ]
    },
    {
      "cell_type": "code",
      "source": [
        "dados['pages'].iloc[135293] = 128"
      ],
      "metadata": {
        "id": "p0CEnJp79PWk"
      },
      "execution_count": 72,
      "outputs": []
    },
    {
      "cell_type": "code",
      "source": [
        "dados['pages'].iloc[135293]"
      ],
      "metadata": {
        "colab": {
          "base_uri": "https://localhost:8080/"
        },
        "id": "0ImE3zYd_5q8",
        "outputId": "d8de5d5a-2472-414e-db82-de7da6388a71"
      },
      "execution_count": 73,
      "outputs": [
        {
          "output_type": "execute_result",
          "data": {
            "text/plain": [
              "128.0"
            ]
          },
          "metadata": {},
          "execution_count": 73
        }
      ]
    },
    {
      "cell_type": "code",
      "source": [
        "plt.subplot(1,2,1)\n",
        "dados.query('10 <= pages < 100').pages.hist()\n",
        "plt.title('Distribuição entre 10 e 100 paginas')\n",
        "\n",
        "plt.subplot(1,2,2)\n",
        "dados.query('100 <= pages < 500').pages.hist()\n",
        "plt.title('Distribuição entre 100 e 500 paginas')\n",
        "plt.show()"
      ],
      "metadata": {
        "colab": {
          "base_uri": "https://localhost:8080/",
          "height": 499
        },
        "id": "yqG-6oOQRyun",
        "outputId": "8cce71f7-b2ef-4d5d-d49a-3ee7c0aa5491"
      },
      "execution_count": 184,
      "outputs": [
        {
          "output_type": "display_data",
          "data": {
            "image/png": "[encoded data removed]",
            "text/plain": [
              "<Figure size 1080x576 with 2 Axes>"
            ]
          },
          "metadata": {
            "needs_background": "light"
          }
        }
      ]
    },
    {
      "cell_type": "code",
      "source": [
        "plt.subplot(2,1,1)\n",
        "ax = sns.distplot(x=dados.query('10 <= pages < 100' ).pages, kde=False, bins = 15, );\n",
        "\n",
        "plt.subplot(2,1,2)\n",
        "ax2 = sns.boxplot(x=dados.query('10 <= pages < 100').pages)\n",
        "\n",
        "plt.show()"
      ],
      "metadata": {
        "colab": {
          "base_uri": "https://localhost:8080/",
          "height": 497
        },
        "id": "S66kBavpABaz",
        "outputId": "a4467d25-5f84-4fc8-d3f2-14c1ba3b1c47"
      },
      "execution_count": 186,
      "outputs": [
        {
          "output_type": "display_data",
          "data": {
            "image/png": "[encoded data removed]",
            "text/plain": [
              "<Figure size 1080x576 with 2 Axes>"
            ]
          },
          "metadata": {
            "needs_background": "light"
          }
        }
      ]
    },
    {
      "cell_type": "code",
      "source": [
        "dados.query('0 <= pages < 10' ).pages.count()"
      ],
      "metadata": {
        "colab": {
          "base_uri": "https://localhost:8080/"
        },
        "id": "8u5t9ay_Yajh",
        "outputId": "23cee99e-95e9-470a-cab4-84aa0e125a8d"
      },
      "execution_count": 187,
      "outputs": [
        {
          "output_type": "execute_result",
          "data": {
            "text/plain": [
              "678"
            ]
          },
          "metadata": {},
          "execution_count": 187
        }
      ]
    },
    {
      "cell_type": "code",
      "source": [
        "dados.pages.isnull().sum()"
      ],
      "metadata": {
        "colab": {
          "base_uri": "https://localhost:8080/"
        },
        "id": "z9IslSY8YheX",
        "outputId": "7712fb48-db33-480b-f215-512d322cfa9a"
      },
      "execution_count": 188,
      "outputs": [
        {
          "output_type": "execute_result",
          "data": {
            "text/plain": [
              "167165"
            ]
          },
          "metadata": {},
          "execution_count": 188
        }
      ]
    },
    {
      "cell_type": "markdown",
      "source": [
        "## ANALISE DA VARIÁVEL RATING"
      ],
      "metadata": {
        "id": "AsRmw2oi4B-R"
      }
    },
    {
      "cell_type": "code",
      "source": [
        "print('tamanho da amostra:', len(dados['rating']))\n",
        "ax = sns.distplot(x=dados['rating'], kde = False)\n",
        "ax.set(title = 'Distibuição amostral das Notas Médias', xlabel = 'Notas Médias', ylabel='Frequencia');"
      ],
      "metadata": {
        "colab": {
          "base_uri": "https://localhost:8080/",
          "height": 312
        },
        "id": "YfkupY0X97AX",
        "outputId": "aca7e969-c620-4a7f-becb-8d6763a9fc48"
      },
      "execution_count": 15,
      "outputs": [
        {
          "output_type": "stream",
          "name": "stdout",
          "text": [
            "tamanho da amostra: 369707\n"
          ]
        },
        {
          "output_type": "display_data",
          "data": {
            "image/png": "[encoded data removed]",
            "text/plain": [
              "<Figure size 432x288 with 1 Axes>"
            ]
          },
          "metadata": {
            "needs_background": "light"
          }
        }
      ]
    },
    {
      "cell_type": "markdown",
      "source": [
        "Percebemos uma quantidade muita grande de notas médias 0 que as outras notas. "
      ],
      "metadata": {
        "id": "3B5n7sEgaIgq"
      }
    },
    {
      "cell_type": "code",
      "source": [
        "ratings_maior_zero = dados.query('rating > 0')\n",
        "print('tamanho da amostra:',len(ratings_maior_zero.rating))\n",
        "ax = sns.distplot(ratings_maior_zero.rating, kde = False)\n",
        "ax.set(title='Distribuição da amostra das notas médias maiores que zero', ylabel = 'Frequencia', xlabel = 'Notas Médias')"
      ],
      "metadata": {
        "colab": {
          "base_uri": "https://localhost:8080/",
          "height": 364
        },
        "id": "-oYfOgSv_YLb",
        "outputId": "19f3183c-922a-4e46-c4ef-978dc06e83c0"
      },
      "execution_count": 16,
      "outputs": [
        {
          "output_type": "stream",
          "name": "stdout",
          "text": [
            "tamanho da amostra: 40114\n"
          ]
        },
        {
          "output_type": "execute_result",
          "data": {
            "text/plain": [
              "[Text(0, 0.5, 'Frequencia'),\n",
              " Text(0.5, 0, 'Notas Médias'),\n",
              " Text(0.5, 1.0, 'Distribuição da amostra das notas médias maiores que zero')]"
            ]
          },
          "metadata": {},
          "execution_count": 16
        },
        {
          "output_type": "display_data",
          "data": {
            "image/png": "[encoded data removed]",
            "text/plain": [
              "<Figure size 432x288 with 1 Axes>"
            ]
          },
          "metadata": {
            "needs_background": "light"
          }
        }
      ]
    },
    {
      "cell_type": "code",
      "source": [
        "ax = sns.distplot(ratings_maior_zero.rating, hist_kws = {'cumulative':True},\n",
        "                          kde_kws = {'cumulative':True});\n",
        "ax.set(title='Distribuição da amostra das notas médias maiores que zero', ylabel = '% acumulativa', xlabel = 'Notas Médias');"
      ],
      "metadata": {
        "colab": {
          "base_uri": "https://localhost:8080/",
          "height": 295
        },
        "id": "myINSLr6r0TK",
        "outputId": "befaffd6-48b6-4148-9f5b-1b6c6e1537f4"
      },
      "execution_count": 17,
      "outputs": [
        {
          "output_type": "display_data",
          "data": {
            "image/png": "[encoded data removed]",
            "text/plain": [
              "<Figure size 432x288 with 1 Axes>"
            ]
          },
          "metadata": {
            "needs_background": "light"
          }
        }
      ]
    },
    {
      "cell_type": "markdown",
      "source": [
        "Podemos ter somente um voto para cada comics, vamos verificar quantos desses votos teve somente um votante. "
      ],
      "metadata": {
        "id": "r3hNdNbyBCaE"
      }
    },
    {
      "cell_type": "code",
      "source": [
        "count_igual_1 = ratings_maior_zero.query('rating_count == 1')\n",
        "count_maior_5 = ratings_maior_zero.query('rating_count >= 5')\n",
        "print('receberam somente 1 review:', len(count_igual_1['rating_count']))\n",
        "print('receberam mais que 4 reviews:', len(count_maior_5['rating_count']))\n",
        "print('quantidade total dos que receperam pelo menos 1 review:', len(ratings_maior_zero))\n",
        "print('------------------------------------------------------------------------------------------------------------')\n",
        "print('quantidade de titulos que recebream mais que 1 review', 42284-29889)\n",
        "print('quantidade que recebeu menos que 5 reviews:', 42284-1393)"
      ],
      "metadata": {
        "colab": {
          "base_uri": "https://localhost:8080/"
        },
        "id": "DWcojrnG_lkr",
        "outputId": "7e1271c2-4bc8-419d-b6f6-62ef6c800219"
      },
      "execution_count": 18,
      "outputs": [
        {
          "output_type": "stream",
          "name": "stdout",
          "text": [
            "receberam somente 1 review: 28168\n",
            "receberam mais que 4 reviews: 1361\n",
            "quantidade total dos que receperam pelo menos 1 review: 40114\n",
            "------------------------------------------------------------------------------------------------------------\n",
            "quantidade de titulos que recebream mais que 1 review 12395\n",
            "quantidade que recebeu menos que 5 reviews: 40891\n"
          ]
        }
      ]
    },
    {
      "cell_type": "markdown",
      "source": [
        "#SEARCHED"
      ],
      "metadata": {
        "id": "Oa_uUARB3wXy"
      }
    },
    {
      "cell_type": "code",
      "source": [
        "print('tamanho da amostra:', len(dados.searched))\n",
        "plt.subplot(2,1,1)\n",
        "ax = sns.distplot(x=dados.searched, kde=False);\n",
        "ax.set(title = 'Distibuição amostral de Searched',ylabel='Frequencia');\n",
        "\n",
        "plt.subplot(2,1,2)\n",
        "ax = sns.boxplot(x=dados.searched)\n",
        "ax.set(xlabel=\"Procura por titulo\")\n",
        "\n",
        "\n",
        "plt.show()"
      ],
      "metadata": {
        "colab": {
          "base_uri": "https://localhost:8080/",
          "height": 530
        },
        "id": "LPavz9JTyckI",
        "outputId": "a002b73d-eb79-424e-c9f5-671ddcbfe569"
      },
      "execution_count": 192,
      "outputs": [
        {
          "output_type": "stream",
          "name": "stdout",
          "text": [
            "tamanho da amostra: 369707\n"
          ]
        },
        {
          "output_type": "display_data",
          "data": {
            "image/png": "[encoded data removed]",
            "text/plain": [
              "<Figure size 1080x576 with 2 Axes>"
            ]
          },
          "metadata": {
            "needs_background": "light"
          }
        }
      ]
    },
    {
      "cell_type": "markdown",
      "source": [
        "A distribuição das vezes que um Comics foi pesquisado, parece possuir muitos valores proximos de zero, vamos verificar:"
      ],
      "metadata": {
        "id": "PAzX9PLCesV8"
      }
    },
    {
      "cell_type": "code",
      "source": [
        "print('igual à 0:  ', dados.query(\"searched == 0\").searched.count())\n",
        "print('maior que 1:', dados.query(\"searched > 1\").searched.count())\n",
        "print('maior que 50:', dados.query(\"searched > 50\").searched.count())\n",
        "print('maior que 500:', dados.query(\"searched > 500\").searched.count())\n",
        "print('maior que 5000:', dados.query(\"searched > 5000\").searched.count())\n",
        "print('maior que 50000:', dados.query(\"searched > 50000\").searched.count())\n",
        "print('maior que 100000:', dados.query(\"searched > 100000\").searched.count())"
      ],
      "metadata": {
        "colab": {
          "base_uri": "https://localhost:8080/"
        },
        "id": "eG_tcgHserJz",
        "outputId": "7801658e-56fb-4d91-b357-1cf004e6f2b5"
      },
      "execution_count": 198,
      "outputs": [
        {
          "output_type": "stream",
          "name": "stdout",
          "text": [
            "igual à 0:   52\n",
            "maior que 1: 369509\n",
            "maior que 50: 288316\n",
            "maior que 500: 79894\n",
            "maior que 5000: 5686\n",
            "maior que 50000: 87\n",
            "maior que 100000: 8\n"
          ]
        }
      ]
    },
    {
      "cell_type": "code",
      "source": [
        "dados.searched.describe()"
      ],
      "metadata": {
        "colab": {
          "base_uri": "https://localhost:8080/"
        },
        "id": "3iw1lh5ofrBF",
        "outputId": "360de555-1f44-41fb-e287-332c34a4e1f7"
      },
      "execution_count": 199,
      "outputs": [
        {
          "output_type": "execute_result",
          "data": {
            "text/plain": [
              "count    369707.000000\n",
              "mean        557.364421\n",
              "std        2030.449350\n",
              "min           0.000000\n",
              "25%          57.000000\n",
              "50%         150.000000\n",
              "75%         420.000000\n",
              "max      224080.000000\n",
              "Name: searched, dtype: float64"
            ]
          },
          "metadata": {},
          "execution_count": 199
        }
      ]
    },
    {
      "cell_type": "code",
      "source": [
        "dados.searched.quantile(0.9)"
      ],
      "metadata": {
        "colab": {
          "base_uri": "https://localhost:8080/"
        },
        "id": "eckMpbfcf9X6",
        "outputId": "473a9995-a758-4edf-fa00-79d6bc046ca2"
      },
      "execution_count": 29,
      "outputs": [
        {
          "output_type": "execute_result",
          "data": {
            "text/plain": [
              "1122.0"
            ]
          },
          "metadata": {},
          "execution_count": 29
        }
      ]
    },
    {
      "cell_type": "code",
      "source": [
        "plt.subplot(1,2,1)\n",
        "ax = sns.distplot(x=dados.query('searched < 4000').searched, hist_kws = {'cumulative':True},\n",
        "                          kde_kws = {'cumulative':True});\n",
        "ax.set(title = 'Distibuição amostral de Searched menor que 4000', xlabel = 'Quantidade de procura', ylabel='% acumulada');\n",
        "\n",
        "plt.subplot(1,2,2)\n",
        "ax = sns.distplot(x=dados.query('searched < 4000').searched, kde=False);\n",
        "ax.set(title = 'Distibuição amostral de Searched menor que 4000', xlabel = 'Notas Médias', ylabel='Frequencia');\n",
        "\n",
        "plt.show()"
      ],
      "metadata": {
        "colab": {
          "base_uri": "https://localhost:8080/",
          "height": 513
        },
        "id": "eCIOahDeuITN",
        "outputId": "8f65bc6b-470e-4ff9-e47f-445548886dcc"
      },
      "execution_count": 194,
      "outputs": [
        {
          "output_type": "display_data",
          "data": {
            "image/png": "[encoded data removed]",
            "text/plain": [
              "<Figure size 1080x576 with 2 Axes>"
            ]
          },
          "metadata": {
            "needs_background": "light"
          }
        }
      ]
    },
    {
      "cell_type": "markdown",
      "source": [
        "Vamos dar uma olhada nos top procurados de nosso conjunto de dados:"
      ],
      "metadata": {
        "id": "CfYarSmsoRZP"
      }
    },
    {
      "cell_type": "code",
      "source": [
        "plt.subplot(1,2,1)\n",
        "ax = sns.distplot(x=dados.query('searched >= 10000').searched, kde=False);\n",
        "ax.set(title = 'Distibuição amostral acima de 10000 buscas', xlabel = 'Notas Médias', ylabel='Frequencia');\n",
        "\n",
        "plt.subplot(1,2,2)\n",
        "ax = sns.distplot(x=dados.query('searched > 10000').searched, hist_kws = {'cumulative':True},\n",
        "                          kde_kws = {'cumulative':True});\n",
        "ax.set(title = 'Distibuição amostral acima de 10000 buscas', xlabel = 'Notas Médias', ylabel='% acumulada');\n",
        "\n",
        "plt.show()"
      ],
      "metadata": {
        "colab": {
          "base_uri": "https://localhost:8080/",
          "height": 513
        },
        "id": "7O1ZgWRPjX5x",
        "outputId": "cb81c80e-5b45-4f9a-e812-c6cdf797c5b2"
      },
      "execution_count": 197,
      "outputs": [
        {
          "output_type": "display_data",
          "data": {
            "image/png": "[encoded data removed]",
            "text/plain": [
              "<Figure size 1080x576 with 2 Axes>"
            ]
          },
          "metadata": {
            "needs_background": "light"
          }
        }
      ]
    },
    {
      "cell_type": "markdown",
      "source": [
        "# OWNED"
      ],
      "metadata": {
        "id": "HFfdaLAluGW8"
      }
    },
    {
      "cell_type": "code",
      "source": [
        "dados.query('owned == 0').owned.count()"
      ],
      "metadata": {
        "colab": {
          "base_uri": "https://localhost:8080/"
        },
        "id": "AYBDIxrBuSsq",
        "outputId": "1ac02bac-e210-46ac-bb6e-524f709489bf"
      },
      "execution_count": 285,
      "outputs": [
        {
          "output_type": "execute_result",
          "data": {
            "text/plain": [
              "54058"
            ]
          },
          "metadata": {},
          "execution_count": 285
        }
      ]
    },
    {
      "cell_type": "markdown",
      "source": [
        "Temos muitos titulos com nimguem reclamando que o pussui"
      ],
      "metadata": {
        "id": "1fsUqYLyufCz"
      }
    },
    {
      "cell_type": "code",
      "source": [
        "plt.subplot(2,1,1)\n",
        "dados.query('owned > 0').owned.hist(bins=30)\n",
        "\n",
        "plt.subplot(2,1,2)\n",
        "ax = sns.boxplot(x=dados.query('owned > 0').owned)\n",
        "ax.set(xlabel=\"Donos de titulos\")\n",
        "\n",
        "\n",
        "plt.show()"
      ],
      "metadata": {
        "colab": {
          "base_uri": "https://localhost:8080/",
          "height": 497
        },
        "id": "zjNhzwT8uFvD",
        "outputId": "566fd49f-5a61-4e96-ad72-60cce3ac81b0"
      },
      "execution_count": 288,
      "outputs": [
        {
          "output_type": "display_data",
          "data": {
            "image/png": "[encoded data removed]",
            "text/plain": [
              "<Figure size 1080x576 with 2 Axes>"
            ]
          },
          "metadata": {
            "needs_background": "light"
          }
        }
      ]
    },
    {
      "cell_type": "code",
      "source": [
        "dados.sort_values(by = 'owned', ascending=False).query('owned > 0').owned.iloc[:20,]"
      ],
      "metadata": {
        "colab": {
          "base_uri": "https://localhost:8080/"
        },
        "id": "Qz_kK367vWjn",
        "outputId": "5966a58a-fd94-44fa-8c9e-0f7c414c7b57"
      },
      "execution_count": 293,
      "outputs": [
        {
          "output_type": "execute_result",
          "data": {
            "text/plain": [
              "154584    6478\n",
              "133301    5564\n",
              "138637    5478\n",
              "138996    5393\n",
              "139273    5358\n",
              "2682      4903\n",
              "139364    4789\n",
              "124081    4681\n",
              "139283    4627\n",
              "138495    4626\n",
              "139265    4600\n",
              "134802    4467\n",
              "133304    4395\n",
              "155177    4381\n",
              "133343    4324\n",
              "138725    4281\n",
              "139291    4258\n",
              "155165    4252\n",
              "137067    4154\n",
              "123734    4132\n",
              "Name: owned, dtype: int64"
            ]
          },
          "metadata": {},
          "execution_count": 293
        }
      ]
    },
    {
      "cell_type": "markdown",
      "source": [
        ""
      ],
      "metadata": {
        "id": "RTCxCBfQvYJ3"
      }
    },
    {
      "cell_type": "markdown",
      "source": [
        "# COMPARATIVO  (em progresso e alterações)"
      ],
      "metadata": {
        "id": "i4uMJqBSsdET"
      }
    },
    {
      "cell_type": "code",
      "source": [
        "comparativo = dados[['title','issue','searched','owned','current_value','pub_name']]\n",
        "#comparativo['searched_x_owned'] = comparativo[]\n",
        "comparativo.sort_values(by='owned', ascending=False)[:10]"
      ],
      "metadata": {
        "colab": {
          "base_uri": "https://localhost:8080/",
          "height": 363
        },
        "id": "x6m_KBRzqzTv",
        "outputId": "d6e4e24c-a02f-4952-c895-ba06add1ceca"
      },
      "execution_count": 200,
      "outputs": [
        {
          "output_type": "execute_result",
          "data": {
            "text/html": [
              "\n",
              "  <div id=\"df-1d17ce80-2a5d-4c87-82d3-1b526c34ccff\">\n",
              "    <div class=\"colab-df-container\">\n",
              "      <div>\n",
              "<style scoped>\n",
              "    .dataframe tbody tr th:only-of-type {\n",
              "        vertical-align: middle;\n",
              "    }\n",
              "\n",
              "    .dataframe tbody tr th {\n",
              "        vertical-align: top;\n",
              "    }\n",
              "\n",
              "    .dataframe thead th {\n",
              "        text-align: right;\n",
              "    }\n",
              "</style>\n",
              "<table border=\"1\" class=\"dataframe\">\n",
              "  <thead>\n",
              "    <tr style=\"text-align: right;\">\n",
              "      <th></th>\n",
              "      <th>title</th>\n",
              "      <th>issue</th>\n",
              "      <th>searched</th>\n",
              "      <th>owned</th>\n",
              "      <th>current_value</th>\n",
              "      <th>pub_name</th>\n",
              "    </tr>\n",
              "  </thead>\n",
              "  <tbody>\n",
              "    <tr>\n",
              "      <th>154584</th>\n",
              "      <td>Spawn</td>\n",
              "      <td># 1</td>\n",
              "      <td>109188</td>\n",
              "      <td>6478</td>\n",
              "      <td>30.0</td>\n",
              "      <td>Image Comics</td>\n",
              "    </tr>\n",
              "    <tr>\n",
              "      <th>133301</th>\n",
              "      <td>Uncanny X-Men</td>\n",
              "      <td># 281</td>\n",
              "      <td>45325</td>\n",
              "      <td>5564</td>\n",
              "      <td>5.0</td>\n",
              "      <td>Marvel Comics</td>\n",
              "    </tr>\n",
              "    <tr>\n",
              "      <th>138637</th>\n",
              "      <td>X-Force</td>\n",
              "      <td># 2</td>\n",
              "      <td>51642</td>\n",
              "      <td>5478</td>\n",
              "      <td>8.0</td>\n",
              "      <td>Marvel Comics</td>\n",
              "    </tr>\n",
              "    <tr>\n",
              "      <th>138996</th>\n",
              "      <td>X-Men</td>\n",
              "      <td># 1</td>\n",
              "      <td>86519</td>\n",
              "      <td>5393</td>\n",
              "      <td>6.0</td>\n",
              "      <td>Marvel Comics</td>\n",
              "    </tr>\n",
              "    <tr>\n",
              "      <th>139273</th>\n",
              "      <td>X-Men</td>\n",
              "      <td># 1c</td>\n",
              "      <td>62889</td>\n",
              "      <td>5358</td>\n",
              "      <td>10.0</td>\n",
              "      <td>Marvel Comics</td>\n",
              "    </tr>\n",
              "    <tr>\n",
              "      <th>2682</th>\n",
              "      <td>Adventures of Superman</td>\n",
              "      <td># 500c</td>\n",
              "      <td>57030</td>\n",
              "      <td>4903</td>\n",
              "      <td>5.0</td>\n",
              "      <td>DC Comics</td>\n",
              "    </tr>\n",
              "    <tr>\n",
              "      <th>139364</th>\n",
              "      <td>X-Men</td>\n",
              "      <td># 2</td>\n",
              "      <td>28842</td>\n",
              "      <td>4789</td>\n",
              "      <td>5.0</td>\n",
              "      <td>Marvel Comics</td>\n",
              "    </tr>\n",
              "    <tr>\n",
              "      <th>124081</th>\n",
              "      <td>Spider-Man 2099</td>\n",
              "      <td># 1</td>\n",
              "      <td>25994</td>\n",
              "      <td>4681</td>\n",
              "      <td>45.0</td>\n",
              "      <td>Marvel Comics</td>\n",
              "    </tr>\n",
              "    <tr>\n",
              "      <th>139283</th>\n",
              "      <td>X-Men</td>\n",
              "      <td># 1d</td>\n",
              "      <td>52327</td>\n",
              "      <td>4627</td>\n",
              "      <td>6.0</td>\n",
              "      <td>Marvel Comics</td>\n",
              "    </tr>\n",
              "    <tr>\n",
              "      <th>138495</th>\n",
              "      <td>X-Force</td>\n",
              "      <td># 1</td>\n",
              "      <td>68644</td>\n",
              "      <td>4626</td>\n",
              "      <td>6.0</td>\n",
              "      <td>Marvel Comics</td>\n",
              "    </tr>\n",
              "  </tbody>\n",
              "</table>\n",
              "</div>\n",
              "      <button class=\"colab-df-convert\" onclick=\"convertToInteractive('df-1d17ce80-2a5d-4c87-82d3-1b526c34ccff')\"\n",
              "              title=\"Convert this dataframe to an interactive table.\"\n",
              "              style=\"display:none;\">\n",
              "        \n",
              "  <svg xmlns=\"http://www.w3.org/2000/svg\" height=\"24px\"viewBox=\"0 0 24 24\"\n",
              "       width=\"24px\">\n",
              "    <path d=\"M0 0h24v24H0V0z\" fill=\"none\"/>\n",
              "    <path d=\"M18.56 5.44l.94 2.06.94-2.06 2.06-.94-2.06-.94-.94-2.06-.94 2.06-2.06.94zm-11 1L8.5 8.5l.94-2.06 2.06-.94-2.06-.94L8.5 2.5l-.94 2.06-2.06.94zm10 10l.94 2.06.94-2.06 2.06-.94-2.06-.94-.94-2.06-.94 2.06-2.06.94z\"/><path d=\"M17.41 7.96l-1.37-1.37c-.4-.4-.92-.59-1.43-.59-.52 0-1.04.2-1.43.59L10.3 9.45l-7.72 7.72c-.78.78-.78 2.05 0 2.83L4 21.41c.39.39.9.59 1.41.59.51 0 1.02-.2 1.41-.59l7.78-7.78 2.81-2.81c.8-.78.8-2.07 0-2.86zM5.41 20L4 18.59l7.72-7.72 1.47 1.35L5.41 20z\"/>\n",
              "  </svg>\n",
              "      </button>\n",
              "      \n",
              "  <style>\n",
              "    .colab-df-container {\n",
              "      display:flex;\n",
              "      flex-wrap:wrap;\n",
              "      gap: 12px;\n",
              "    }\n",
              "\n",
              "    .colab-df-convert {\n",
              "      background-color: #E8F0FE;\n",
              "      border: none;\n",
              "      border-radius: 50%;\n",
              "      cursor: pointer;\n",
              "      display: none;\n",
              "      fill: #1967D2;\n",
              "      height: 32px;\n",
              "      padding: 0 0 0 0;\n",
              "      width: 32px;\n",
              "    }\n",
              "\n",
              "    .colab-df-convert:hover {\n",
              "      background-color: #E2EBFA;\n",
              "      box-shadow: 0px 1px 2px rgba(60, 64, 67, 0.3), 0px 1px 3px 1px rgba(60, 64, 67, 0.15);\n",
              "      fill: #174EA6;\n",
              "    }\n",
              "\n",
              "    [theme=dark] .colab-df-convert {\n",
              "      background-color: #3B4455;\n",
              "      fill: #D2E3FC;\n",
              "    }\n",
              "\n",
              "    [theme=dark] .colab-df-convert:hover {\n",
              "      background-color: #434B5C;\n",
              "      box-shadow: 0px 1px 3px 1px rgba(0, 0, 0, 0.15);\n",
              "      filter: drop-shadow(0px 1px 2px rgba(0, 0, 0, 0.3));\n",
              "      fill: #FFFFFF;\n",
              "    }\n",
              "  </style>\n",
              "\n",
              "      <script>\n",
              "        const buttonEl =\n",
              "          document.querySelector('#df-1d17ce80-2a5d-4c87-82d3-1b526c34ccff button.colab-df-convert');\n",
              "        buttonEl.style.display =\n",
              "          google.colab.kernel.accessAllowed ? 'block' : 'none';\n",
              "\n",
              "        async function convertToInteractive(key) {\n",
              "          const element = document.querySelector('#df-1d17ce80-2a5d-4c87-82d3-1b526c34ccff');\n",
              "          const dataTable =\n",
              "            await google.colab.kernel.invokeFunction('convertToInteractive',\n",
              "                                                     [key], {});\n",
              "          if (!dataTable) return;\n",
              "\n",
              "          const docLinkHtml = 'Like what you see? Visit the ' +\n",
              "            '<a target=\"_blank\" href=https://colab.research.google.com/notebooks/data_table.ipynb>data table notebook</a>'\n",
              "            + ' to learn more about interactive tables.';\n",
              "          element.innerHTML = '';\n",
              "          dataTable['output_type'] = 'display_data';\n",
              "          await google.colab.output.renderOutput(dataTable, element);\n",
              "          const docLink = document.createElement('div');\n",
              "          docLink.innerHTML = docLinkHtml;\n",
              "          element.appendChild(docLink);\n",
              "        }\n",
              "      </script>\n",
              "    </div>\n",
              "  </div>\n",
              "  "
            ],
            "text/plain": [
              "                         title   issue  searched  owned  current_value  \\\n",
              "154584                   Spawn     # 1    109188   6478           30.0   \n",
              "133301           Uncanny X-Men   # 281     45325   5564            5.0   \n",
              "138637                 X-Force     # 2     51642   5478            8.0   \n",
              "138996                   X-Men     # 1     86519   5393            6.0   \n",
              "139273                   X-Men    # 1c     62889   5358           10.0   \n",
              "2682    Adventures of Superman  # 500c     57030   4903            5.0   \n",
              "139364                   X-Men     # 2     28842   4789            5.0   \n",
              "124081         Spider-Man 2099     # 1     25994   4681           45.0   \n",
              "139283                   X-Men    # 1d     52327   4627            6.0   \n",
              "138495                 X-Force     # 1     68644   4626            6.0   \n",
              "\n",
              "             pub_name  \n",
              "154584   Image Comics  \n",
              "133301  Marvel Comics  \n",
              "138637  Marvel Comics  \n",
              "138996  Marvel Comics  \n",
              "139273  Marvel Comics  \n",
              "2682        DC Comics  \n",
              "139364  Marvel Comics  \n",
              "124081  Marvel Comics  \n",
              "139283  Marvel Comics  \n",
              "138495  Marvel Comics  "
            ]
          },
          "metadata": {},
          "execution_count": 200
        }
      ]
    },
    {
      "cell_type": "code",
      "source": [
        "top_10_owned = dados[['title_issue','owned']]\n",
        "\n",
        "plotar_top_10_owned = top_10_owned.sort_values(by= 'owned', ascending=False).iloc[:10,]\n",
        "\n",
        "plt.figure(figsize= [15,8])\n",
        "plt.bar(x = plotar_top_10_owned['title_issue'], height=plotar_top_10_owned.owned)\n",
        "plt.xticks(rotation = 45)\n",
        "plt.ylabel('Disseram que possui');\n",
        "plt.xlabel('Edições');\n",
        "plt.title('Edições que as pessoas mais possuem');"
      ],
      "metadata": {
        "colab": {
          "base_uri": "https://localhost:8080/",
          "height": 625
        },
        "id": "b0JVjscQqdbR",
        "outputId": "54965ed8-b0c9-4986-fa66-c98cdca76ca6"
      },
      "execution_count": 35,
      "outputs": [
        {
          "output_type": "display_data",
          "data": {
            "image/png": "[encoded data removed]",
            "text/plain": [
              "<Figure size 1080x576 with 1 Axes>"
            ]
          },
          "metadata": {
            "needs_background": "light"
          }
        }
      ]
    },
    {
      "cell_type": "code",
      "source": [
        "comparativo.sort_values(by='searched', ascending=False)[:10]"
      ],
      "metadata": {
        "colab": {
          "base_uri": "https://localhost:8080/",
          "height": 363
        },
        "id": "NU-IjNcjszuc",
        "outputId": "2e9d51f9-6d0f-462b-b4f2-debebbcde047"
      },
      "execution_count": 36,
      "outputs": [
        {
          "output_type": "execute_result",
          "data": {
            "text/html": [
              "\n",
              "  <div id=\"df-c12c8f7e-772d-4a59-9e26-2c4fdb5189cd\">\n",
              "    <div class=\"colab-df-container\">\n",
              "      <div>\n",
              "<style scoped>\n",
              "    .dataframe tbody tr th:only-of-type {\n",
              "        vertical-align: middle;\n",
              "    }\n",
              "\n",
              "    .dataframe tbody tr th {\n",
              "        vertical-align: top;\n",
              "    }\n",
              "\n",
              "    .dataframe thead th {\n",
              "        text-align: right;\n",
              "    }\n",
              "</style>\n",
              "<table border=\"1\" class=\"dataframe\">\n",
              "  <thead>\n",
              "    <tr style=\"text-align: right;\">\n",
              "      <th></th>\n",
              "      <th>title</th>\n",
              "      <th>searched</th>\n",
              "      <th>owned</th>\n",
              "      <th>current_value</th>\n",
              "      <th>pub_name</th>\n",
              "    </tr>\n",
              "  </thead>\n",
              "  <tbody>\n",
              "    <tr>\n",
              "      <th>162427</th>\n",
              "      <td>X-Men</td>\n",
              "      <td>224080</td>\n",
              "      <td>1507</td>\n",
              "      <td>125.0</td>\n",
              "      <td>Marvel Comics</td>\n",
              "    </tr>\n",
              "    <tr>\n",
              "      <th>155977</th>\n",
              "      <td>Uncanny X-Men</td>\n",
              "      <td>209227</td>\n",
              "      <td>1719</td>\n",
              "      <td>50.0</td>\n",
              "      <td>Marvel Comics</td>\n",
              "    </tr>\n",
              "    <tr>\n",
              "      <th>101639</th>\n",
              "      <td>Amazing Spider-Man</td>\n",
              "      <td>158604</td>\n",
              "      <td>3174</td>\n",
              "      <td>225.0</td>\n",
              "      <td>Marvel Comics</td>\n",
              "    </tr>\n",
              "    <tr>\n",
              "      <th>156278</th>\n",
              "      <td>Uncanny X-Men</td>\n",
              "      <td>122915</td>\n",
              "      <td>2493</td>\n",
              "      <td>200.0</td>\n",
              "      <td>Marvel Comics</td>\n",
              "    </tr>\n",
              "    <tr>\n",
              "      <th>101528</th>\n",
              "      <td>Amazing Spider-Man</td>\n",
              "      <td>122602</td>\n",
              "      <td>2403</td>\n",
              "      <td>800.0</td>\n",
              "      <td>Marvel Comics</td>\n",
              "    </tr>\n",
              "    <tr>\n",
              "      <th>100709</th>\n",
              "      <td>Amazing Spider-Man</td>\n",
              "      <td>113520</td>\n",
              "      <td>175</td>\n",
              "      <td>62000.0</td>\n",
              "      <td>Marvel Comics</td>\n",
              "    </tr>\n",
              "    <tr>\n",
              "      <th>179375</th>\n",
              "      <td>Spawn</td>\n",
              "      <td>109188</td>\n",
              "      <td>6478</td>\n",
              "      <td>30.0</td>\n",
              "      <td>Image Comics</td>\n",
              "    </tr>\n",
              "    <tr>\n",
              "      <th>156217</th>\n",
              "      <td>Uncanny X-Men</td>\n",
              "      <td>108420</td>\n",
              "      <td>2583</td>\n",
              "      <td>75.0</td>\n",
              "      <td>Marvel Comics</td>\n",
              "    </tr>\n",
              "    <tr>\n",
              "      <th>156250</th>\n",
              "      <td>Uncanny X-Men</td>\n",
              "      <td>97897</td>\n",
              "      <td>2562</td>\n",
              "      <td>55.0</td>\n",
              "      <td>Marvel Comics</td>\n",
              "    </tr>\n",
              "    <tr>\n",
              "      <th>101348</th>\n",
              "      <td>Amazing Spider-Man</td>\n",
              "      <td>95788</td>\n",
              "      <td>2078</td>\n",
              "      <td>250.0</td>\n",
              "      <td>Marvel Comics</td>\n",
              "    </tr>\n",
              "  </tbody>\n",
              "</table>\n",
              "</div>\n",
              "      <button class=\"colab-df-convert\" onclick=\"convertToInteractive('df-c12c8f7e-772d-4a59-9e26-2c4fdb5189cd')\"\n",
              "              title=\"Convert this dataframe to an interactive table.\"\n",
              "              style=\"display:none;\">\n",
              "        \n",
              "  <svg xmlns=\"http://www.w3.org/2000/svg\" height=\"24px\"viewBox=\"0 0 24 24\"\n",
              "       width=\"24px\">\n",
              "    <path d=\"M0 0h24v24H0V0z\" fill=\"none\"/>\n",
              "    <path d=\"M18.56 5.44l.94 2.06.94-2.06 2.06-.94-2.06-.94-.94-2.06-.94 2.06-2.06.94zm-11 1L8.5 8.5l.94-2.06 2.06-.94-2.06-.94L8.5 2.5l-.94 2.06-2.06.94zm10 10l.94 2.06.94-2.06 2.06-.94-2.06-.94-.94-2.06-.94 2.06-2.06.94z\"/><path d=\"M17.41 7.96l-1.37-1.37c-.4-.4-.92-.59-1.43-.59-.52 0-1.04.2-1.43.59L10.3 9.45l-7.72 7.72c-.78.78-.78 2.05 0 2.83L4 21.41c.39.39.9.59 1.41.59.51 0 1.02-.2 1.41-.59l7.78-7.78 2.81-2.81c.8-.78.8-2.07 0-2.86zM5.41 20L4 18.59l7.72-7.72 1.47 1.35L5.41 20z\"/>\n",
              "  </svg>\n",
              "      </button>\n",
              "      \n",
              "  <style>\n",
              "    .colab-df-container {\n",
              "      display:flex;\n",
              "      flex-wrap:wrap;\n",
              "      gap: 12px;\n",
              "    }\n",
              "\n",
              "    .colab-df-convert {\n",
              "      background-color: #E8F0FE;\n",
              "      border: none;\n",
              "      border-radius: 50%;\n",
              "      cursor: pointer;\n",
              "      display: none;\n",
              "      fill: #1967D2;\n",
              "      height: 32px;\n",
              "      padding: 0 0 0 0;\n",
              "      width: 32px;\n",
              "    }\n",
              "\n",
              "    .colab-df-convert:hover {\n",
              "      background-color: #E2EBFA;\n",
              "      box-shadow: 0px 1px 2px rgba(60, 64, 67, 0.3), 0px 1px 3px 1px rgba(60, 64, 67, 0.15);\n",
              "      fill: #174EA6;\n",
              "    }\n",
              "\n",
              "    [theme=dark] .colab-df-convert {\n",
              "      background-color: #3B4455;\n",
              "      fill: #D2E3FC;\n",
              "    }\n",
              "\n",
              "    [theme=dark] .colab-df-convert:hover {\n",
              "      background-color: #434B5C;\n",
              "      box-shadow: 0px 1px 3px 1px rgba(0, 0, 0, 0.15);\n",
              "      filter: drop-shadow(0px 1px 2px rgba(0, 0, 0, 0.3));\n",
              "      fill: #FFFFFF;\n",
              "    }\n",
              "  </style>\n",
              "\n",
              "      <script>\n",
              "        const buttonEl =\n",
              "          document.querySelector('#df-c12c8f7e-772d-4a59-9e26-2c4fdb5189cd button.colab-df-convert');\n",
              "        buttonEl.style.display =\n",
              "          google.colab.kernel.accessAllowed ? 'block' : 'none';\n",
              "\n",
              "        async function convertToInteractive(key) {\n",
              "          const element = document.querySelector('#df-c12c8f7e-772d-4a59-9e26-2c4fdb5189cd');\n",
              "          const dataTable =\n",
              "            await google.colab.kernel.invokeFunction('convertToInteractive',\n",
              "                                                     [key], {});\n",
              "          if (!dataTable) return;\n",
              "\n",
              "          const docLinkHtml = 'Like what you see? Visit the ' +\n",
              "            '<a target=\"_blank\" href=https://colab.research.google.com/notebooks/data_table.ipynb>data table notebook</a>'\n",
              "            + ' to learn more about interactive tables.';\n",
              "          element.innerHTML = '';\n",
              "          dataTable['output_type'] = 'display_data';\n",
              "          await google.colab.output.renderOutput(dataTable, element);\n",
              "          const docLink = document.createElement('div');\n",
              "          docLink.innerHTML = docLinkHtml;\n",
              "          element.appendChild(docLink);\n",
              "        }\n",
              "      </script>\n",
              "    </div>\n",
              "  </div>\n",
              "  "
            ],
            "text/plain": [
              "                     title  searched  owned  current_value       pub_name\n",
              "162427               X-Men    224080   1507          125.0  Marvel Comics\n",
              "155977       Uncanny X-Men    209227   1719           50.0  Marvel Comics\n",
              "101639  Amazing Spider-Man    158604   3174          225.0  Marvel Comics\n",
              "156278       Uncanny X-Men    122915   2493          200.0  Marvel Comics\n",
              "101528  Amazing Spider-Man    122602   2403          800.0  Marvel Comics\n",
              "100709  Amazing Spider-Man    113520    175        62000.0  Marvel Comics\n",
              "179375               Spawn    109188   6478           30.0   Image Comics\n",
              "156217       Uncanny X-Men    108420   2583           75.0  Marvel Comics\n",
              "156250       Uncanny X-Men     97897   2562           55.0  Marvel Comics\n",
              "101348  Amazing Spider-Man     95788   2078          250.0  Marvel Comics"
            ]
          },
          "metadata": {},
          "execution_count": 36
        }
      ]
    },
    {
      "cell_type": "code",
      "source": [
        "top_10 = dados[['title_issue','searched']]\n",
        "\n",
        "plotar_top_10 = top_10.sort_values(by= 'searched', ascending=False).iloc[:10,]\n",
        "\n",
        "plt.figure(figsize= [15,8])\n",
        "plt.bar(x = plotar_top_10['title_issue'], height=plotar_top_10.searched)\n",
        "plt.xticks(rotation = 45)\n",
        "plt.ylabel('Buscas');\n",
        "plt.xlabel('Edições');\n",
        "plt.title('Edições mais buscadas');"
      ],
      "metadata": {
        "colab": {
          "base_uri": "https://localhost:8080/",
          "height": 611
        },
        "id": "4NC6b_EEaXi_",
        "outputId": "bef980ce-9a3d-4792-a480-43acfb1a6695"
      },
      "execution_count": 37,
      "outputs": [
        {
          "output_type": "display_data",
          "data": {
            "image/png": "[encoded data removed]",
            "text/plain": [
              "<Figure size 1080x576 with 1 Axes>"
            ]
          },
          "metadata": {
            "needs_background": "light"
          }
        }
      ]
    },
    {
      "cell_type": "markdown",
      "source": [
        "Comics mais valiosos segundo nossos dados"
      ],
      "metadata": {
        "id": "ZSW8ysReAQ3y"
      }
    },
    {
      "cell_type": "code",
      "source": [
        "comparativo.sort_values(by='current_value', ascending=False)[:10]"
      ],
      "metadata": {
        "colab": {
          "base_uri": "https://localhost:8080/",
          "height": 363
        },
        "id": "hFRrrQCGt7hC",
        "outputId": "cb599d38-2675-4dfd-acc8-c8d4fd5ffee0"
      },
      "execution_count": 38,
      "outputs": [
        {
          "output_type": "execute_result",
          "data": {
            "text/html": [
              "\n",
              "  <div id=\"df-d2ae5329-6bae-4bde-8a0e-c5e059f7374c\">\n",
              "    <div class=\"colab-df-container\">\n",
              "      <div>\n",
              "<style scoped>\n",
              "    .dataframe tbody tr th:only-of-type {\n",
              "        vertical-align: middle;\n",
              "    }\n",
              "\n",
              "    .dataframe tbody tr th {\n",
              "        vertical-align: top;\n",
              "    }\n",
              "\n",
              "    .dataframe thead th {\n",
              "        text-align: right;\n",
              "    }\n",
              "</style>\n",
              "<table border=\"1\" class=\"dataframe\">\n",
              "  <thead>\n",
              "    <tr style=\"text-align: right;\">\n",
              "      <th></th>\n",
              "      <th>title</th>\n",
              "      <th>searched</th>\n",
              "      <th>owned</th>\n",
              "      <th>current_value</th>\n",
              "      <th>pub_name</th>\n",
              "    </tr>\n",
              "  </thead>\n",
              "  <tbody>\n",
              "    <tr>\n",
              "      <th>266</th>\n",
              "      <td>Action Comics</td>\n",
              "      <td>63691</td>\n",
              "      <td>19</td>\n",
              "      <td>3000000.0</td>\n",
              "      <td>DC Comics</td>\n",
              "    </tr>\n",
              "    <tr>\n",
              "      <th>43250</th>\n",
              "      <td>Superman</td>\n",
              "      <td>24682</td>\n",
              "      <td>10</td>\n",
              "      <td>1100000.0</td>\n",
              "      <td>DC Comics</td>\n",
              "    </tr>\n",
              "    <tr>\n",
              "      <th>17586</th>\n",
              "      <td>Detective Comics</td>\n",
              "      <td>37656</td>\n",
              "      <td>11</td>\n",
              "      <td>1000000.0</td>\n",
              "      <td>DC Comics</td>\n",
              "    </tr>\n",
              "    <tr>\n",
              "      <th>3105</th>\n",
              "      <td>All-American Comics</td>\n",
              "      <td>4485</td>\n",
              "      <td>6</td>\n",
              "      <td>700000.0</td>\n",
              "      <td>DC Comics</td>\n",
              "    </tr>\n",
              "    <tr>\n",
              "      <th>5432</th>\n",
              "      <td>Batman</td>\n",
              "      <td>61085</td>\n",
              "      <td>20</td>\n",
              "      <td>550000.0</td>\n",
              "      <td>DC Comics</td>\n",
              "    </tr>\n",
              "    <tr>\n",
              "      <th>377100</th>\n",
              "      <td>Captain America Comics</td>\n",
              "      <td>5327</td>\n",
              "      <td>6</td>\n",
              "      <td>365000.0</td>\n",
              "      <td>Timely Comics</td>\n",
              "    </tr>\n",
              "    <tr>\n",
              "      <th>1273</th>\n",
              "      <td>Action Comics</td>\n",
              "      <td>13280</td>\n",
              "      <td>8</td>\n",
              "      <td>340000.0</td>\n",
              "      <td>DC Comics</td>\n",
              "    </tr>\n",
              "    <tr>\n",
              "      <th>100565</th>\n",
              "      <td>Amazing Fantasy</td>\n",
              "      <td>21278</td>\n",
              "      <td>74</td>\n",
              "      <td>340000.0</td>\n",
              "      <td>Marvel Comics</td>\n",
              "    </tr>\n",
              "    <tr>\n",
              "      <th>377402</th>\n",
              "      <td>Marvel Comics</td>\n",
              "      <td>5065</td>\n",
              "      <td>3</td>\n",
              "      <td>320000.0</td>\n",
              "      <td>Timely Comics</td>\n",
              "    </tr>\n",
              "    <tr>\n",
              "      <th>377403</th>\n",
              "      <td>Marvel Comics</td>\n",
              "      <td>2137</td>\n",
              "      <td>0</td>\n",
              "      <td>300000.0</td>\n",
              "      <td>Timely Comics</td>\n",
              "    </tr>\n",
              "  </tbody>\n",
              "</table>\n",
              "</div>\n",
              "      <button class=\"colab-df-convert\" onclick=\"convertToInteractive('df-d2ae5329-6bae-4bde-8a0e-c5e059f7374c')\"\n",
              "              title=\"Convert this dataframe to an interactive table.\"\n",
              "              style=\"display:none;\">\n",
              "        \n",
              "  <svg xmlns=\"http://www.w3.org/2000/svg\" height=\"24px\"viewBox=\"0 0 24 24\"\n",
              "       width=\"24px\">\n",
              "    <path d=\"M0 0h24v24H0V0z\" fill=\"none\"/>\n",
              "    <path d=\"M18.56 5.44l.94 2.06.94-2.06 2.06-.94-2.06-.94-.94-2.06-.94 2.06-2.06.94zm-11 1L8.5 8.5l.94-2.06 2.06-.94-2.06-.94L8.5 2.5l-.94 2.06-2.06.94zm10 10l.94 2.06.94-2.06 2.06-.94-2.06-.94-.94-2.06-.94 2.06-2.06.94z\"/><path d=\"M17.41 7.96l-1.37-1.37c-.4-.4-.92-.59-1.43-.59-.52 0-1.04.2-1.43.59L10.3 9.45l-7.72 7.72c-.78.78-.78 2.05 0 2.83L4 21.41c.39.39.9.59 1.41.59.51 0 1.02-.2 1.41-.59l7.78-7.78 2.81-2.81c.8-.78.8-2.07 0-2.86zM5.41 20L4 18.59l7.72-7.72 1.47 1.35L5.41 20z\"/>\n",
              "  </svg>\n",
              "      </button>\n",
              "      \n",
              "  <style>\n",
              "    .colab-df-container {\n",
              "      display:flex;\n",
              "      flex-wrap:wrap;\n",
              "      gap: 12px;\n",
              "    }\n",
              "\n",
              "    .colab-df-convert {\n",
              "      background-color: #E8F0FE;\n",
              "      border: none;\n",
              "      border-radius: 50%;\n",
              "      cursor: pointer;\n",
              "      display: none;\n",
              "      fill: #1967D2;\n",
              "      height: 32px;\n",
              "      padding: 0 0 0 0;\n",
              "      width: 32px;\n",
              "    }\n",
              "\n",
              "    .colab-df-convert:hover {\n",
              "      background-color: #E2EBFA;\n",
              "      box-shadow: 0px 1px 2px rgba(60, 64, 67, 0.3), 0px 1px 3px 1px rgba(60, 64, 67, 0.15);\n",
              "      fill: #174EA6;\n",
              "    }\n",
              "\n",
              "    [theme=dark] .colab-df-convert {\n",
              "      background-color: #3B4455;\n",
              "      fill: #D2E3FC;\n",
              "    }\n",
              "\n",
              "    [theme=dark] .colab-df-convert:hover {\n",
              "      background-color: #434B5C;\n",
              "      box-shadow: 0px 1px 3px 1px rgba(0, 0, 0, 0.15);\n",
              "      filter: drop-shadow(0px 1px 2px rgba(0, 0, 0, 0.3));\n",
              "      fill: #FFFFFF;\n",
              "    }\n",
              "  </style>\n",
              "\n",
              "      <script>\n",
              "        const buttonEl =\n",
              "          document.querySelector('#df-d2ae5329-6bae-4bde-8a0e-c5e059f7374c button.colab-df-convert');\n",
              "        buttonEl.style.display =\n",
              "          google.colab.kernel.accessAllowed ? 'block' : 'none';\n",
              "\n",
              "        async function convertToInteractive(key) {\n",
              "          const element = document.querySelector('#df-d2ae5329-6bae-4bde-8a0e-c5e059f7374c');\n",
              "          const dataTable =\n",
              "            await google.colab.kernel.invokeFunction('convertToInteractive',\n",
              "                                                     [key], {});\n",
              "          if (!dataTable) return;\n",
              "\n",
              "          const docLinkHtml = 'Like what you see? Visit the ' +\n",
              "            '<a target=\"_blank\" href=https://colab.research.google.com/notebooks/data_table.ipynb>data table notebook</a>'\n",
              "            + ' to learn more about interactive tables.';\n",
              "          element.innerHTML = '';\n",
              "          dataTable['output_type'] = 'display_data';\n",
              "          await google.colab.output.renderOutput(dataTable, element);\n",
              "          const docLink = document.createElement('div');\n",
              "          docLink.innerHTML = docLinkHtml;\n",
              "          element.appendChild(docLink);\n",
              "        }\n",
              "      </script>\n",
              "    </div>\n",
              "  </div>\n",
              "  "
            ],
            "text/plain": [
              "                         title  searched  owned  current_value       pub_name\n",
              "266              Action Comics     63691     19      3000000.0      DC Comics\n",
              "43250                 Superman     24682     10      1100000.0      DC Comics\n",
              "17586         Detective Comics     37656     11      1000000.0      DC Comics\n",
              "3105       All-American Comics      4485      6       700000.0      DC Comics\n",
              "5432                    Batman     61085     20       550000.0      DC Comics\n",
              "377100  Captain America Comics      5327      6       365000.0  Timely Comics\n",
              "1273             Action Comics     13280      8       340000.0      DC Comics\n",
              "100565         Amazing Fantasy     21278     74       340000.0  Marvel Comics\n",
              "377402           Marvel Comics      5065      3       320000.0  Timely Comics\n",
              "377403           Marvel Comics      2137      0       300000.0  Timely Comics"
            ]
          },
          "metadata": {},
          "execution_count": 38
        }
      ]
    },
    {
      "cell_type": "code",
      "source": [
        "top_10_current_value = dados[['title_issue','current_value']]\n",
        "\n",
        "plotar_top_10_current_value = top_10_current_value.sort_values(by= 'current_value', ascending=False).iloc[:10,]\n",
        "\n",
        "plt.figure(figsize= [15,8])\n",
        "plt.bar(x = plotar_top_10_current_value['title_issue'], height=plotar_top_10_current_value.current_value)\n",
        "plt.xticks(rotation = 45)\n",
        "plt.ylabel('Valor Atual');\n",
        "plt.xlabel('Edição');\n",
        "plt.title('Edições mais valiosas');"
      ],
      "metadata": {
        "colab": {
          "base_uri": "https://localhost:8080/",
          "height": 611
        },
        "id": "RCFeid69rhXQ",
        "outputId": "0a28e8cb-66b3-4664-d8b8-3358f1ba9c8e"
      },
      "execution_count": 39,
      "outputs": [
        {
          "output_type": "display_data",
          "data": {
            "image/png": "[encoded data removed]",
            "text/plain": [
              "<Figure size 1080x576 with 1 Axes>"
            ]
          },
          "metadata": {
            "needs_background": "light"
          }
        }
      ]
    },
    {
      "cell_type": "code",
      "source": [
        "dados[['title', 'searched','owned', 'rating','rating_count','cover_date', 'current_value','pub_name']].sort_values(by='current_value', ascending = False).iloc[:10]"
      ],
      "metadata": {
        "colab": {
          "base_uri": "https://localhost:8080/",
          "height": 363
        },
        "id": "0in4A9Um2cFF",
        "outputId": "5d0bea40-2d31-4a1d-db74-48de3ad0bcb8"
      },
      "execution_count": 40,
      "outputs": [
        {
          "output_type": "execute_result",
          "data": {
            "text/html": [
              "\n",
              "  <div id=\"df-3d63c60b-5859-4249-b25d-3604c3b6be8b\">\n",
              "    <div class=\"colab-df-container\">\n",
              "      <div>\n",
              "<style scoped>\n",
              "    .dataframe tbody tr th:only-of-type {\n",
              "        vertical-align: middle;\n",
              "    }\n",
              "\n",
              "    .dataframe tbody tr th {\n",
              "        vertical-align: top;\n",
              "    }\n",
              "\n",
              "    .dataframe thead th {\n",
              "        text-align: right;\n",
              "    }\n",
              "</style>\n",
              "<table border=\"1\" class=\"dataframe\">\n",
              "  <thead>\n",
              "    <tr style=\"text-align: right;\">\n",
              "      <th></th>\n",
              "      <th>title</th>\n",
              "      <th>searched</th>\n",
              "      <th>owned</th>\n",
              "      <th>rating</th>\n",
              "      <th>rating_count</th>\n",
              "      <th>cover_date</th>\n",
              "      <th>current_value</th>\n",
              "      <th>pub_name</th>\n",
              "    </tr>\n",
              "  </thead>\n",
              "  <tbody>\n",
              "    <tr>\n",
              "      <th>266</th>\n",
              "      <td>Action Comics</td>\n",
              "      <td>63691</td>\n",
              "      <td>19</td>\n",
              "      <td>4.5</td>\n",
              "      <td>2</td>\n",
              "      <td>84</td>\n",
              "      <td>3000000.0</td>\n",
              "      <td>DC Comics</td>\n",
              "    </tr>\n",
              "    <tr>\n",
              "      <th>43250</th>\n",
              "      <td>Superman</td>\n",
              "      <td>24682</td>\n",
              "      <td>10</td>\n",
              "      <td>0.0</td>\n",
              "      <td>0</td>\n",
              "      <td>83</td>\n",
              "      <td>1100000.0</td>\n",
              "      <td>DC Comics</td>\n",
              "    </tr>\n",
              "    <tr>\n",
              "      <th>17586</th>\n",
              "      <td>Detective Comics</td>\n",
              "      <td>37656</td>\n",
              "      <td>11</td>\n",
              "      <td>5.0</td>\n",
              "      <td>2</td>\n",
              "      <td>83</td>\n",
              "      <td>1000000.0</td>\n",
              "      <td>DC Comics</td>\n",
              "    </tr>\n",
              "    <tr>\n",
              "      <th>3105</th>\n",
              "      <td>All-American Comics</td>\n",
              "      <td>4485</td>\n",
              "      <td>6</td>\n",
              "      <td>0.0</td>\n",
              "      <td>0</td>\n",
              "      <td>82</td>\n",
              "      <td>700000.0</td>\n",
              "      <td>DC Comics</td>\n",
              "    </tr>\n",
              "    <tr>\n",
              "      <th>5432</th>\n",
              "      <td>Batman</td>\n",
              "      <td>61085</td>\n",
              "      <td>20</td>\n",
              "      <td>4.0</td>\n",
              "      <td>1</td>\n",
              "      <td>82</td>\n",
              "      <td>550000.0</td>\n",
              "      <td>DC Comics</td>\n",
              "    </tr>\n",
              "    <tr>\n",
              "      <th>377100</th>\n",
              "      <td>Captain America Comics</td>\n",
              "      <td>5327</td>\n",
              "      <td>6</td>\n",
              "      <td>0.0</td>\n",
              "      <td>0</td>\n",
              "      <td>81</td>\n",
              "      <td>365000.0</td>\n",
              "      <td>Timely Comics</td>\n",
              "    </tr>\n",
              "    <tr>\n",
              "      <th>1273</th>\n",
              "      <td>Action Comics</td>\n",
              "      <td>13280</td>\n",
              "      <td>8</td>\n",
              "      <td>0.0</td>\n",
              "      <td>0</td>\n",
              "      <td>84</td>\n",
              "      <td>340000.0</td>\n",
              "      <td>DC Comics</td>\n",
              "    </tr>\n",
              "    <tr>\n",
              "      <th>100565</th>\n",
              "      <td>Amazing Fantasy</td>\n",
              "      <td>21278</td>\n",
              "      <td>74</td>\n",
              "      <td>5.0</td>\n",
              "      <td>4</td>\n",
              "      <td>60</td>\n",
              "      <td>340000.0</td>\n",
              "      <td>Marvel Comics</td>\n",
              "    </tr>\n",
              "    <tr>\n",
              "      <th>377402</th>\n",
              "      <td>Marvel Comics</td>\n",
              "      <td>5065</td>\n",
              "      <td>3</td>\n",
              "      <td>0.0</td>\n",
              "      <td>0</td>\n",
              "      <td>83</td>\n",
              "      <td>320000.0</td>\n",
              "      <td>Timely Comics</td>\n",
              "    </tr>\n",
              "    <tr>\n",
              "      <th>377403</th>\n",
              "      <td>Marvel Comics</td>\n",
              "      <td>2137</td>\n",
              "      <td>0</td>\n",
              "      <td>0.0</td>\n",
              "      <td>0</td>\n",
              "      <td>83</td>\n",
              "      <td>300000.0</td>\n",
              "      <td>Timely Comics</td>\n",
              "    </tr>\n",
              "  </tbody>\n",
              "</table>\n",
              "</div>\n",
              "      <button class=\"colab-df-convert\" onclick=\"convertToInteractive('df-3d63c60b-5859-4249-b25d-3604c3b6be8b')\"\n",
              "              title=\"Convert this dataframe to an interactive table.\"\n",
              "              style=\"display:none;\">\n",
              "        \n",
              "  <svg xmlns=\"http://www.w3.org/2000/svg\" height=\"24px\"viewBox=\"0 0 24 24\"\n",
              "       width=\"24px\">\n",
              "    <path d=\"M0 0h24v24H0V0z\" fill=\"none\"/>\n",
              "    <path d=\"M18.56 5.44l.94 2.06.94-2.06 2.06-.94-2.06-.94-.94-2.06-.94 2.06-2.06.94zm-11 1L8.5 8.5l.94-2.06 2.06-.94-2.06-.94L8.5 2.5l-.94 2.06-2.06.94zm10 10l.94 2.06.94-2.06 2.06-.94-2.06-.94-.94-2.06-.94 2.06-2.06.94z\"/><path d=\"M17.41 7.96l-1.37-1.37c-.4-.4-.92-.59-1.43-.59-.52 0-1.04.2-1.43.59L10.3 9.45l-7.72 7.72c-.78.78-.78 2.05 0 2.83L4 21.41c.39.39.9.59 1.41.59.51 0 1.02-.2 1.41-.59l7.78-7.78 2.81-2.81c.8-.78.8-2.07 0-2.86zM5.41 20L4 18.59l7.72-7.72 1.47 1.35L5.41 20z\"/>\n",
              "  </svg>\n",
              "      </button>\n",
              "      \n",
              "  <style>\n",
              "    .colab-df-container {\n",
              "      display:flex;\n",
              "      flex-wrap:wrap;\n",
              "      gap: 12px;\n",
              "    }\n",
              "\n",
              "    .colab-df-convert {\n",
              "      background-color: #E8F0FE;\n",
              "      border: none;\n",
              "      border-radius: 50%;\n",
              "      cursor: pointer;\n",
              "      display: none;\n",
              "      fill: #1967D2;\n",
              "      height: 32px;\n",
              "      padding: 0 0 0 0;\n",
              "      width: 32px;\n",
              "    }\n",
              "\n",
              "    .colab-df-convert:hover {\n",
              "      background-color: #E2EBFA;\n",
              "      box-shadow: 0px 1px 2px rgba(60, 64, 67, 0.3), 0px 1px 3px 1px rgba(60, 64, 67, 0.15);\n",
              "      fill: #174EA6;\n",
              "    }\n",
              "\n",
              "    [theme=dark] .colab-df-convert {\n",
              "      background-color: #3B4455;\n",
              "      fill: #D2E3FC;\n",
              "    }\n",
              "\n",
              "    [theme=dark] .colab-df-convert:hover {\n",
              "      background-color: #434B5C;\n",
              "      box-shadow: 0px 1px 3px 1px rgba(0, 0, 0, 0.15);\n",
              "      filter: drop-shadow(0px 1px 2px rgba(0, 0, 0, 0.3));\n",
              "      fill: #FFFFFF;\n",
              "    }\n",
              "  </style>\n",
              "\n",
              "      <script>\n",
              "        const buttonEl =\n",
              "          document.querySelector('#df-3d63c60b-5859-4249-b25d-3604c3b6be8b button.colab-df-convert');\n",
              "        buttonEl.style.display =\n",
              "          google.colab.kernel.accessAllowed ? 'block' : 'none';\n",
              "\n",
              "        async function convertToInteractive(key) {\n",
              "          const element = document.querySelector('#df-3d63c60b-5859-4249-b25d-3604c3b6be8b');\n",
              "          const dataTable =\n",
              "            await google.colab.kernel.invokeFunction('convertToInteractive',\n",
              "                                                     [key], {});\n",
              "          if (!dataTable) return;\n",
              "\n",
              "          const docLinkHtml = 'Like what you see? Visit the ' +\n",
              "            '<a target=\"_blank\" href=https://colab.research.google.com/notebooks/data_table.ipynb>data table notebook</a>'\n",
              "            + ' to learn more about interactive tables.';\n",
              "          element.innerHTML = '';\n",
              "          dataTable['output_type'] = 'display_data';\n",
              "          await google.colab.output.renderOutput(dataTable, element);\n",
              "          const docLink = document.createElement('div');\n",
              "          docLink.innerHTML = docLinkHtml;\n",
              "          element.appendChild(docLink);\n",
              "        }\n",
              "      </script>\n",
              "    </div>\n",
              "  </div>\n",
              "  "
            ],
            "text/plain": [
              "                         title  searched  owned  rating  rating_count  \\\n",
              "266              Action Comics     63691     19     4.5             2   \n",
              "43250                 Superman     24682     10     0.0             0   \n",
              "17586         Detective Comics     37656     11     5.0             2   \n",
              "3105       All-American Comics      4485      6     0.0             0   \n",
              "5432                    Batman     61085     20     4.0             1   \n",
              "377100  Captain America Comics      5327      6     0.0             0   \n",
              "1273             Action Comics     13280      8     0.0             0   \n",
              "100565         Amazing Fantasy     21278     74     5.0             4   \n",
              "377402           Marvel Comics      5065      3     0.0             0   \n",
              "377403           Marvel Comics      2137      0     0.0             0   \n",
              "\n",
              "        cover_date  current_value       pub_name  \n",
              "266             84      3000000.0      DC Comics  \n",
              "43250           83      1100000.0      DC Comics  \n",
              "17586           83      1000000.0      DC Comics  \n",
              "3105            82       700000.0      DC Comics  \n",
              "5432            82       550000.0      DC Comics  \n",
              "377100          81       365000.0  Timely Comics  \n",
              "1273            84       340000.0      DC Comics  \n",
              "100565          60       340000.0  Marvel Comics  \n",
              "377402          83       320000.0  Timely Comics  \n",
              "377403          83       300000.0  Timely Comics  "
            ]
          },
          "metadata": {},
          "execution_count": 40
        }
      ]
    },
    {
      "cell_type": "code",
      "source": [
        "dados_finalizar = dados[['cover_date', 'current_value', 'searched', 'owned', 'issues_total','pub_issues_total']]"
      ],
      "metadata": {
        "id": "F4bZlAoeTZrH"
      },
      "execution_count": 41,
      "outputs": []
    },
    {
      "cell_type": "code",
      "source": [
        "#top_10_current_value = dados[['title_issue','current_value']]\n",
        "\n",
        "#plotar_top_10_current_value = top_10_current_value.sort_values(by= 'current_value', ascending=False).iloc[:10,]\n",
        "\n",
        "#plt.figure(figsize= [15,8])\n",
        "#plt.bar(x = plotar_top_10_current_value['title_issue'], height=plotar_top_10_current_value.current_value)\n",
        "#plt.xticks(rotation = 45)\n",
        "#plt.ylabel('Valor Atual');\n",
        "#plt.xlabel('Titulo_Ed');\n",
        "#plt.title('Edições mais valiosas');"
      ],
      "metadata": {
        "id": "uR2kmpvCtw0V"
      },
      "execution_count": 42,
      "outputs": []
    },
    {
      "cell_type": "code",
      "source": [
        "agrupado_title = dados.groupby('title')['searched', 'owned'].sum()"
      ],
      "metadata": {
        "id": "IjyjwhQVscfy"
      },
      "execution_count": 43,
      "outputs": []
    },
    {
      "cell_type": "code",
      "source": [
        "agrupado_title.reset_index(inplace=True)\n",
        "agrupado_title_searched = agrupado_title.sort_values(by='searched', ascending=False).iloc[:10]"
      ],
      "metadata": {
        "id": "89Bmlyg4s0Hw"
      },
      "execution_count": 44,
      "outputs": []
    },
    {
      "cell_type": "code",
      "source": [
        "agrupado_title_searched"
      ],
      "metadata": {
        "colab": {
          "base_uri": "https://localhost:8080/",
          "height": 363
        },
        "id": "8Yhz1ipyu9ZG",
        "outputId": "d77d10d4-16b0-48fe-fe1d-ab49b82b519c"
      },
      "execution_count": 45,
      "outputs": [
        {
          "output_type": "execute_result",
          "data": {
            "text/html": [
              "\n",
              "  <div id=\"df-f9ae171b-5eda-4b4c-b2a4-4bade38d7db2\">\n",
              "    <div class=\"colab-df-container\">\n",
              "      <div>\n",
              "<style scoped>\n",
              "    .dataframe tbody tr th:only-of-type {\n",
              "        vertical-align: middle;\n",
              "    }\n",
              "\n",
              "    .dataframe tbody tr th {\n",
              "        vertical-align: top;\n",
              "    }\n",
              "\n",
              "    .dataframe thead th {\n",
              "        text-align: right;\n",
              "    }\n",
              "</style>\n",
              "<table border=\"1\" class=\"dataframe\">\n",
              "  <thead>\n",
              "    <tr style=\"text-align: right;\">\n",
              "      <th></th>\n",
              "      <th>title</th>\n",
              "      <th>searched</th>\n",
              "      <th>owned</th>\n",
              "    </tr>\n",
              "  </thead>\n",
              "  <tbody>\n",
              "    <tr>\n",
              "      <th>1886</th>\n",
              "      <td>Amazing Spider-Man</td>\n",
              "      <td>14182111</td>\n",
              "      <td>805549</td>\n",
              "    </tr>\n",
              "    <tr>\n",
              "      <th>4373</th>\n",
              "      <td>Batman</td>\n",
              "      <td>7125555</td>\n",
              "      <td>540190</td>\n",
              "    </tr>\n",
              "    <tr>\n",
              "      <th>44645</th>\n",
              "      <td>Uncanny X-Men</td>\n",
              "      <td>5770046</td>\n",
              "      <td>676028</td>\n",
              "    </tr>\n",
              "    <tr>\n",
              "      <th>47674</th>\n",
              "      <td>X-Men</td>\n",
              "      <td>4347076</td>\n",
              "      <td>343221</td>\n",
              "    </tr>\n",
              "    <tr>\n",
              "      <th>3594</th>\n",
              "      <td>Avengers</td>\n",
              "      <td>3316312</td>\n",
              "      <td>347826</td>\n",
              "    </tr>\n",
              "    <tr>\n",
              "      <th>15123</th>\n",
              "      <td>Fantastic Four</td>\n",
              "      <td>2925224</td>\n",
              "      <td>318600</td>\n",
              "    </tr>\n",
              "    <tr>\n",
              "      <th>12355</th>\n",
              "      <td>Detective Comics</td>\n",
              "      <td>2818292</td>\n",
              "      <td>315485</td>\n",
              "    </tr>\n",
              "    <tr>\n",
              "      <th>42417</th>\n",
              "      <td>The Walking Dead</td>\n",
              "      <td>2671420</td>\n",
              "      <td>119497</td>\n",
              "    </tr>\n",
              "    <tr>\n",
              "      <th>11166</th>\n",
              "      <td>Daredevil</td>\n",
              "      <td>2487786</td>\n",
              "      <td>292690</td>\n",
              "    </tr>\n",
              "    <tr>\n",
              "      <th>37071</th>\n",
              "      <td>Spawn</td>\n",
              "      <td>2470223</td>\n",
              "      <td>199939</td>\n",
              "    </tr>\n",
              "  </tbody>\n",
              "</table>\n",
              "</div>\n",
              "      <button class=\"colab-df-convert\" onclick=\"convertToInteractive('df-f9ae171b-5eda-4b4c-b2a4-4bade38d7db2')\"\n",
              "              title=\"Convert this dataframe to an interactive table.\"\n",
              "              style=\"display:none;\">\n",
              "        \n",
              "  <svg xmlns=\"http://www.w3.org/2000/svg\" height=\"24px\"viewBox=\"0 0 24 24\"\n",
              "       width=\"24px\">\n",
              "    <path d=\"M0 0h24v24H0V0z\" fill=\"none\"/>\n",
              "    <path d=\"M18.56 5.44l.94 2.06.94-2.06 2.06-.94-2.06-.94-.94-2.06-.94 2.06-2.06.94zm-11 1L8.5 8.5l.94-2.06 2.06-.94-2.06-.94L8.5 2.5l-.94 2.06-2.06.94zm10 10l.94 2.06.94-2.06 2.06-.94-2.06-.94-.94-2.06-.94 2.06-2.06.94z\"/><path d=\"M17.41 7.96l-1.37-1.37c-.4-.4-.92-.59-1.43-.59-.52 0-1.04.2-1.43.59L10.3 9.45l-7.72 7.72c-.78.78-.78 2.05 0 2.83L4 21.41c.39.39.9.59 1.41.59.51 0 1.02-.2 1.41-.59l7.78-7.78 2.81-2.81c.8-.78.8-2.07 0-2.86zM5.41 20L4 18.59l7.72-7.72 1.47 1.35L5.41 20z\"/>\n",
              "  </svg>\n",
              "      </button>\n",
              "      \n",
              "  <style>\n",
              "    .colab-df-container {\n",
              "      display:flex;\n",
              "      flex-wrap:wrap;\n",
              "      gap: 12px;\n",
              "    }\n",
              "\n",
              "    .colab-df-convert {\n",
              "      background-color: #E8F0FE;\n",
              "      border: none;\n",
              "      border-radius: 50%;\n",
              "      cursor: pointer;\n",
              "      display: none;\n",
              "      fill: #1967D2;\n",
              "      height: 32px;\n",
              "      padding: 0 0 0 0;\n",
              "      width: 32px;\n",
              "    }\n",
              "\n",
              "    .colab-df-convert:hover {\n",
              "      background-color: #E2EBFA;\n",
              "      box-shadow: 0px 1px 2px rgba(60, 64, 67, 0.3), 0px 1px 3px 1px rgba(60, 64, 67, 0.15);\n",
              "      fill: #174EA6;\n",
              "    }\n",
              "\n",
              "    [theme=dark] .colab-df-convert {\n",
              "      background-color: #3B4455;\n",
              "      fill: #D2E3FC;\n",
              "    }\n",
              "\n",
              "    [theme=dark] .colab-df-convert:hover {\n",
              "      background-color: #434B5C;\n",
              "      box-shadow: 0px 1px 3px 1px rgba(0, 0, 0, 0.15);\n",
              "      filter: drop-shadow(0px 1px 2px rgba(0, 0, 0, 0.3));\n",
              "      fill: #FFFFFF;\n",
              "    }\n",
              "  </style>\n",
              "\n",
              "      <script>\n",
              "        const buttonEl =\n",
              "          document.querySelector('#df-f9ae171b-5eda-4b4c-b2a4-4bade38d7db2 button.colab-df-convert');\n",
              "        buttonEl.style.display =\n",
              "          google.colab.kernel.accessAllowed ? 'block' : 'none';\n",
              "\n",
              "        async function convertToInteractive(key) {\n",
              "          const element = document.querySelector('#df-f9ae171b-5eda-4b4c-b2a4-4bade38d7db2');\n",
              "          const dataTable =\n",
              "            await google.colab.kernel.invokeFunction('convertToInteractive',\n",
              "                                                     [key], {});\n",
              "          if (!dataTable) return;\n",
              "\n",
              "          const docLinkHtml = 'Like what you see? Visit the ' +\n",
              "            '<a target=\"_blank\" href=https://colab.research.google.com/notebooks/data_table.ipynb>data table notebook</a>'\n",
              "            + ' to learn more about interactive tables.';\n",
              "          element.innerHTML = '';\n",
              "          dataTable['output_type'] = 'display_data';\n",
              "          await google.colab.output.renderOutput(dataTable, element);\n",
              "          const docLink = document.createElement('div');\n",
              "          docLink.innerHTML = docLinkHtml;\n",
              "          element.appendChild(docLink);\n",
              "        }\n",
              "      </script>\n",
              "    </div>\n",
              "  </div>\n",
              "  "
            ],
            "text/plain": [
              "                    title  searched   owned\n",
              "1886   Amazing Spider-Man  14182111  805549\n",
              "4373               Batman   7125555  540190\n",
              "44645       Uncanny X-Men   5770046  676028\n",
              "47674               X-Men   4347076  343221\n",
              "3594             Avengers   3316312  347826\n",
              "15123      Fantastic Four   2925224  318600\n",
              "12355    Detective Comics   2818292  315485\n",
              "42417    The Walking Dead   2671420  119497\n",
              "11166           Daredevil   2487786  292690\n",
              "37071               Spawn   2470223  199939"
            ]
          },
          "metadata": {},
          "execution_count": 45
        }
      ]
    },
    {
      "cell_type": "code",
      "source": [
        "plt.figure(figsize= [15,8])\n",
        "plt.bar(x = agrupado_title_searched['title'], height=agrupado_title_searched.searched)\n",
        "plt.xticks(rotation = 45)\n",
        "plt.ylabel('Busca');\n",
        "plt.xlabel('Comics');\n",
        "plt.title('Comics mais buscados');"
      ],
      "metadata": {
        "colab": {
          "base_uri": "https://localhost:8080/",
          "height": 582
        },
        "id": "7_alqb3Us5pk",
        "outputId": "83522c18-1c0c-4955-e9b2-5cfe0eb6ee61"
      },
      "execution_count": 46,
      "outputs": [
        {
          "output_type": "display_data",
          "data": {
            "image/png": "[encoded data removed]",
            "text/plain": [
              "<Figure size 1080x576 with 1 Axes>"
            ]
          },
          "metadata": {
            "needs_background": "light"
          }
        }
      ]
    },
    {
      "cell_type": "code",
      "source": [
        "agrupado_pub_name = dados.groupby('pub_name')['searched', 'owned'].sum()\n",
        "agrupado_pub_name.reset_index(inplace=True)\n",
        "agrupado_pub_name_searched = agrupado_pub_name.sort_values(by='searched', ascending=False).iloc[:10]"
      ],
      "metadata": {
        "id": "SOaTdJiKuEPX"
      },
      "execution_count": 47,
      "outputs": []
    },
    {
      "cell_type": "code",
      "source": [
        "plt.figure(figsize= [15,8])\n",
        "plt.bar(x = agrupado_pub_name_searched['pub_name'], height=agrupado_pub_name_searched.searched)\n",
        "plt.xticks(rotation = 45)\n",
        "plt.ylabel('Publicadoras mais procuradas');\n",
        "plt.xlabel('Publicadoras');\n",
        "plt.title('Publicadoras mais procuradas');"
      ],
      "metadata": {
        "colab": {
          "base_uri": "https://localhost:8080/",
          "height": 619
        },
        "id": "FnPpHYwPvcb4",
        "outputId": "6b9f2365-128f-4e6c-dd67-8f87aac2bd43"
      },
      "execution_count": 48,
      "outputs": [
        {
          "output_type": "display_data",
          "data": {
            "image/png": "[encoded data removed]",
            "text/plain": [
              "<Figure size 1080x576 with 1 Axes>"
            ]
          },
          "metadata": {
            "needs_background": "light"
          }
        }
      ]
    },
    {
      "cell_type": "code",
      "source": [
        "dados = dados[dados['issues_total'].notna()]"
      ],
      "metadata": {
        "id": "77KtlNKa9zA-"
      },
      "execution_count": 49,
      "outputs": []
    },
    {
      "cell_type": "code",
      "source": [
        "pd.isna(dados_finalizar).sum()"
      ],
      "metadata": {
        "colab": {
          "base_uri": "https://localhost:8080/"
        },
        "id": "R40pmhNyzLWZ",
        "outputId": "aedade5f-32c9-4b79-8085-712f4a533961"
      },
      "execution_count": 50,
      "outputs": [
        {
          "output_type": "execute_result",
          "data": {
            "text/plain": [
              "cover_date             0\n",
              "current_value          0\n",
              "searched               0\n",
              "owned                  0\n",
              "issues_total        3108\n",
              "pub_issues_total       0\n",
              "dtype: int64"
            ]
          },
          "metadata": {},
          "execution_count": 50
        }
      ]
    },
    {
      "cell_type": "code",
      "source": [
        "corr_matrix = dados_finalizar.corr()\n",
        "corr_matrix['current_value'].sort_values(ascending=False)"
      ],
      "metadata": {
        "colab": {
          "base_uri": "https://localhost:8080/"
        },
        "id": "Na8W0ykpKHIy",
        "outputId": "8fd6734c-f065-480e-814a-5c1df31498b3"
      },
      "execution_count": 51,
      "outputs": [
        {
          "output_type": "execute_result",
          "data": {
            "text/plain": [
              "current_value       1.000000\n",
              "searched            0.084161\n",
              "cover_date          0.044758\n",
              "issues_total        0.024052\n",
              "pub_issues_total    0.005789\n",
              "owned              -0.006010\n",
              "Name: current_value, dtype: float64"
            ]
          },
          "metadata": {},
          "execution_count": 51
        }
      ]
    },
    {
      "cell_type": "code",
      "source": [
        ""
      ],
      "metadata": {
        "id": "AOlsHIy0vtEZ"
      },
      "execution_count": 51,
      "outputs": []
    }
  ]
}