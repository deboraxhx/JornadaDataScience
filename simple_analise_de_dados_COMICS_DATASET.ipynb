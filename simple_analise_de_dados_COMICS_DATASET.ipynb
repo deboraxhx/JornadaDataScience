{
  "nbformat": 4,
  "nbformat_minor": 0,
  "metadata": {
    "colab": {
      "name": "simple_analise de_dados_COMICS_DATASET.ipynb",
      "provenance": [],
      "collapsed_sections": [
        "N4bAv_JN3cPn",
        "4dOLKUe53pxY"
      ],
      "mount_file_id": "1JRc049CGiTNaTQiLHpsdMau3OHeGcyTy",
      "authorship_tag": "ABX9TyOKQVgC04Y9S6khwTI/1+1L",
      "include_colab_link": true
    },
    "kernelspec": {
      "name": "python3",
      "display_name": "Python 3"
    },
    "language_info": {
      "name": "python"
    }
  },
  "cells": [
    {
      "cell_type": "markdown",
      "metadata": {
        "id": "view-in-github",
        "colab_type": "text"
      },
      "source": [
        "<a href=\"https://colab.research.google.com/github/deboraxhx/JornadaDataScience/blob/master/simple_analise_de_dados_COMICS_DATASET.ipynb\" target=\"_parent\"><img src=\"https://colab.research.google.com/assets/colab-badge.svg\" alt=\"Open In Colab\"/></a>"
      ]
    },
    {
      "cell_type": "code",
      "execution_count": null,
      "metadata": {
        "id": "63Q7Lhe458_I"
      },
      "outputs": [],
      "source": [
        "import pandas as pd\n",
        "import numpy as np\n",
        "import matplotlib.pyplot as plt\n",
        "import seaborn as sns\n",
        "import warnings\n",
        "warnings.filterwarnings(\"ignore\")\n",
        "\n",
        "\n",
        "dados = pd.read_csv('/content/drive/MyDrive/comics_data.csv')"
      ]
    },
    {
      "cell_type": "markdown",
      "source": [
        "Visualizando os dados"
      ],
      "metadata": {
        "id": "09FHomPl63Rs"
      }
    },
    {
      "cell_type": "code",
      "source": [
        "dados.head().T"
      ],
      "metadata": {
        "colab": {
          "base_uri": "https://localhost:8080/",
          "height": 1000
        },
        "id": "ZRp68-wk6Uqs",
        "outputId": "c65effd2-c3c4-422b-e075-ca818bc4959f"
      },
      "execution_count": null,
      "outputs": [
        {
          "output_type": "execute_result",
          "data": {
            "text/html": [
              "\n",
              "  <div id=\"df-9d1cd11b-e2d9-4b96-b7e8-36a46208cf87\">\n",
              "    <div class=\"colab-df-container\">\n",
              "      <div>\n",
              "<style scoped>\n",
              "    .dataframe tbody tr th:only-of-type {\n",
              "        vertical-align: middle;\n",
              "    }\n",
              "\n",
              "    .dataframe tbody tr th {\n",
              "        vertical-align: top;\n",
              "    }\n",
              "\n",
              "    .dataframe thead th {\n",
              "        text-align: right;\n",
              "    }\n",
              "</style>\n",
              "<table border=\"1\" class=\"dataframe\">\n",
              "  <thead>\n",
              "    <tr style=\"text-align: right;\">\n",
              "      <th></th>\n",
              "      <th>0</th>\n",
              "      <th>1</th>\n",
              "      <th>2</th>\n",
              "      <th>3</th>\n",
              "      <th>4</th>\n",
              "    </tr>\n",
              "  </thead>\n",
              "  <tbody>\n",
              "    <tr>\n",
              "      <th>Unnamed: 0</th>\n",
              "      <td>0</td>\n",
              "      <td>1</td>\n",
              "      <td>2</td>\n",
              "      <td>3</td>\n",
              "      <td>4</td>\n",
              "    </tr>\n",
              "    <tr>\n",
              "      <th>title</th>\n",
              "      <td>'Mazing Man</td>\n",
              "      <td>'Mazing Man</td>\n",
              "      <td>'Mazing Man</td>\n",
              "      <td>'Mazing Man</td>\n",
              "      <td>'Mazing Man</td>\n",
              "    </tr>\n",
              "    <tr>\n",
              "      <th>title_link</th>\n",
              "      <td>/series/4036/0/dc-comics-mazing-man</td>\n",
              "      <td>/series/4036/0/dc-comics-mazing-man</td>\n",
              "      <td>/series/4036/0/dc-comics-mazing-man</td>\n",
              "      <td>/series/4036/0/dc-comics-mazing-man</td>\n",
              "      <td>/series/4036/0/dc-comics-mazing-man</td>\n",
              "    </tr>\n",
              "    <tr>\n",
              "      <th>issue_link</th>\n",
              "      <td>https://comicbookrealm.com/series/4036/54341/d...</td>\n",
              "      <td>https://comicbookrealm.com/series/4036/54350/d...</td>\n",
              "      <td>https://comicbookrealm.com/series/4036/54351/d...</td>\n",
              "      <td>https://comicbookrealm.com/series/4036/54352/d...</td>\n",
              "      <td>https://comicbookrealm.com/series/4036/54342/d...</td>\n",
              "    </tr>\n",
              "    <tr>\n",
              "      <th>cover_link</th>\n",
              "      <td>/cover-scan/acb40c8a57d50781194e37be2a94b3d5/l...</td>\n",
              "      <td>/cover-scan/293f4e231eccb71ad6e6bc3fe3e49c4f/l...</td>\n",
              "      <td>/cover-scan/45c7a284efa7d07f7bb5c9afb3080ffd/l...</td>\n",
              "      <td>/cover-scan/21764f5da802b25622831976f1619aa4/l...</td>\n",
              "      <td>/cover-scan/3a4df503a1fb2450b1227f4c1f0c45d9/l...</td>\n",
              "    </tr>\n",
              "    <tr>\n",
              "      <th>issue</th>\n",
              "      <td># 1</td>\n",
              "      <td># 10</td>\n",
              "      <td># 11</td>\n",
              "      <td># 12</td>\n",
              "      <td># 2</td>\n",
              "    </tr>\n",
              "    <tr>\n",
              "      <th>cover_date</th>\n",
              "      <td>Jan '86</td>\n",
              "      <td>Oct '86</td>\n",
              "      <td>Nov '86</td>\n",
              "      <td>Dec '86</td>\n",
              "      <td>Feb '86</td>\n",
              "    </tr>\n",
              "    <tr>\n",
              "      <th>cover_price</th>\n",
              "      <td>$0.75</td>\n",
              "      <td>$0.75</td>\n",
              "      <td>$0.75</td>\n",
              "      <td>$0.75</td>\n",
              "      <td>$0.75</td>\n",
              "    </tr>\n",
              "    <tr>\n",
              "      <th>current_value</th>\n",
              "      <td>$3.00</td>\n",
              "      <td>$3.00</td>\n",
              "      <td>$3.00</td>\n",
              "      <td>$4.00</td>\n",
              "      <td>$3.00</td>\n",
              "    </tr>\n",
              "    <tr>\n",
              "      <th>hist_prices_link</th>\n",
              "      <td>/comic.php?a=historical&amp;comic=54341?keepThis=t...</td>\n",
              "      <td>/comic.php?a=historical&amp;comic=54350?keepThis=t...</td>\n",
              "      <td>/comic.php?a=historical&amp;comic=54351?keepThis=t...</td>\n",
              "      <td>/comic.php?a=historical&amp;comic=54352?keepThis=t...</td>\n",
              "      <td>/comic.php?a=historical&amp;comic=54342?keepThis=t...</td>\n",
              "    </tr>\n",
              "    <tr>\n",
              "      <th>searched</th>\n",
              "      <td>1259</td>\n",
              "      <td>182</td>\n",
              "      <td>190</td>\n",
              "      <td>670</td>\n",
              "      <td>413</td>\n",
              "    </tr>\n",
              "    <tr>\n",
              "      <th>owned</th>\n",
              "      <td>181</td>\n",
              "      <td>70</td>\n",
              "      <td>65</td>\n",
              "      <td>96</td>\n",
              "      <td>118</td>\n",
              "    </tr>\n",
              "    <tr>\n",
              "      <th>pages</th>\n",
              "      <td>32.0</td>\n",
              "      <td>NaN</td>\n",
              "      <td>NaN</td>\n",
              "      <td>22.0</td>\n",
              "      <td>NaN</td>\n",
              "    </tr>\n",
              "    <tr>\n",
              "      <th>rating</th>\n",
              "      <td>0.0</td>\n",
              "      <td>0.0</td>\n",
              "      <td>0.0</td>\n",
              "      <td>0.0</td>\n",
              "      <td>0.0</td>\n",
              "    </tr>\n",
              "    <tr>\n",
              "      <th>rating_count</th>\n",
              "      <td>0</td>\n",
              "      <td>0</td>\n",
              "      <td>0</td>\n",
              "      <td>0</td>\n",
              "      <td>0</td>\n",
              "    </tr>\n",
              "    <tr>\n",
              "      <th>ISBN-UPC</th>\n",
              "      <td>NaN</td>\n",
              "      <td>NaN</td>\n",
              "      <td>NaN</td>\n",
              "      <td>NaN</td>\n",
              "      <td>NaN</td>\n",
              "    </tr>\n",
              "    <tr>\n",
              "      <th>est_print_run</th>\n",
              "      <td>NaN</td>\n",
              "      <td>NaN</td>\n",
              "      <td>NaN</td>\n",
              "      <td>NaN</td>\n",
              "      <td>NaN</td>\n",
              "    </tr>\n",
              "    <tr>\n",
              "      <th>variant_of</th>\n",
              "      <td>NaN</td>\n",
              "      <td>NaN</td>\n",
              "      <td>NaN</td>\n",
              "      <td>NaN</td>\n",
              "      <td>NaN</td>\n",
              "    </tr>\n",
              "    <tr>\n",
              "      <th>preview</th>\n",
              "      <td>NaN</td>\n",
              "      <td>NaN</td>\n",
              "      <td>NaN</td>\n",
              "      <td>NaN</td>\n",
              "      <td>NaN</td>\n",
              "    </tr>\n",
              "    <tr>\n",
              "      <th>synopsis</th>\n",
              "      <td>1st appearance of 'Mazing Man</td>\n",
              "      <td>NaN</td>\n",
              "      <td>NaN</td>\n",
              "      <td>\"Ch-Ch-Changes.\"</td>\n",
              "      <td>NaN</td>\n",
              "    </tr>\n",
              "    <tr>\n",
              "      <th>contributors_names</th>\n",
              "      <td>['Stephen Destefano', 'Alan Gold', 'Nansi Hool...</td>\n",
              "      <td>no contributors assigned</td>\n",
              "      <td>no contributors assigned</td>\n",
              "      <td>['Craig Boldman', 'Stephen DeStafano', 'Nansi ...</td>\n",
              "      <td>no contributors assigned</td>\n",
              "    </tr>\n",
              "    <tr>\n",
              "      <th>contributors_roles</th>\n",
              "      <td>['Pencils-CoverArt', 'Editor', 'Colors', 'Cove...</td>\n",
              "      <td>no contributors assigned</td>\n",
              "      <td>no contributors assigned</td>\n",
              "      <td>['Inks', 'Scripts-CoverArt', 'Colors', 'CoverA...</td>\n",
              "      <td>no contributors assigned</td>\n",
              "    </tr>\n",
              "    <tr>\n",
              "      <th>characters</th>\n",
              "      <td>[[\"'Mazing Man\", '/character-photos/character_...</td>\n",
              "      <td>no characters assigned</td>\n",
              "      <td>no characters assigned</td>\n",
              "      <td>[[\"'Mazing Man\", '/character-photos/character_...</td>\n",
              "      <td>no characters assigned</td>\n",
              "    </tr>\n",
              "    <tr>\n",
              "      <th>pub_id</th>\n",
              "      <td>1.0</td>\n",
              "      <td>1.0</td>\n",
              "      <td>1.0</td>\n",
              "      <td>1.0</td>\n",
              "      <td>1.0</td>\n",
              "    </tr>\n",
              "    <tr>\n",
              "      <th>volume</th>\n",
              "      <td>NaN</td>\n",
              "      <td>NaN</td>\n",
              "      <td>NaN</td>\n",
              "      <td>NaN</td>\n",
              "      <td>NaN</td>\n",
              "    </tr>\n",
              "    <tr>\n",
              "      <th>years</th>\n",
              "      <td>1986</td>\n",
              "      <td>1986</td>\n",
              "      <td>1986</td>\n",
              "      <td>1986</td>\n",
              "      <td>1986</td>\n",
              "    </tr>\n",
              "    <tr>\n",
              "      <th>issues_total</th>\n",
              "      <td>15.0</td>\n",
              "      <td>15.0</td>\n",
              "      <td>15.0</td>\n",
              "      <td>15.0</td>\n",
              "      <td>15.0</td>\n",
              "    </tr>\n",
              "    <tr>\n",
              "      <th>pub_name</th>\n",
              "      <td>DC Comics</td>\n",
              "      <td>DC Comics</td>\n",
              "      <td>DC Comics</td>\n",
              "      <td>DC Comics</td>\n",
              "      <td>DC Comics</td>\n",
              "    </tr>\n",
              "    <tr>\n",
              "      <th>pub_titles_total</th>\n",
              "      <td>4688</td>\n",
              "      <td>4688</td>\n",
              "      <td>4688</td>\n",
              "      <td>4688</td>\n",
              "      <td>4688</td>\n",
              "    </tr>\n",
              "    <tr>\n",
              "      <th>pub_issues_total</th>\n",
              "      <td>57043</td>\n",
              "      <td>57043</td>\n",
              "      <td>57043</td>\n",
              "      <td>57043</td>\n",
              "      <td>57043</td>\n",
              "    </tr>\n",
              "  </tbody>\n",
              "</table>\n",
              "</div>\n",
              "      <button class=\"colab-df-convert\" onclick=\"convertToInteractive('df-9d1cd11b-e2d9-4b96-b7e8-36a46208cf87')\"\n",
              "              title=\"Convert this dataframe to an interactive table.\"\n",
              "              style=\"display:none;\">\n",
              "        \n",
              "  <svg xmlns=\"http://www.w3.org/2000/svg\" height=\"24px\"viewBox=\"0 0 24 24\"\n",
              "       width=\"24px\">\n",
              "    <path d=\"M0 0h24v24H0V0z\" fill=\"none\"/>\n",
              "    <path d=\"M18.56 5.44l.94 2.06.94-2.06 2.06-.94-2.06-.94-.94-2.06-.94 2.06-2.06.94zm-11 1L8.5 8.5l.94-2.06 2.06-.94-2.06-.94L8.5 2.5l-.94 2.06-2.06.94zm10 10l.94 2.06.94-2.06 2.06-.94-2.06-.94-.94-2.06-.94 2.06-2.06.94z\"/><path d=\"M17.41 7.96l-1.37-1.37c-.4-.4-.92-.59-1.43-.59-.52 0-1.04.2-1.43.59L10.3 9.45l-7.72 7.72c-.78.78-.78 2.05 0 2.83L4 21.41c.39.39.9.59 1.41.59.51 0 1.02-.2 1.41-.59l7.78-7.78 2.81-2.81c.8-.78.8-2.07 0-2.86zM5.41 20L4 18.59l7.72-7.72 1.47 1.35L5.41 20z\"/>\n",
              "  </svg>\n",
              "      </button>\n",
              "      \n",
              "  <style>\n",
              "    .colab-df-container {\n",
              "      display:flex;\n",
              "      flex-wrap:wrap;\n",
              "      gap: 12px;\n",
              "    }\n",
              "\n",
              "    .colab-df-convert {\n",
              "      background-color: #E8F0FE;\n",
              "      border: none;\n",
              "      border-radius: 50%;\n",
              "      cursor: pointer;\n",
              "      display: none;\n",
              "      fill: #1967D2;\n",
              "      height: 32px;\n",
              "      padding: 0 0 0 0;\n",
              "      width: 32px;\n",
              "    }\n",
              "\n",
              "    .colab-df-convert:hover {\n",
              "      background-color: #E2EBFA;\n",
              "      box-shadow: 0px 1px 2px rgba(60, 64, 67, 0.3), 0px 1px 3px 1px rgba(60, 64, 67, 0.15);\n",
              "      fill: #174EA6;\n",
              "    }\n",
              "\n",
              "    [theme=dark] .colab-df-convert {\n",
              "      background-color: #3B4455;\n",
              "      fill: #D2E3FC;\n",
              "    }\n",
              "\n",
              "    [theme=dark] .colab-df-convert:hover {\n",
              "      background-color: #434B5C;\n",
              "      box-shadow: 0px 1px 3px 1px rgba(0, 0, 0, 0.15);\n",
              "      filter: drop-shadow(0px 1px 2px rgba(0, 0, 0, 0.3));\n",
              "      fill: #FFFFFF;\n",
              "    }\n",
              "  </style>\n",
              "\n",
              "      <script>\n",
              "        const buttonEl =\n",
              "          document.querySelector('#df-9d1cd11b-e2d9-4b96-b7e8-36a46208cf87 button.colab-df-convert');\n",
              "        buttonEl.style.display =\n",
              "          google.colab.kernel.accessAllowed ? 'block' : 'none';\n",
              "\n",
              "        async function convertToInteractive(key) {\n",
              "          const element = document.querySelector('#df-9d1cd11b-e2d9-4b96-b7e8-36a46208cf87');\n",
              "          const dataTable =\n",
              "            await google.colab.kernel.invokeFunction('convertToInteractive',\n",
              "                                                     [key], {});\n",
              "          if (!dataTable) return;\n",
              "\n",
              "          const docLinkHtml = 'Like what you see? Visit the ' +\n",
              "            '<a target=\"_blank\" href=https://colab.research.google.com/notebooks/data_table.ipynb>data table notebook</a>'\n",
              "            + ' to learn more about interactive tables.';\n",
              "          element.innerHTML = '';\n",
              "          dataTable['output_type'] = 'display_data';\n",
              "          await google.colab.output.renderOutput(dataTable, element);\n",
              "          const docLink = document.createElement('div');\n",
              "          docLink.innerHTML = docLinkHtml;\n",
              "          element.appendChild(docLink);\n",
              "        }\n",
              "      </script>\n",
              "    </div>\n",
              "  </div>\n",
              "  "
            ],
            "text/plain": [
              "                                                                    0  ...                                                  4\n",
              "Unnamed: 0                                                          0  ...                                                  4\n",
              "title                                                     'Mazing Man  ...                                        'Mazing Man\n",
              "title_link                        /series/4036/0/dc-comics-mazing-man  ...                /series/4036/0/dc-comics-mazing-man\n",
              "issue_link          https://comicbookrealm.com/series/4036/54341/d...  ...  https://comicbookrealm.com/series/4036/54342/d...\n",
              "cover_link          /cover-scan/acb40c8a57d50781194e37be2a94b3d5/l...  ...  /cover-scan/3a4df503a1fb2450b1227f4c1f0c45d9/l...\n",
              "issue                                                             # 1  ...                                                # 2\n",
              "cover_date                                                    Jan '86  ...                                            Feb '86\n",
              "cover_price                                                     $0.75  ...                                              $0.75\n",
              "current_value                                                   $3.00  ...                                              $3.00\n",
              "hist_prices_link    /comic.php?a=historical&comic=54341?keepThis=t...  ...  /comic.php?a=historical&comic=54342?keepThis=t...\n",
              "searched                                                         1259  ...                                                413\n",
              "owned                                                             181  ...                                                118\n",
              "pages                                                            32.0  ...                                                NaN\n",
              "rating                                                            0.0  ...                                                0.0\n",
              "rating_count                                                        0  ...                                                  0\n",
              "ISBN-UPC                                                          NaN  ...                                                NaN\n",
              "est_print_run                                                     NaN  ...                                                NaN\n",
              "variant_of                                                        NaN  ...                                                NaN\n",
              "preview                                                           NaN  ...                                                NaN\n",
              "synopsis                                1st appearance of 'Mazing Man  ...                                                NaN\n",
              "contributors_names  ['Stephen Destefano', 'Alan Gold', 'Nansi Hool...  ...                           no contributors assigned\n",
              "contributors_roles  ['Pencils-CoverArt', 'Editor', 'Colors', 'Cove...  ...                           no contributors assigned\n",
              "characters          [[\"'Mazing Man\", '/character-photos/character_...  ...                             no characters assigned\n",
              "pub_id                                                            1.0  ...                                                1.0\n",
              "volume                                                            NaN  ...                                                NaN\n",
              "years                                                            1986  ...                                               1986\n",
              "issues_total                                                     15.0  ...                                               15.0\n",
              "pub_name                                                    DC Comics  ...                                          DC Comics\n",
              "pub_titles_total                                                 4688  ...                                               4688\n",
              "pub_issues_total                                                57043  ...                                              57043\n",
              "\n",
              "[30 rows x 5 columns]"
            ]
          },
          "metadata": {},
          "execution_count": 3
        }
      ]
    },
    {
      "cell_type": "code",
      "source": [
        "dados.describe().T"
      ],
      "metadata": {
        "colab": {
          "base_uri": "https://localhost:8080/",
          "height": 363
        },
        "id": "K9dVhspy69kI",
        "outputId": "2ccdafd6-1324-4fde-d7fc-bdc689bcebc4"
      },
      "execution_count": null,
      "outputs": [
        {
          "output_type": "execute_result",
          "data": {
            "text/html": [
              "\n",
              "  <div id=\"df-c6521964-97c0-4339-bec1-05e1d9d98149\">\n",
              "    <div class=\"colab-df-container\">\n",
              "      <div>\n",
              "<style scoped>\n",
              "    .dataframe tbody tr th:only-of-type {\n",
              "        vertical-align: middle;\n",
              "    }\n",
              "\n",
              "    .dataframe tbody tr th {\n",
              "        vertical-align: top;\n",
              "    }\n",
              "\n",
              "    .dataframe thead th {\n",
              "        text-align: right;\n",
              "    }\n",
              "</style>\n",
              "<table border=\"1\" class=\"dataframe\">\n",
              "  <thead>\n",
              "    <tr style=\"text-align: right;\">\n",
              "      <th></th>\n",
              "      <th>count</th>\n",
              "      <th>mean</th>\n",
              "      <th>std</th>\n",
              "      <th>min</th>\n",
              "      <th>25%</th>\n",
              "      <th>50%</th>\n",
              "      <th>75%</th>\n",
              "      <th>max</th>\n",
              "    </tr>\n",
              "  </thead>\n",
              "  <tbody>\n",
              "    <tr>\n",
              "      <th>Unnamed: 0</th>\n",
              "      <td>461301.0</td>\n",
              "      <td>230650.000000</td>\n",
              "      <td>133166.272601</td>\n",
              "      <td>0.0</td>\n",
              "      <td>115325.0</td>\n",
              "      <td>230650.0</td>\n",
              "      <td>345975.0</td>\n",
              "      <td>461300.0</td>\n",
              "    </tr>\n",
              "    <tr>\n",
              "      <th>searched</th>\n",
              "      <td>461301.0</td>\n",
              "      <td>472.510892</td>\n",
              "      <td>1832.640726</td>\n",
              "      <td>0.0</td>\n",
              "      <td>46.0</td>\n",
              "      <td>119.0</td>\n",
              "      <td>343.0</td>\n",
              "      <td>224080.0</td>\n",
              "    </tr>\n",
              "    <tr>\n",
              "      <th>owned</th>\n",
              "      <td>461301.0</td>\n",
              "      <td>54.493832</td>\n",
              "      <td>157.031092</td>\n",
              "      <td>0.0</td>\n",
              "      <td>1.0</td>\n",
              "      <td>6.0</td>\n",
              "      <td>33.0</td>\n",
              "      <td>6478.0</td>\n",
              "    </tr>\n",
              "    <tr>\n",
              "      <th>pages</th>\n",
              "      <td>208011.0</td>\n",
              "      <td>53.804641</td>\n",
              "      <td>195.457862</td>\n",
              "      <td>0.0</td>\n",
              "      <td>32.0</td>\n",
              "      <td>32.0</td>\n",
              "      <td>36.0</td>\n",
              "      <td>75960.0</td>\n",
              "    </tr>\n",
              "    <tr>\n",
              "      <th>rating</th>\n",
              "      <td>461301.0</td>\n",
              "      <td>0.378575</td>\n",
              "      <td>1.217336</td>\n",
              "      <td>0.0</td>\n",
              "      <td>0.0</td>\n",
              "      <td>0.0</td>\n",
              "      <td>0.0</td>\n",
              "      <td>5.0</td>\n",
              "    </tr>\n",
              "    <tr>\n",
              "      <th>rating_count</th>\n",
              "      <td>461301.0</td>\n",
              "      <td>0.141645</td>\n",
              "      <td>0.582849</td>\n",
              "      <td>0.0</td>\n",
              "      <td>0.0</td>\n",
              "      <td>0.0</td>\n",
              "      <td>0.0</td>\n",
              "      <td>15.0</td>\n",
              "    </tr>\n",
              "    <tr>\n",
              "      <th>pub_id</th>\n",
              "      <td>461301.0</td>\n",
              "      <td>1389.146538</td>\n",
              "      <td>1766.452783</td>\n",
              "      <td>1.0</td>\n",
              "      <td>2.0</td>\n",
              "      <td>559.0</td>\n",
              "      <td>2960.0</td>\n",
              "      <td>8253.0</td>\n",
              "    </tr>\n",
              "    <tr>\n",
              "      <th>issues_total</th>\n",
              "      <td>456401.0</td>\n",
              "      <td>105.147651</td>\n",
              "      <td>215.981536</td>\n",
              "      <td>1.0</td>\n",
              "      <td>8.0</td>\n",
              "      <td>28.0</td>\n",
              "      <td>99.0</td>\n",
              "      <td>1801.0</td>\n",
              "    </tr>\n",
              "    <tr>\n",
              "      <th>pub_titles_total</th>\n",
              "      <td>461301.0</td>\n",
              "      <td>2039.691928</td>\n",
              "      <td>2620.827222</td>\n",
              "      <td>1.0</td>\n",
              "      <td>91.0</td>\n",
              "      <td>517.0</td>\n",
              "      <td>4688.0</td>\n",
              "      <td>7285.0</td>\n",
              "    </tr>\n",
              "    <tr>\n",
              "      <th>pub_issues_total</th>\n",
              "      <td>461301.0</td>\n",
              "      <td>20774.509437</td>\n",
              "      <td>25262.635323</td>\n",
              "      <td>0.0</td>\n",
              "      <td>811.0</td>\n",
              "      <td>6574.0</td>\n",
              "      <td>57043.0</td>\n",
              "      <td>65535.0</td>\n",
              "    </tr>\n",
              "  </tbody>\n",
              "</table>\n",
              "</div>\n",
              "      <button class=\"colab-df-convert\" onclick=\"convertToInteractive('df-c6521964-97c0-4339-bec1-05e1d9d98149')\"\n",
              "              title=\"Convert this dataframe to an interactive table.\"\n",
              "              style=\"display:none;\">\n",
              "        \n",
              "  <svg xmlns=\"http://www.w3.org/2000/svg\" height=\"24px\"viewBox=\"0 0 24 24\"\n",
              "       width=\"24px\">\n",
              "    <path d=\"M0 0h24v24H0V0z\" fill=\"none\"/>\n",
              "    <path d=\"M18.56 5.44l.94 2.06.94-2.06 2.06-.94-2.06-.94-.94-2.06-.94 2.06-2.06.94zm-11 1L8.5 8.5l.94-2.06 2.06-.94-2.06-.94L8.5 2.5l-.94 2.06-2.06.94zm10 10l.94 2.06.94-2.06 2.06-.94-2.06-.94-.94-2.06-.94 2.06-2.06.94z\"/><path d=\"M17.41 7.96l-1.37-1.37c-.4-.4-.92-.59-1.43-.59-.52 0-1.04.2-1.43.59L10.3 9.45l-7.72 7.72c-.78.78-.78 2.05 0 2.83L4 21.41c.39.39.9.59 1.41.59.51 0 1.02-.2 1.41-.59l7.78-7.78 2.81-2.81c.8-.78.8-2.07 0-2.86zM5.41 20L4 18.59l7.72-7.72 1.47 1.35L5.41 20z\"/>\n",
              "  </svg>\n",
              "      </button>\n",
              "      \n",
              "  <style>\n",
              "    .colab-df-container {\n",
              "      display:flex;\n",
              "      flex-wrap:wrap;\n",
              "      gap: 12px;\n",
              "    }\n",
              "\n",
              "    .colab-df-convert {\n",
              "      background-color: #E8F0FE;\n",
              "      border: none;\n",
              "      border-radius: 50%;\n",
              "      cursor: pointer;\n",
              "      display: none;\n",
              "      fill: #1967D2;\n",
              "      height: 32px;\n",
              "      padding: 0 0 0 0;\n",
              "      width: 32px;\n",
              "    }\n",
              "\n",
              "    .colab-df-convert:hover {\n",
              "      background-color: #E2EBFA;\n",
              "      box-shadow: 0px 1px 2px rgba(60, 64, 67, 0.3), 0px 1px 3px 1px rgba(60, 64, 67, 0.15);\n",
              "      fill: #174EA6;\n",
              "    }\n",
              "\n",
              "    [theme=dark] .colab-df-convert {\n",
              "      background-color: #3B4455;\n",
              "      fill: #D2E3FC;\n",
              "    }\n",
              "\n",
              "    [theme=dark] .colab-df-convert:hover {\n",
              "      background-color: #434B5C;\n",
              "      box-shadow: 0px 1px 3px 1px rgba(0, 0, 0, 0.15);\n",
              "      filter: drop-shadow(0px 1px 2px rgba(0, 0, 0, 0.3));\n",
              "      fill: #FFFFFF;\n",
              "    }\n",
              "  </style>\n",
              "\n",
              "      <script>\n",
              "        const buttonEl =\n",
              "          document.querySelector('#df-c6521964-97c0-4339-bec1-05e1d9d98149 button.colab-df-convert');\n",
              "        buttonEl.style.display =\n",
              "          google.colab.kernel.accessAllowed ? 'block' : 'none';\n",
              "\n",
              "        async function convertToInteractive(key) {\n",
              "          const element = document.querySelector('#df-c6521964-97c0-4339-bec1-05e1d9d98149');\n",
              "          const dataTable =\n",
              "            await google.colab.kernel.invokeFunction('convertToInteractive',\n",
              "                                                     [key], {});\n",
              "          if (!dataTable) return;\n",
              "\n",
              "          const docLinkHtml = 'Like what you see? Visit the ' +\n",
              "            '<a target=\"_blank\" href=https://colab.research.google.com/notebooks/data_table.ipynb>data table notebook</a>'\n",
              "            + ' to learn more about interactive tables.';\n",
              "          element.innerHTML = '';\n",
              "          dataTable['output_type'] = 'display_data';\n",
              "          await google.colab.output.renderOutput(dataTable, element);\n",
              "          const docLink = document.createElement('div');\n",
              "          docLink.innerHTML = docLinkHtml;\n",
              "          element.appendChild(docLink);\n",
              "        }\n",
              "      </script>\n",
              "    </div>\n",
              "  </div>\n",
              "  "
            ],
            "text/plain": [
              "                     count           mean  ...       75%       max\n",
              "Unnamed: 0        461301.0  230650.000000  ...  345975.0  461300.0\n",
              "searched          461301.0     472.510892  ...     343.0  224080.0\n",
              "owned             461301.0      54.493832  ...      33.0    6478.0\n",
              "pages             208011.0      53.804641  ...      36.0   75960.0\n",
              "rating            461301.0       0.378575  ...       0.0       5.0\n",
              "rating_count      461301.0       0.141645  ...       0.0      15.0\n",
              "pub_id            461301.0    1389.146538  ...    2960.0    8253.0\n",
              "issues_total      456401.0     105.147651  ...      99.0    1801.0\n",
              "pub_titles_total  461301.0    2039.691928  ...    4688.0    7285.0\n",
              "pub_issues_total  461301.0   20774.509437  ...   57043.0   65535.0\n",
              "\n",
              "[10 rows x 8 columns]"
            ]
          },
          "metadata": {},
          "execution_count": 4
        }
      ]
    },
    {
      "cell_type": "code",
      "source": [
        "dados['title'] = dados['title'] + ' ' + dados['issue']"
      ],
      "metadata": {
        "id": "j499bxMt-bD0"
      },
      "execution_count": null,
      "outputs": []
    },
    {
      "cell_type": "code",
      "source": [
        "dados.drop(['Unnamed: 0','title_link','issue_link','cover_link','hist_prices_link','issue'],axis=1,inplace=True)"
      ],
      "metadata": {
        "id": "Jl10cWY-1J8B"
      },
      "execution_count": null,
      "outputs": []
    },
    {
      "cell_type": "code",
      "source": [
        "dados['current_value'] = dados['current_value'].str.replace('$', '', regex=True)\n",
        "dados['current_value'] = dados['current_value'].str.replace(',', '', regex=True)\n",
        "dados['current_value'] = dados.current_value.astype(float) "
      ],
      "metadata": {
        "id": "3FuWMkgA2EXY"
      },
      "execution_count": null,
      "outputs": []
    },
    {
      "cell_type": "code",
      "source": [
        "#FOI NECESSÁRIO SUBSTITUIR POR OUTRA LETRAS TODAS AS PALAVRAS DE SIMBOLOS DA COLUNA, E DEPOIS UTILIZAR STRIP PARA RETIRA-LAS.\n",
        "dados['cover_date'] = dados['cover_date'].str.replace('\\D+','a', regex=True)\n",
        "dados['cover_date'] = dados['cover_date'].str.strip('a')"
      ],
      "metadata": {
        "id": "hRLGtRhaJlyF"
      },
      "execution_count": null,
      "outputs": []
    },
    {
      "cell_type": "code",
      "source": [
        "#FILTRANDOS OS DADOS PARA RETIRAR OS DADOS FALTANTES, E DEPOIS VERIFICAR OS VALORES UNICOS DA COLUNA PARA A REALIZAÇÃO DE AJUSTES.\n",
        "dados = dados[dados.cover_date.isin(['']) ==False]\n",
        "dados.cover_date.unique()"
      ],
      "metadata": {
        "colab": {
          "base_uri": "https://localhost:8080/"
        },
        "id": "gIUClD2gJqMO",
        "outputId": "7dbb4d00-efd8-4fb1-abe0-45ba83dcc119"
      },
      "execution_count": null,
      "outputs": [
        {
          "output_type": "execute_result",
          "data": {
            "text/plain": [
              "array(['86', '2007', '22', '75', '76', nan, '06', '16', '07', '12', '08',\n",
              "       '64', '65', '02', '00', '47', '49', '50', '51', '52', '53', '48',\n",
              "       '54', '55', '56', '57', '58', '59', '60', '04', '19', '17', '18',\n",
              "       '99', '14', '10', '11', '05', '15', '13', '09', '20', '21', '2003',\n",
              "       '94', '38', '39', '46', '91', '87', '90', '82', '97', '40', '61',\n",
              "       '62', '63', '41', '66', '67', '68', '69', '70', '71', '72', '73',\n",
              "       '74', '42', '77', '78', '79', '80', '81', '83', '84', '43', '85',\n",
              "       '88', '89', '92', '44', '93', '95', '96', '98', '01', '03', '45',\n",
              "       '1937', '1942', '2000', '2002', '2004', '2006', '1944', '1945',\n",
              "       '1943', '1991', '1977', '1973', '1994', '2018', '2010', '1996',\n",
              "       '1988', '1997', '2005', '1990', '1993', '1999', '1995', '1998',\n",
              "       '2001', '1992', '2019', '2008', '2009', '2015', '1981', '1966',\n",
              "       '2012', '35', '1989', '1978', '2016', '1982', '2017', '1979',\n",
              "       '1983', '1975', '1971', '2021', '37', '36', '1936', '2014', '1980',\n",
              "       '1987', '2013', '2020', '1961', '1956', '1976', '2011', '1986',\n",
              "       '1985', '1948', '1984', '1950', '1954', '1958', '1955', '1962',\n",
              "       '1969', '1972', '1957', '1974', '1953', '1968', '1964', '1965',\n",
              "       '1970', '1952', '1960', '1967', '1951', '1946', '32', '1939',\n",
              "       '1938', '1947', '1963', '1959', '1949', '1941', '1932', '1933',\n",
              "       '1934', '1940', '1930', '30', '31', '34', '1935', '1931', '33'],\n",
              "      dtype=object)"
            ]
          },
          "metadata": {},
          "execution_count": 9
        }
      ]
    },
    {
      "cell_type": "code",
      "source": [
        "#TRANSFORMANDO A COLUNA 'cover_date' EM INTEIRO\n",
        "dados = dados[dados['cover_date'].notna()]\n",
        "dados['cover_date'] = dados['cover_date'].astype(int)"
      ],
      "metadata": {
        "id": "cQKoHIbNJwHG"
      },
      "execution_count": null,
      "outputs": []
    },
    {
      "cell_type": "code",
      "source": [
        "dados['cover_date'] =  dados['cover_date'].apply(lambda x: x+2000 if 0 <= x < 23  else x)\n",
        "dados['cover_date'] =  dados['cover_date'].apply(lambda x: x+1900 if 22 < x < 100 else x)\n",
        "dados['cover_date'] =  dados['cover_date'].apply(lambda x: 2022-x if x >= 0 else x)"
      ],
      "metadata": {
        "id": "8wA9NztZLDfH"
      },
      "execution_count": null,
      "outputs": []
    },
    {
      "cell_type": "markdown",
      "source": [
        "Analisando os dados faltantes de todo o conjunto de dados"
      ],
      "metadata": {
        "id": "0JWF02iL6wlG"
      }
    },
    {
      "cell_type": "code",
      "source": [
        "import missingno as msno"
      ],
      "metadata": {
        "id": "ED9bNkR-6dth"
      },
      "execution_count": null,
      "outputs": []
    },
    {
      "cell_type": "code",
      "source": [
        "msno.matrix(dados);"
      ],
      "metadata": {
        "colab": {
          "base_uri": "https://localhost:8080/",
          "height": 594
        },
        "id": "sfXEdB316kez",
        "outputId": "880dce34-d89b-474d-88e0-26b1bb3d1f0c"
      },
      "execution_count": null,
      "outputs": [
        {
          "output_type": "display_data",
          "data": {
            "image/png": "[encoded data removed]",
            "text/plain": [
              "<Figure size 1800x720 with 2 Axes>"
            ]
          },
          "metadata": {
            "needs_background": "light"
          }
        }
      ]
    },
    {
      "cell_type": "markdown",
      "source": [
        "Com isso podemos ter uma boa ideia do nosso conjunto de dados. \n",
        "\n",
        "1. as colunas de rating possuem valores zerados tanto para as colunas owned, rating, count_rating. E o que torna mais discrepante ainda é que no minimo 75% dos dados nas rating, count_rating são 0.\n",
        "\n",
        "2. Vamos verificar a distribuição dos valores num histograma"
      ],
      "metadata": {
        "id": "fIcrT0J07yex"
      }
    },
    {
      "cell_type": "code",
      "source": [
        "dados.hist(bins=25, figsize=(20,15));"
      ],
      "metadata": {
        "colab": {
          "base_uri": "https://localhost:8080/",
          "height": 879
        },
        "id": "rnl6cZlW7jII",
        "outputId": "f7627d6c-cc73-444d-8b10-186c2e5cf4ff"
      },
      "execution_count": null,
      "outputs": [
        {
          "output_type": "display_data",
          "data": {
            "image/png": "[encoded data removed]",
            "text/plain": [
              "<Figure size 1440x1080 with 12 Axes>"
            ]
          },
          "metadata": {
            "needs_background": "light"
          }
        }
      ]
    },
    {
      "cell_type": "markdown",
      "source": [
        "Agora analisaremos dos dados individualmente"
      ],
      "metadata": {
        "id": "-rzC95YQ_FSy"
      }
    },
    {
      "cell_type": "markdown",
      "source": [
        "## ANALISE DE RATINGS"
      ],
      "metadata": {
        "id": "AsRmw2oi4B-R"
      }
    },
    {
      "cell_type": "code",
      "source": [
        "print('tamanho da amostra:', len(dados['rating']))\n",
        "ax = sns.distplot(x=dados['rating'], kde = False)\n",
        "ax.set(title = 'Distibuição amostral das Notas Médias', xlabel = 'Notas Médias', ylabel='Frequencia');"
      ],
      "metadata": {
        "colab": {
          "base_uri": "https://localhost:8080/",
          "height": 312
        },
        "id": "YfkupY0X97AX",
        "outputId": "4583728b-218c-4ead-d5d8-16eb12597033"
      },
      "execution_count": null,
      "outputs": [
        {
          "output_type": "stream",
          "name": "stdout",
          "text": [
            "tamanho da amostra: 369707\n"
          ]
        },
        {
          "output_type": "display_data",
          "data": {
            "image/png": "[encoded data removed]",
            "text/plain": [
              "<Figure size 432x288 with 1 Axes>"
            ]
          },
          "metadata": {
            "needs_background": "light"
          }
        }
      ]
    },
    {
      "cell_type": "markdown",
      "source": [
        "Percebemos uma quantidade muita grande de notas médias 0 que as outras notas. "
      ],
      "metadata": {
        "id": "3B5n7sEgaIgq"
      }
    },
    {
      "cell_type": "code",
      "source": [
        "ratings_maior_zero = dados.query('rating > 0')\n",
        "print('tamanho da amostra:',len(ratings_maior_zero.rating))\n",
        "ax = sns.distplot(ratings_maior_zero.rating, kde = False)\n",
        "ax.set(title='Distribuição da amostra das notas médias maiores que zero', ylabel = 'Frequencia', xlabel = 'Notas Médias')"
      ],
      "metadata": {
        "colab": {
          "base_uri": "https://localhost:8080/",
          "height": 364
        },
        "id": "-oYfOgSv_YLb",
        "outputId": "4ce009fd-a4c6-44b6-a699-b742784879a8"
      },
      "execution_count": null,
      "outputs": [
        {
          "output_type": "stream",
          "name": "stdout",
          "text": [
            "tamanho da amostra: 40114\n"
          ]
        },
        {
          "output_type": "execute_result",
          "data": {
            "text/plain": [
              "[Text(0, 0.5, 'Frequencia'),\n",
              " Text(0.5, 0, 'Notas Médias'),\n",
              " Text(0.5, 1.0, 'Distribuição da amostra das notas médias maiores que zero')]"
            ]
          },
          "metadata": {},
          "execution_count": 17
        },
        {
          "output_type": "display_data",
          "data": {
            "image/png": "[encoded data removed]",
            "text/plain": [
              "<Figure size 432x288 with 1 Axes>"
            ]
          },
          "metadata": {
            "needs_background": "light"
          }
        }
      ]
    },
    {
      "cell_type": "code",
      "source": [
        "ax = sns.distplot(ratings_maior_zero.rating, hist_kws = {'cumulative':True},\n",
        "                          kde_kws = {'cumulative':True});\n",
        "ax.set(title='Distribuição da amostra das notas médias maiores que zero', ylabel = '% acumulativa', xlabel = 'Notas Médias');"
      ],
      "metadata": {
        "colab": {
          "base_uri": "https://localhost:8080/",
          "height": 295
        },
        "id": "myINSLr6r0TK",
        "outputId": "2f05a2d0-ecb5-472a-dd94-007c0274c967"
      },
      "execution_count": null,
      "outputs": [
        {
          "output_type": "display_data",
          "data": {
            "image/png": "[encoded data removed]",
            "text/plain": [
              "<Figure size 432x288 with 1 Axes>"
            ]
          },
          "metadata": {
            "needs_background": "light"
          }
        }
      ]
    },
    {
      "cell_type": "markdown",
      "source": [
        "Podemos ter somente um voto para cada comics, vamos verificar quantos desses votos teve somente um votante. "
      ],
      "metadata": {
        "id": "r3hNdNbyBCaE"
      }
    },
    {
      "cell_type": "code",
      "source": [
        "count_igual_1 = ratings_maior_zero.query('rating_count == 1')\n",
        "count_maior_5 = ratings_maior_zero.query('rating_count >= 5')\n",
        "print('receberam somente 1 review:', len(count_igual_1['rating_count']))\n",
        "print('receberam mais que 4 reviews:', len(count_maior_5['rating_count']))\n",
        "print('quantidade total dos que receperam pelo menos 1 review:', len(ratings_maior_zero))\n",
        "print('------------------------------------------------------------------------------------------------------------')\n",
        "print('quantidade de titulos que recebream mais que 1 review', 42284-29889)\n",
        "print('quantidade que recebeu menos que 5 reviews:', 42284-1393)"
      ],
      "metadata": {
        "colab": {
          "base_uri": "https://localhost:8080/"
        },
        "id": "DWcojrnG_lkr",
        "outputId": "0cc786bb-a964-465c-aa0f-37a8b0cdeaa4"
      },
      "execution_count": null,
      "outputs": [
        {
          "output_type": "stream",
          "name": "stdout",
          "text": [
            "receberam somente 1 review: 28168\n",
            "receberam mais que 4 reviews: 1361\n",
            "quantidade total dos que receperam pelo menos 1 review: 40114\n",
            "------------------------------------------------------------------------------------------------------------\n",
            "quantidade de titulos que recebream mais que 1 review 12395\n",
            "quantidade que recebeu menos que 5 reviews: 40891\n"
          ]
        }
      ]
    },
    {
      "cell_type": "markdown",
      "source": [
        "Após analise percebemos que perdemos significadamente o tamanho de nossa amostra, mas para a analise ser pelo menos um pouco representativa, limitaremos nossa analise a aqueles que receberam mais que 4 reviews."
      ],
      "metadata": {
        "id": "WwiQuPU7RYAQ"
      }
    },
    {
      "cell_type": "markdown",
      "source": [
        "# COMICS COM PELO MENOS 5 AVALIAÇÕES"
      ],
      "metadata": {
        "id": "N4bAv_JN3cPn"
      }
    },
    {
      "cell_type": "code",
      "source": [
        "print('tamanho da amostra:', len(count_maior_5['rating']))\n",
        "ax = sns.distplot(x=count_maior_5['rating'], kde = False)\n",
        "ax.set(title = 'Distibuição amostral dos rating maiores que 4', xlabel = 'Notas Médias', ylabel='Frequencia');"
      ],
      "metadata": {
        "colab": {
          "base_uri": "https://localhost:8080/",
          "height": 312
        },
        "id": "VeDQTxbXRXVl",
        "outputId": "8bb5b131-cc68-4ab9-8dfe-b7eba808f5c7"
      },
      "execution_count": null,
      "outputs": [
        {
          "output_type": "stream",
          "name": "stdout",
          "text": [
            "tamanho da amostra: 1361\n"
          ]
        },
        {
          "output_type": "display_data",
          "data": {
            "image/png": "[encoded data removed]",
            "text/plain": [
              "<Figure size 432x288 with 1 Axes>"
            ]
          },
          "metadata": {
            "needs_background": "light"
          }
        }
      ]
    },
    {
      "cell_type": "code",
      "source": [
        "print('tamanho da amostra:', len(count_maior_5['rating']))\n",
        "ax = sns.distplot(x=count_maior_5['rating'], hist_kws = {'cumulative':True},\n",
        "                          kde_kws = {'cumulative':True});\n",
        "ax.set(title = 'Distibuição amostral dos rating maiores que 4', xlabel = 'Notas Médias', ylabel='% acumulada');"
      ],
      "metadata": {
        "colab": {
          "base_uri": "https://localhost:8080/",
          "height": 312
        },
        "id": "c_DVVU0GrFBe",
        "outputId": "86d3c230-8fa9-40dc-fe0d-3a75b63f2e2f"
      },
      "execution_count": null,
      "outputs": [
        {
          "output_type": "stream",
          "name": "stdout",
          "text": [
            "tamanho da amostra: 1361\n"
          ]
        },
        {
          "output_type": "display_data",
          "data": {
            "image/png": "[encoded data removed]",
            "text/plain": [
              "<Figure size 432x288 with 1 Axes>"
            ]
          },
          "metadata": {
            "needs_background": "light"
          }
        }
      ]
    },
    {
      "cell_type": "code",
      "source": [
        "ax = sns.boxplot(x=count_maior_5['rating'])\n",
        "ax.set(xlabel=\"Nota média das comics\")\n",
        "ax.set_title('Distibuição amostral dos avaliações maiores que 4')"
      ],
      "metadata": {
        "colab": {
          "base_uri": "https://localhost:8080/",
          "height": 312
        },
        "id": "H77k_-xWsTNe",
        "outputId": "ed8fa744-7ce8-47da-8f34-5c1ba73c11a4"
      },
      "execution_count": null,
      "outputs": [
        {
          "output_type": "execute_result",
          "data": {
            "text/plain": [
              "Text(0.5, 1.0, 'Distibuição amostral dos avaliações maiores que 4')"
            ]
          },
          "metadata": {},
          "execution_count": 22
        },
        {
          "output_type": "display_data",
          "data": {
            "image/png": "[encoded data removed]",
            "text/plain": [
              "<Figure size 432x288 with 1 Axes>"
            ]
          },
          "metadata": {
            "needs_background": "light"
          }
        }
      ]
    },
    {
      "cell_type": "code",
      "source": [
        "print('Média de avaliação dos comics com mais de 4 avaliações', count_maior_5.rating.mean())"
      ],
      "metadata": {
        "colab": {
          "base_uri": "https://localhost:8080/"
        },
        "id": "10W4ynw-0UML",
        "outputId": "2f567789-d132-46ca-91cc-8712a1f141cc"
      },
      "execution_count": null,
      "outputs": [
        {
          "output_type": "stream",
          "name": "stdout",
          "text": [
            "Média de avaliação dos comics com mais de 4 avaliações 4.396193975018361\n"
          ]
        }
      ]
    },
    {
      "cell_type": "code",
      "source": [
        "np.random.seed(42)\n",
        "temp_5 = count_maior_5.sample(frac=1)\n",
        "\n",
        "medias_5 = [temp_5.rating[0:i].mean() for i in range(1, len(temp_5.rating))]\n",
        "\n",
        "plt.plot(medias_5)"
      ],
      "metadata": {
        "colab": {
          "base_uri": "https://localhost:8080/",
          "height": 282
        },
        "id": "JzGaiokqxXAT",
        "outputId": "f20e1336-94b3-473e-eb0f-f2337d725301"
      },
      "execution_count": null,
      "outputs": [
        {
          "output_type": "execute_result",
          "data": {
            "text/plain": [
              "[<matplotlib.lines.Line2D at 0x7ff0e5bb3990>]"
            ]
          },
          "metadata": {},
          "execution_count": 24
        },
        {
          "output_type": "display_data",
          "data": {
            "image/png": "[encoded data removed]",
            "text/plain": [
              "<Figure size 432x288 with 1 Axes>"
            ]
          },
          "metadata": {
            "needs_background": "light"
          }
        }
      ]
    },
    {
      "cell_type": "code",
      "source": [
        "rating5 = count_maior_5.rating\n",
        "from statsmodels.stats.weightstats import zconfint\n",
        "zconfint(rating5)"
      ],
      "metadata": {
        "colab": {
          "base_uri": "https://localhost:8080/"
        },
        "id": "lBRnpLHs0bfT",
        "outputId": "111d0488-0d82-444a-ff46-7879f013163a"
      },
      "execution_count": null,
      "outputs": [
        {
          "output_type": "execute_result",
          "data": {
            "text/plain": [
              "(4.36878850869257, 4.423599441344169)"
            ]
          },
          "metadata": {},
          "execution_count": 25
        }
      ]
    },
    {
      "cell_type": "markdown",
      "source": [
        "Podemos também concluir que as notas médias dos comics são generosos, com as notas acima de 4 sendo bastante frequentes. "
      ],
      "metadata": {
        "id": "CLSKJACJbFAo"
      }
    },
    {
      "cell_type": "markdown",
      "source": [
        "Agora vamos analisar os titulos que contem acima de 10 avaliações. "
      ],
      "metadata": {
        "id": "OGMUTZxZbSL3"
      }
    },
    {
      "cell_type": "markdown",
      "source": [
        "# ANALISE DE SEARCHED"
      ],
      "metadata": {
        "id": "Oa_uUARB3wXy"
      }
    },
    {
      "cell_type": "code",
      "source": [
        "print('tamanho da amostra:', len(dados.searched))\n",
        "ax = sns.distplot(x=dados.searched, kde=False);\n",
        "ax.set(title = 'Distibuição amostral de Searched', xlabel = 'Procura', ylabel='Frequencia');"
      ],
      "metadata": {
        "colab": {
          "base_uri": "https://localhost:8080/",
          "height": 312
        },
        "id": "LPavz9JTyckI",
        "outputId": "56293220-cd65-41ef-d74a-edeee2faa686"
      },
      "execution_count": null,
      "outputs": [
        {
          "output_type": "stream",
          "name": "stdout",
          "text": [
            "tamanho da amostra: 369707\n"
          ]
        },
        {
          "output_type": "display_data",
          "data": {
            "image/png": "[encoded data removed]",
            "text/plain": [
              "<Figure size 432x288 with 1 Axes>"
            ]
          },
          "metadata": {
            "needs_background": "light"
          }
        }
      ]
    },
    {
      "cell_type": "code",
      "source": [
        "ax = sns.boxplot(x=dados.searched)\n",
        "ax.set(xlabel=\"Procura por titulo\")\n",
        "ax.set_title('Distibuição amostral da procura por titulos')"
      ],
      "metadata": {
        "colab": {
          "base_uri": "https://localhost:8080/",
          "height": 312
        },
        "id": "m9hwV1BM07A8",
        "outputId": "bea1329d-09db-49da-927c-d1b82ad1ddb5"
      },
      "execution_count": null,
      "outputs": [
        {
          "output_type": "execute_result",
          "data": {
            "text/plain": [
              "Text(0.5, 1.0, 'Distibuição amostral da procura por titulos')"
            ]
          },
          "metadata": {},
          "execution_count": 37
        },
        {
          "output_type": "display_data",
          "data": {
            "image/png": "[encoded data removed]",
            "text/plain": [
              "<Figure size 432x288 with 1 Axes>"
            ]
          },
          "metadata": {
            "needs_background": "light"
          }
        }
      ]
    },
    {
      "cell_type": "markdown",
      "source": [
        "A distribuição das vezes que um Comics foi pesquisado, parece possuir muitos valores proximos de zero, vamos verificar:"
      ],
      "metadata": {
        "id": "PAzX9PLCesV8"
      }
    },
    {
      "cell_type": "code",
      "source": [
        "print('igual à 0:  ', dados.query(\"searched == 0\").searched.count())\n",
        "print('maior que 1:', dados.query(\"searched > 1\").searched.count())\n",
        "print('maior que 50:', dados.query(\"searched > 50\").searched.count())\n",
        "print('maior que 500:', dados.query(\"searched > 500\").searched.count())\n",
        "print('maior que 5000:', dados.query(\"searched > 5000\").searched.count())\n",
        "print('maior que 50000:', dados.query(\"searched > 50000\").searched.count())\n",
        "print('maior que 100000:', dados.query(\"searched > 100000\").searched.count())"
      ],
      "metadata": {
        "colab": {
          "base_uri": "https://localhost:8080/"
        },
        "id": "eG_tcgHserJz",
        "outputId": "1746aa37-f39a-4880-a756-c5fea3e9be62"
      },
      "execution_count": null,
      "outputs": [
        {
          "output_type": "stream",
          "name": "stdout",
          "text": [
            "igual à 0:   52\n",
            "maior que 1: 369509\n",
            "maior que 50: 288316\n",
            "maior que 500: 79894\n",
            "maior que 5000: 5686\n",
            "maior que 50000: 87\n",
            "maior que 100000: 8\n"
          ]
        }
      ]
    },
    {
      "cell_type": "code",
      "source": [
        "dados.searched.describe()"
      ],
      "metadata": {
        "colab": {
          "base_uri": "https://localhost:8080/"
        },
        "id": "3iw1lh5ofrBF",
        "outputId": "c80bbad6-1208-4e6f-da42-b3da486201cc"
      },
      "execution_count": null,
      "outputs": [
        {
          "output_type": "execute_result",
          "data": {
            "text/plain": [
              "count    369707.000000\n",
              "mean        557.364421\n",
              "std        2030.449350\n",
              "min           0.000000\n",
              "25%          57.000000\n",
              "50%         150.000000\n",
              "75%         420.000000\n",
              "max      224080.000000\n",
              "Name: searched, dtype: float64"
            ]
          },
          "metadata": {},
          "execution_count": 39
        }
      ]
    },
    {
      "cell_type": "code",
      "source": [
        "dados.searched.quantile(0.9)"
      ],
      "metadata": {
        "colab": {
          "base_uri": "https://localhost:8080/"
        },
        "id": "eckMpbfcf9X6",
        "outputId": "239548f9-f34a-4222-e617-db4ab29110d4"
      },
      "execution_count": null,
      "outputs": [
        {
          "output_type": "execute_result",
          "data": {
            "text/plain": [
              "1122.0"
            ]
          },
          "metadata": {},
          "execution_count": 40
        }
      ]
    },
    {
      "cell_type": "code",
      "source": [
        "ax = sns.distplot(x=dados.query('searched < 4000').searched, hist_kws = {'cumulative':True},\n",
        "                          kde_kws = {'cumulative':True});\n",
        "ax.set(title = 'Distibuição amostral de Searched', xlabel = 'Quantidade de procura', ylabel='% acumulada');"
      ],
      "metadata": {
        "colab": {
          "base_uri": "https://localhost:8080/",
          "height": 295
        },
        "id": "eCIOahDeuITN",
        "outputId": "fb084be3-6482-43fc-9cb1-1ba1b73c7d8e"
      },
      "execution_count": null,
      "outputs": [
        {
          "output_type": "display_data",
          "data": {
            "image/png": "[encoded data removed]",
            "text/plain": [
              "<Figure size 432x288 with 1 Axes>"
            ]
          },
          "metadata": {
            "needs_background": "light"
          }
        }
      ]
    },
    {
      "cell_type": "code",
      "source": [
        "ax = sns.distplot(x=dados.query('searched < 4000').searched, kde=False);\n",
        "ax.set(title = 'Distibuição amostral de Searched', xlabel = 'Notas Médias', ylabel='Frequencia');"
      ],
      "metadata": {
        "colab": {
          "base_uri": "https://localhost:8080/",
          "height": 295
        },
        "id": "rOSVxf3ahs5B",
        "outputId": "e920299a-e5e9-415e-cf71-b09f4cdf9ce8"
      },
      "execution_count": null,
      "outputs": [
        {
          "output_type": "display_data",
          "data": {
            "image/png": "[encoded data removed]",
            "text/plain": [
              "<Figure size 432x288 with 1 Axes>"
            ]
          },
          "metadata": {
            "needs_background": "light"
          }
        }
      ]
    },
    {
      "cell_type": "markdown",
      "source": [
        "Vamos dar uma olhada nos top procurados de nosso conjunto de dados:"
      ],
      "metadata": {
        "id": "CfYarSmsoRZP"
      }
    },
    {
      "cell_type": "code",
      "source": [
        "ax = sns.distplot(x=dados.query('searched >= 10000').searched, kde=False);\n",
        "ax.set(title = 'Distibuição amostral de Searched', xlabel = 'Notas Médias', ylabel='Frequencia');"
      ],
      "metadata": {
        "colab": {
          "base_uri": "https://localhost:8080/",
          "height": 295
        },
        "id": "7O1ZgWRPjX5x",
        "outputId": "8e636592-79e4-4a19-f30e-d6b519d2c50a"
      },
      "execution_count": null,
      "outputs": [
        {
          "output_type": "display_data",
          "data": {
            "image/png": "[encoded data removed]",
            "text/plain": [
              "<Figure size 432x288 with 1 Axes>"
            ]
          },
          "metadata": {
            "needs_background": "light"
          }
        }
      ]
    },
    {
      "cell_type": "code",
      "source": [
        "ax = sns.distplot(x=dados.query('searched > 100000').searched, hist_kws = {'cumulative':True},\n",
        "                          kde_kws = {'cumulative':True});\n",
        "ax.set(title = 'Distibuição amostral de Searched', xlabel = 'Notas Médias', ylabel='% acumulada');"
      ],
      "metadata": {
        "colab": {
          "base_uri": "https://localhost:8080/",
          "height": 295
        },
        "id": "zBIsaBhzoeoN",
        "outputId": "e734e28b-4c04-433b-d918-e5ddaeaec5b0"
      },
      "execution_count": null,
      "outputs": [
        {
          "output_type": "display_data",
          "data": {
            "image/png": "[encoded data removed]",
            "text/plain": [
              "<Figure size 432x288 with 1 Axes>"
            ]
          },
          "metadata": {
            "needs_background": "light"
          }
        }
      ]
    },
    {
      "cell_type": "code",
      "source": [
        "dados.query('searched > 100000').head(20)"
      ],
      "metadata": {
        "colab": {
          "base_uri": "https://localhost:8080/",
          "height": 833
        },
        "id": "woA5KHk7o5QO",
        "outputId": "49542b4b-94e5-4989-ac45-fb53dde57f88"
      },
      "execution_count": null,
      "outputs": [
        {
          "output_type": "execute_result",
          "data": {
            "text/html": [
              "\n",
              "  <div id=\"df-20e0af58-6d3c-4066-9f4c-6d728b562657\">\n",
              "    <div class=\"colab-df-container\">\n",
              "      <div>\n",
              "<style scoped>\n",
              "    .dataframe tbody tr th:only-of-type {\n",
              "        vertical-align: middle;\n",
              "    }\n",
              "\n",
              "    .dataframe tbody tr th {\n",
              "        vertical-align: top;\n",
              "    }\n",
              "\n",
              "    .dataframe thead th {\n",
              "        text-align: right;\n",
              "    }\n",
              "</style>\n",
              "<table border=\"1\" class=\"dataframe\">\n",
              "  <thead>\n",
              "    <tr style=\"text-align: right;\">\n",
              "      <th></th>\n",
              "      <th>title</th>\n",
              "      <th>cover_date</th>\n",
              "      <th>cover_price</th>\n",
              "      <th>current_value</th>\n",
              "      <th>searched</th>\n",
              "      <th>owned</th>\n",
              "      <th>pages</th>\n",
              "      <th>rating</th>\n",
              "      <th>rating_count</th>\n",
              "      <th>ISBN-UPC</th>\n",
              "      <th>est_print_run</th>\n",
              "      <th>variant_of</th>\n",
              "      <th>preview</th>\n",
              "      <th>synopsis</th>\n",
              "      <th>contributors_names</th>\n",
              "      <th>contributors_roles</th>\n",
              "      <th>characters</th>\n",
              "      <th>pub_id</th>\n",
              "      <th>volume</th>\n",
              "      <th>years</th>\n",
              "      <th>issues_total</th>\n",
              "      <th>pub_name</th>\n",
              "      <th>pub_titles_total</th>\n",
              "      <th>pub_issues_total</th>\n",
              "    </tr>\n",
              "  </thead>\n",
              "  <tbody>\n",
              "    <tr>\n",
              "      <th>100709</th>\n",
              "      <td>Amazing Spider-Man # 1</td>\n",
              "      <td>59</td>\n",
              "      <td>$0.12</td>\n",
              "      <td>62000.0</td>\n",
              "      <td>113520</td>\n",
              "      <td>175</td>\n",
              "      <td>32.0</td>\n",
              "      <td>4.50</td>\n",
              "      <td>6</td>\n",
              "      <td>NaN</td>\n",
              "      <td>NaN</td>\n",
              "      <td>NaN</td>\n",
              "      <td>NaN</td>\n",
              "      <td>2nd appearance &amp; origin of Spider-Man (Peter P...</td>\n",
              "      <td>[\"Jon D'Agostino\", 'Steve Ditko', 'Stan Goldbe...</td>\n",
              "      <td>['Letters', 'Pencils-CoverArt-Inks', 'Colors',...</td>\n",
              "      <td>[['Aunt May', '/character-photos/character_1_t...</td>\n",
              "      <td>2.0</td>\n",
              "      <td>Vol. 1</td>\n",
              "      <td>1963-1998 2003-2014</td>\n",
              "      <td>1366.0</td>\n",
              "      <td>Marvel Comics</td>\n",
              "      <td>7285</td>\n",
              "      <td>65535</td>\n",
              "    </tr>\n",
              "    <tr>\n",
              "      <th>101528</th>\n",
              "      <td>Amazing Spider-Man # 300</td>\n",
              "      <td>34</td>\n",
              "      <td>$1.50</td>\n",
              "      <td>800.0</td>\n",
              "      <td>122602</td>\n",
              "      <td>2403</td>\n",
              "      <td>32.0</td>\n",
              "      <td>4.82</td>\n",
              "      <td>11</td>\n",
              "      <td>0-71486-02457-6-05</td>\n",
              "      <td>NaN</td>\n",
              "      <td>NaN</td>\n",
              "      <td>NaN</td>\n",
              "      <td>1st full appearance &amp; origin of Venom (Eddie B...</td>\n",
              "      <td>['Todd McFarlane', 'David Michelinie', 'Richar...</td>\n",
              "      <td>['Pencils-CoverArt-Inks', 'Scripts', 'Letters'...</td>\n",
              "      <td>[['Arthur Chekov', '/character-photos/characte...</td>\n",
              "      <td>2.0</td>\n",
              "      <td>Vol. 1</td>\n",
              "      <td>1963-1998 2003-2014</td>\n",
              "      <td>1366.0</td>\n",
              "      <td>Marvel Comics</td>\n",
              "      <td>7285</td>\n",
              "      <td>65535</td>\n",
              "    </tr>\n",
              "    <tr>\n",
              "      <th>101639</th>\n",
              "      <td>Amazing Spider-Man # 361</td>\n",
              "      <td>30</td>\n",
              "      <td>$1.25</td>\n",
              "      <td>225.0</td>\n",
              "      <td>158604</td>\n",
              "      <td>3174</td>\n",
              "      <td>32.0</td>\n",
              "      <td>4.80</td>\n",
              "      <td>5</td>\n",
              "      <td>NaN</td>\n",
              "      <td>NaN</td>\n",
              "      <td>NaN</td>\n",
              "      <td>NaN</td>\n",
              "      <td>1st full appearance &amp; origin of Carnage (Cletu...</td>\n",
              "      <td>['Mark Bagley', 'Randy Emberlin', 'Danny Finge...</td>\n",
              "      <td>['Pencils-CoverArt', 'CoverArt-Inks', 'Asst.Ed...</td>\n",
              "      <td>[['Aunt May', '/character-photos/character_1_t...</td>\n",
              "      <td>2.0</td>\n",
              "      <td>Vol. 1</td>\n",
              "      <td>1963-1998 2003-2014</td>\n",
              "      <td>1366.0</td>\n",
              "      <td>Marvel Comics</td>\n",
              "      <td>7285</td>\n",
              "      <td>65535</td>\n",
              "    </tr>\n",
              "    <tr>\n",
              "      <th>155977</th>\n",
              "      <td>Uncanny X-Men # 142</td>\n",
              "      <td>41</td>\n",
              "      <td>$0.50</td>\n",
              "      <td>50.0</td>\n",
              "      <td>209227</td>\n",
              "      <td>1719</td>\n",
              "      <td>32.0</td>\n",
              "      <td>0.00</td>\n",
              "      <td>0</td>\n",
              "      <td>0-71486-02461-0-2</td>\n",
              "      <td>NaN</td>\n",
              "      <td>NaN</td>\n",
              "      <td>NaN</td>\n",
              "      <td>Death of Wolverine (Earth-811)\\n\\nDeath of Sto...</td>\n",
              "      <td>['Terry Austin', 'John Byrne', 'Chris Claremon...</td>\n",
              "      <td>['CoverArt-Inks', 'Scripts-Pencils-CoverArt', ...</td>\n",
              "      <td>[['Angel II', '/character-photos/character_173...</td>\n",
              "      <td>2.0</td>\n",
              "      <td>Vol. 1</td>\n",
              "      <td>1981-2011</td>\n",
              "      <td>618.0</td>\n",
              "      <td>Marvel Comics</td>\n",
              "      <td>7285</td>\n",
              "      <td>65535</td>\n",
              "    </tr>\n",
              "    <tr>\n",
              "      <th>156217</th>\n",
              "      <td>Uncanny X-Men # 221</td>\n",
              "      <td>35</td>\n",
              "      <td>$0.75</td>\n",
              "      <td>75.0</td>\n",
              "      <td>108420</td>\n",
              "      <td>2583</td>\n",
              "      <td>32.0</td>\n",
              "      <td>4.00</td>\n",
              "      <td>2</td>\n",
              "      <td>NaN</td>\n",
              "      <td>NaN</td>\n",
              "      <td>NaN</td>\n",
              "      <td>NaN</td>\n",
              "      <td>1st full appearance of Mr. Sinister (Nathaniel...</td>\n",
              "      <td>['Chris Claremont', 'Dan Green', 'Terry Kavana...</td>\n",
              "      <td>['Scripts', 'CoverArt-Inks', 'Editor', 'Editor...</td>\n",
              "      <td>[['Adversary', '/character-photos/character_38...</td>\n",
              "      <td>2.0</td>\n",
              "      <td>Vol. 1</td>\n",
              "      <td>1981-2011</td>\n",
              "      <td>618.0</td>\n",
              "      <td>Marvel Comics</td>\n",
              "      <td>7285</td>\n",
              "      <td>65535</td>\n",
              "    </tr>\n",
              "    <tr>\n",
              "      <th>156278</th>\n",
              "      <td>Uncanny X-Men # 266</td>\n",
              "      <td>32</td>\n",
              "      <td>$1.00</td>\n",
              "      <td>200.0</td>\n",
              "      <td>122915</td>\n",
              "      <td>2493</td>\n",
              "      <td>32.0</td>\n",
              "      <td>4.20</td>\n",
              "      <td>5</td>\n",
              "      <td>0-71486-02461-3-10</td>\n",
              "      <td>NaN</td>\n",
              "      <td>NaN</td>\n",
              "      <td>NaN</td>\n",
              "      <td>1st full appearance of Gambit (Remy Lebeau)\\n\\...</td>\n",
              "      <td>['Patrick (Pat) Brosseau', 'Chris Claremont', ...</td>\n",
              "      <td>['CoverArt-Letters', 'Scripts', 'Pencils', 'Ed...</td>\n",
              "      <td>[['Commission of Superhuman Activities', '/cha...</td>\n",
              "      <td>2.0</td>\n",
              "      <td>Vol. 1</td>\n",
              "      <td>1981-2011</td>\n",
              "      <td>618.0</td>\n",
              "      <td>Marvel Comics</td>\n",
              "      <td>7285</td>\n",
              "      <td>65535</td>\n",
              "    </tr>\n",
              "    <tr>\n",
              "      <th>162427</th>\n",
              "      <td>X-Men # 141</td>\n",
              "      <td>41</td>\n",
              "      <td>$0.50</td>\n",
              "      <td>125.0</td>\n",
              "      <td>224080</td>\n",
              "      <td>1507</td>\n",
              "      <td>32.0</td>\n",
              "      <td>5.00</td>\n",
              "      <td>3</td>\n",
              "      <td>0-71486-02461--</td>\n",
              "      <td>NaN</td>\n",
              "      <td>NaN</td>\n",
              "      <td>NaN</td>\n",
              "      <td>1st appearance of Rachel Summers\\n\\n1st appear...</td>\n",
              "      <td>['Terry Austin', 'John Byrne', 'Chris Claremon...</td>\n",
              "      <td>['CoverArt-Inks', 'Scripts-Pencils-CoverArt', ...</td>\n",
              "      <td>[['Angel', '/character-photos/character_66589_...</td>\n",
              "      <td>2.0</td>\n",
              "      <td>Vol. 1</td>\n",
              "      <td>1963-1981</td>\n",
              "      <td>187.0</td>\n",
              "      <td>Marvel Comics</td>\n",
              "      <td>7285</td>\n",
              "      <td>65535</td>\n",
              "    </tr>\n",
              "    <tr>\n",
              "      <th>179375</th>\n",
              "      <td>Spawn # 1</td>\n",
              "      <td>30</td>\n",
              "      <td>$1.95</td>\n",
              "      <td>30.0</td>\n",
              "      <td>109188</td>\n",
              "      <td>6478</td>\n",
              "      <td>32.0</td>\n",
              "      <td>4.43</td>\n",
              "      <td>7</td>\n",
              "      <td>0-70989-33241-6-09</td>\n",
              "      <td>1.7mil</td>\n",
              "      <td>NaN</td>\n",
              "      <td>NaN</td>\n",
              "      <td>1st appearance of Spawn (Al Simmons)\\n\\n1st ap...</td>\n",
              "      <td>['Dale Keown', 'Wanda Kolomyjec', 'Todd McFarl...</td>\n",
              "      <td>['Pencils', 'Editor', 'Scripts-Pencils-CoverAr...</td>\n",
              "      <td>[['CIA', '/character-photos/character_41378_t....</td>\n",
              "      <td>3.0</td>\n",
              "      <td>NaN</td>\n",
              "      <td>1992-Present</td>\n",
              "      <td>630.0</td>\n",
              "      <td>Image Comics</td>\n",
              "      <td>2303</td>\n",
              "      <td>21472</td>\n",
              "    </tr>\n",
              "  </tbody>\n",
              "</table>\n",
              "</div>\n",
              "      <button class=\"colab-df-convert\" onclick=\"convertToInteractive('df-20e0af58-6d3c-4066-9f4c-6d728b562657')\"\n",
              "              title=\"Convert this dataframe to an interactive table.\"\n",
              "              style=\"display:none;\">\n",
              "        \n",
              "  <svg xmlns=\"http://www.w3.org/2000/svg\" height=\"24px\"viewBox=\"0 0 24 24\"\n",
              "       width=\"24px\">\n",
              "    <path d=\"M0 0h24v24H0V0z\" fill=\"none\"/>\n",
              "    <path d=\"M18.56 5.44l.94 2.06.94-2.06 2.06-.94-2.06-.94-.94-2.06-.94 2.06-2.06.94zm-11 1L8.5 8.5l.94-2.06 2.06-.94-2.06-.94L8.5 2.5l-.94 2.06-2.06.94zm10 10l.94 2.06.94-2.06 2.06-.94-2.06-.94-.94-2.06-.94 2.06-2.06.94z\"/><path d=\"M17.41 7.96l-1.37-1.37c-.4-.4-.92-.59-1.43-.59-.52 0-1.04.2-1.43.59L10.3 9.45l-7.72 7.72c-.78.78-.78 2.05 0 2.83L4 21.41c.39.39.9.59 1.41.59.51 0 1.02-.2 1.41-.59l7.78-7.78 2.81-2.81c.8-.78.8-2.07 0-2.86zM5.41 20L4 18.59l7.72-7.72 1.47 1.35L5.41 20z\"/>\n",
              "  </svg>\n",
              "      </button>\n",
              "      \n",
              "  <style>\n",
              "    .colab-df-container {\n",
              "      display:flex;\n",
              "      flex-wrap:wrap;\n",
              "      gap: 12px;\n",
              "    }\n",
              "\n",
              "    .colab-df-convert {\n",
              "      background-color: #E8F0FE;\n",
              "      border: none;\n",
              "      border-radius: 50%;\n",
              "      cursor: pointer;\n",
              "      display: none;\n",
              "      fill: #1967D2;\n",
              "      height: 32px;\n",
              "      padding: 0 0 0 0;\n",
              "      width: 32px;\n",
              "    }\n",
              "\n",
              "    .colab-df-convert:hover {\n",
              "      background-color: #E2EBFA;\n",
              "      box-shadow: 0px 1px 2px rgba(60, 64, 67, 0.3), 0px 1px 3px 1px rgba(60, 64, 67, 0.15);\n",
              "      fill: #174EA6;\n",
              "    }\n",
              "\n",
              "    [theme=dark] .colab-df-convert {\n",
              "      background-color: #3B4455;\n",
              "      fill: #D2E3FC;\n",
              "    }\n",
              "\n",
              "    [theme=dark] .colab-df-convert:hover {\n",
              "      background-color: #434B5C;\n",
              "      box-shadow: 0px 1px 3px 1px rgba(0, 0, 0, 0.15);\n",
              "      filter: drop-shadow(0px 1px 2px rgba(0, 0, 0, 0.3));\n",
              "      fill: #FFFFFF;\n",
              "    }\n",
              "  </style>\n",
              "\n",
              "      <script>\n",
              "        const buttonEl =\n",
              "          document.querySelector('#df-20e0af58-6d3c-4066-9f4c-6d728b562657 button.colab-df-convert');\n",
              "        buttonEl.style.display =\n",
              "          google.colab.kernel.accessAllowed ? 'block' : 'none';\n",
              "\n",
              "        async function convertToInteractive(key) {\n",
              "          const element = document.querySelector('#df-20e0af58-6d3c-4066-9f4c-6d728b562657');\n",
              "          const dataTable =\n",
              "            await google.colab.kernel.invokeFunction('convertToInteractive',\n",
              "                                                     [key], {});\n",
              "          if (!dataTable) return;\n",
              "\n",
              "          const docLinkHtml = 'Like what you see? Visit the ' +\n",
              "            '<a target=\"_blank\" href=https://colab.research.google.com/notebooks/data_table.ipynb>data table notebook</a>'\n",
              "            + ' to learn more about interactive tables.';\n",
              "          element.innerHTML = '';\n",
              "          dataTable['output_type'] = 'display_data';\n",
              "          await google.colab.output.renderOutput(dataTable, element);\n",
              "          const docLink = document.createElement('div');\n",
              "          docLink.innerHTML = docLinkHtml;\n",
              "          element.appendChild(docLink);\n",
              "        }\n",
              "      </script>\n",
              "    </div>\n",
              "  </div>\n",
              "  "
            ],
            "text/plain": [
              "                           title  ...  pub_issues_total\n",
              "100709    Amazing Spider-Man # 1  ...             65535\n",
              "101528  Amazing Spider-Man # 300  ...             65535\n",
              "101639  Amazing Spider-Man # 361  ...             65535\n",
              "155977       Uncanny X-Men # 142  ...             65535\n",
              "156217       Uncanny X-Men # 221  ...             65535\n",
              "156278       Uncanny X-Men # 266  ...             65535\n",
              "162427               X-Men # 141  ...             65535\n",
              "179375                 Spawn # 1  ...             21472\n",
              "\n",
              "[8 rows x 24 columns]"
            ]
          },
          "metadata": {},
          "execution_count": 45
        }
      ]
    },
    {
      "cell_type": "markdown",
      "source": [
        "COMICS COM MAIOR PROCURA"
      ],
      "metadata": {
        "id": "8RIDJ9KIjXrO"
      }
    },
    {
      "cell_type": "code",
      "source": [
        "top_10 = dados[['title','searched']]\n",
        "\n",
        "plotar_top_10 = top_10.sort_values(by= 'searched', ascending=False).iloc[:10,]\n",
        "\n",
        "plt.figure(figsize= [15,8])\n",
        "plt.bar(x = plotar_top_10['title'], height=plotar_top_10.searched)\n",
        "plt.xticks(rotation = 45)\n",
        "plt.ylabel('Numero de buscas');\n",
        "plt.xlabel('Comics');\n",
        "plt.title('Comics mais procurados');"
      ],
      "metadata": {
        "colab": {
          "base_uri": "https://localhost:8080/",
          "height": 611
        },
        "id": "4NC6b_EEaXi_",
        "outputId": "ab4f7224-5d2f-4b2a-a6f8-b7b1904c4038"
      },
      "execution_count": null,
      "outputs": [
        {
          "output_type": "display_data",
          "data": {
            "image/png": "[encoded data removed]",
            "text/plain": [
              "<Figure size 1080x576 with 1 Axes>"
            ]
          },
          "metadata": {
            "needs_background": "light"
          }
        }
      ]
    },
    {
      "cell_type": "markdown",
      "source": [
        "COMPARATIVO DE PROCURA VS OFERTA"
      ],
      "metadata": {
        "id": "i4uMJqBSsdET"
      }
    },
    {
      "cell_type": "code",
      "source": [
        "comparativo = dados[['title','searched','owned','current_value']]\n",
        "#comparativo['searched_x_owned'] = comparativo[]\n",
        "comparativo.sort_values(by='owned', ascending=False)[:10]"
      ],
      "metadata": {
        "colab": {
          "base_uri": "https://localhost:8080/",
          "height": 363
        },
        "id": "x6m_KBRzqzTv",
        "outputId": "08878007-c273-4f55-ae2b-b66ef958aa75"
      },
      "execution_count": null,
      "outputs": [
        {
          "output_type": "execute_result",
          "data": {
            "text/html": [
              "\n",
              "  <div id=\"df-c93e01d2-2e8a-4c2d-a269-3e722dc410ac\">\n",
              "    <div class=\"colab-df-container\">\n",
              "      <div>\n",
              "<style scoped>\n",
              "    .dataframe tbody tr th:only-of-type {\n",
              "        vertical-align: middle;\n",
              "    }\n",
              "\n",
              "    .dataframe tbody tr th {\n",
              "        vertical-align: top;\n",
              "    }\n",
              "\n",
              "    .dataframe thead th {\n",
              "        text-align: right;\n",
              "    }\n",
              "</style>\n",
              "<table border=\"1\" class=\"dataframe\">\n",
              "  <thead>\n",
              "    <tr style=\"text-align: right;\">\n",
              "      <th></th>\n",
              "      <th>title</th>\n",
              "      <th>searched</th>\n",
              "      <th>owned</th>\n",
              "      <th>current_value</th>\n",
              "    </tr>\n",
              "  </thead>\n",
              "  <tbody>\n",
              "    <tr>\n",
              "      <th>179375</th>\n",
              "      <td>Spawn # 1</td>\n",
              "      <td>109188</td>\n",
              "      <td>6478</td>\n",
              "      <td>30.0</td>\n",
              "    </tr>\n",
              "    <tr>\n",
              "      <th>156303</th>\n",
              "      <td>Uncanny X-Men # 281</td>\n",
              "      <td>45325</td>\n",
              "      <td>5564</td>\n",
              "      <td>5.0</td>\n",
              "    </tr>\n",
              "    <tr>\n",
              "      <th>161901</th>\n",
              "      <td>X-Force # 2</td>\n",
              "      <td>51642</td>\n",
              "      <td>5478</td>\n",
              "      <td>8.0</td>\n",
              "    </tr>\n",
              "    <tr>\n",
              "      <th>162267</th>\n",
              "      <td>X-Men # 1</td>\n",
              "      <td>86519</td>\n",
              "      <td>5393</td>\n",
              "      <td>6.0</td>\n",
              "    </tr>\n",
              "    <tr>\n",
              "      <th>162554</th>\n",
              "      <td>X-Men # 1c</td>\n",
              "      <td>62889</td>\n",
              "      <td>5358</td>\n",
              "      <td>10.0</td>\n",
              "    </tr>\n",
              "    <tr>\n",
              "      <th>2697</th>\n",
              "      <td>Adventures of Superman # 500c</td>\n",
              "      <td>57030</td>\n",
              "      <td>4903</td>\n",
              "      <td>5.0</td>\n",
              "    </tr>\n",
              "    <tr>\n",
              "      <th>162649</th>\n",
              "      <td>X-Men # 2</td>\n",
              "      <td>28842</td>\n",
              "      <td>4789</td>\n",
              "      <td>5.0</td>\n",
              "    </tr>\n",
              "    <tr>\n",
              "      <th>146581</th>\n",
              "      <td>Spider-Man 2099 # 1</td>\n",
              "      <td>25994</td>\n",
              "      <td>4681</td>\n",
              "      <td>45.0</td>\n",
              "    </tr>\n",
              "    <tr>\n",
              "      <th>162564</th>\n",
              "      <td>X-Men # 1d</td>\n",
              "      <td>52327</td>\n",
              "      <td>4627</td>\n",
              "      <td>6.0</td>\n",
              "    </tr>\n",
              "    <tr>\n",
              "      <th>161758</th>\n",
              "      <td>X-Force # 1</td>\n",
              "      <td>68644</td>\n",
              "      <td>4626</td>\n",
              "      <td>6.0</td>\n",
              "    </tr>\n",
              "  </tbody>\n",
              "</table>\n",
              "</div>\n",
              "      <button class=\"colab-df-convert\" onclick=\"convertToInteractive('df-c93e01d2-2e8a-4c2d-a269-3e722dc410ac')\"\n",
              "              title=\"Convert this dataframe to an interactive table.\"\n",
              "              style=\"display:none;\">\n",
              "        \n",
              "  <svg xmlns=\"http://www.w3.org/2000/svg\" height=\"24px\"viewBox=\"0 0 24 24\"\n",
              "       width=\"24px\">\n",
              "    <path d=\"M0 0h24v24H0V0z\" fill=\"none\"/>\n",
              "    <path d=\"M18.56 5.44l.94 2.06.94-2.06 2.06-.94-2.06-.94-.94-2.06-.94 2.06-2.06.94zm-11 1L8.5 8.5l.94-2.06 2.06-.94-2.06-.94L8.5 2.5l-.94 2.06-2.06.94zm10 10l.94 2.06.94-2.06 2.06-.94-2.06-.94-.94-2.06-.94 2.06-2.06.94z\"/><path d=\"M17.41 7.96l-1.37-1.37c-.4-.4-.92-.59-1.43-.59-.52 0-1.04.2-1.43.59L10.3 9.45l-7.72 7.72c-.78.78-.78 2.05 0 2.83L4 21.41c.39.39.9.59 1.41.59.51 0 1.02-.2 1.41-.59l7.78-7.78 2.81-2.81c.8-.78.8-2.07 0-2.86zM5.41 20L4 18.59l7.72-7.72 1.47 1.35L5.41 20z\"/>\n",
              "  </svg>\n",
              "      </button>\n",
              "      \n",
              "  <style>\n",
              "    .colab-df-container {\n",
              "      display:flex;\n",
              "      flex-wrap:wrap;\n",
              "      gap: 12px;\n",
              "    }\n",
              "\n",
              "    .colab-df-convert {\n",
              "      background-color: #E8F0FE;\n",
              "      border: none;\n",
              "      border-radius: 50%;\n",
              "      cursor: pointer;\n",
              "      display: none;\n",
              "      fill: #1967D2;\n",
              "      height: 32px;\n",
              "      padding: 0 0 0 0;\n",
              "      width: 32px;\n",
              "    }\n",
              "\n",
              "    .colab-df-convert:hover {\n",
              "      background-color: #E2EBFA;\n",
              "      box-shadow: 0px 1px 2px rgba(60, 64, 67, 0.3), 0px 1px 3px 1px rgba(60, 64, 67, 0.15);\n",
              "      fill: #174EA6;\n",
              "    }\n",
              "\n",
              "    [theme=dark] .colab-df-convert {\n",
              "      background-color: #3B4455;\n",
              "      fill: #D2E3FC;\n",
              "    }\n",
              "\n",
              "    [theme=dark] .colab-df-convert:hover {\n",
              "      background-color: #434B5C;\n",
              "      box-shadow: 0px 1px 3px 1px rgba(0, 0, 0, 0.15);\n",
              "      filter: drop-shadow(0px 1px 2px rgba(0, 0, 0, 0.3));\n",
              "      fill: #FFFFFF;\n",
              "    }\n",
              "  </style>\n",
              "\n",
              "      <script>\n",
              "        const buttonEl =\n",
              "          document.querySelector('#df-c93e01d2-2e8a-4c2d-a269-3e722dc410ac button.colab-df-convert');\n",
              "        buttonEl.style.display =\n",
              "          google.colab.kernel.accessAllowed ? 'block' : 'none';\n",
              "\n",
              "        async function convertToInteractive(key) {\n",
              "          const element = document.querySelector('#df-c93e01d2-2e8a-4c2d-a269-3e722dc410ac');\n",
              "          const dataTable =\n",
              "            await google.colab.kernel.invokeFunction('convertToInteractive',\n",
              "                                                     [key], {});\n",
              "          if (!dataTable) return;\n",
              "\n",
              "          const docLinkHtml = 'Like what you see? Visit the ' +\n",
              "            '<a target=\"_blank\" href=https://colab.research.google.com/notebooks/data_table.ipynb>data table notebook</a>'\n",
              "            + ' to learn more about interactive tables.';\n",
              "          element.innerHTML = '';\n",
              "          dataTable['output_type'] = 'display_data';\n",
              "          await google.colab.output.renderOutput(dataTable, element);\n",
              "          const docLink = document.createElement('div');\n",
              "          docLink.innerHTML = docLinkHtml;\n",
              "          element.appendChild(docLink);\n",
              "        }\n",
              "      </script>\n",
              "    </div>\n",
              "  </div>\n",
              "  "
            ],
            "text/plain": [
              "                                title  searched  owned  current_value\n",
              "179375                      Spawn # 1    109188   6478           30.0\n",
              "156303            Uncanny X-Men # 281     45325   5564            5.0\n",
              "161901                    X-Force # 2     51642   5478            8.0\n",
              "162267                      X-Men # 1     86519   5393            6.0\n",
              "162554                     X-Men # 1c     62889   5358           10.0\n",
              "2697    Adventures of Superman # 500c     57030   4903            5.0\n",
              "162649                      X-Men # 2     28842   4789            5.0\n",
              "146581            Spider-Man 2099 # 1     25994   4681           45.0\n",
              "162564                     X-Men # 1d     52327   4627            6.0\n",
              "161758                    X-Force # 1     68644   4626            6.0"
            ]
          },
          "metadata": {},
          "execution_count": 47
        }
      ]
    },
    {
      "cell_type": "code",
      "source": [
        "comparativo.sort_values(by='searched', ascending=False)[:10]"
      ],
      "metadata": {
        "colab": {
          "base_uri": "https://localhost:8080/",
          "height": 363
        },
        "id": "NU-IjNcjszuc",
        "outputId": "02d503dc-37c7-4f6f-cc00-25cdea4b40fb"
      },
      "execution_count": null,
      "outputs": [
        {
          "output_type": "execute_result",
          "data": {
            "text/html": [
              "\n",
              "  <div id=\"df-d460b3c2-c7f8-4d9e-8e0d-e50fa74555ad\">\n",
              "    <div class=\"colab-df-container\">\n",
              "      <div>\n",
              "<style scoped>\n",
              "    .dataframe tbody tr th:only-of-type {\n",
              "        vertical-align: middle;\n",
              "    }\n",
              "\n",
              "    .dataframe tbody tr th {\n",
              "        vertical-align: top;\n",
              "    }\n",
              "\n",
              "    .dataframe thead th {\n",
              "        text-align: right;\n",
              "    }\n",
              "</style>\n",
              "<table border=\"1\" class=\"dataframe\">\n",
              "  <thead>\n",
              "    <tr style=\"text-align: right;\">\n",
              "      <th></th>\n",
              "      <th>title</th>\n",
              "      <th>searched</th>\n",
              "      <th>owned</th>\n",
              "      <th>current_value</th>\n",
              "    </tr>\n",
              "  </thead>\n",
              "  <tbody>\n",
              "    <tr>\n",
              "      <th>162427</th>\n",
              "      <td>X-Men # 141</td>\n",
              "      <td>224080</td>\n",
              "      <td>1507</td>\n",
              "      <td>125.0</td>\n",
              "    </tr>\n",
              "    <tr>\n",
              "      <th>155977</th>\n",
              "      <td>Uncanny X-Men # 142</td>\n",
              "      <td>209227</td>\n",
              "      <td>1719</td>\n",
              "      <td>50.0</td>\n",
              "    </tr>\n",
              "    <tr>\n",
              "      <th>101639</th>\n",
              "      <td>Amazing Spider-Man # 361</td>\n",
              "      <td>158604</td>\n",
              "      <td>3174</td>\n",
              "      <td>225.0</td>\n",
              "    </tr>\n",
              "    <tr>\n",
              "      <th>156278</th>\n",
              "      <td>Uncanny X-Men # 266</td>\n",
              "      <td>122915</td>\n",
              "      <td>2493</td>\n",
              "      <td>200.0</td>\n",
              "    </tr>\n",
              "    <tr>\n",
              "      <th>101528</th>\n",
              "      <td>Amazing Spider-Man # 300</td>\n",
              "      <td>122602</td>\n",
              "      <td>2403</td>\n",
              "      <td>800.0</td>\n",
              "    </tr>\n",
              "    <tr>\n",
              "      <th>100709</th>\n",
              "      <td>Amazing Spider-Man # 1</td>\n",
              "      <td>113520</td>\n",
              "      <td>175</td>\n",
              "      <td>62000.0</td>\n",
              "    </tr>\n",
              "    <tr>\n",
              "      <th>179375</th>\n",
              "      <td>Spawn # 1</td>\n",
              "      <td>109188</td>\n",
              "      <td>6478</td>\n",
              "      <td>30.0</td>\n",
              "    </tr>\n",
              "    <tr>\n",
              "      <th>156217</th>\n",
              "      <td>Uncanny X-Men # 221</td>\n",
              "      <td>108420</td>\n",
              "      <td>2583</td>\n",
              "      <td>75.0</td>\n",
              "    </tr>\n",
              "    <tr>\n",
              "      <th>156250</th>\n",
              "      <td>Uncanny X-Men # 244</td>\n",
              "      <td>97897</td>\n",
              "      <td>2562</td>\n",
              "      <td>55.0</td>\n",
              "    </tr>\n",
              "    <tr>\n",
              "      <th>101348</th>\n",
              "      <td>Amazing Spider-Man # 252b</td>\n",
              "      <td>95788</td>\n",
              "      <td>2078</td>\n",
              "      <td>250.0</td>\n",
              "    </tr>\n",
              "  </tbody>\n",
              "</table>\n",
              "</div>\n",
              "      <button class=\"colab-df-convert\" onclick=\"convertToInteractive('df-d460b3c2-c7f8-4d9e-8e0d-e50fa74555ad')\"\n",
              "              title=\"Convert this dataframe to an interactive table.\"\n",
              "              style=\"display:none;\">\n",
              "        \n",
              "  <svg xmlns=\"http://www.w3.org/2000/svg\" height=\"24px\"viewBox=\"0 0 24 24\"\n",
              "       width=\"24px\">\n",
              "    <path d=\"M0 0h24v24H0V0z\" fill=\"none\"/>\n",
              "    <path d=\"M18.56 5.44l.94 2.06.94-2.06 2.06-.94-2.06-.94-.94-2.06-.94 2.06-2.06.94zm-11 1L8.5 8.5l.94-2.06 2.06-.94-2.06-.94L8.5 2.5l-.94 2.06-2.06.94zm10 10l.94 2.06.94-2.06 2.06-.94-2.06-.94-.94-2.06-.94 2.06-2.06.94z\"/><path d=\"M17.41 7.96l-1.37-1.37c-.4-.4-.92-.59-1.43-.59-.52 0-1.04.2-1.43.59L10.3 9.45l-7.72 7.72c-.78.78-.78 2.05 0 2.83L4 21.41c.39.39.9.59 1.41.59.51 0 1.02-.2 1.41-.59l7.78-7.78 2.81-2.81c.8-.78.8-2.07 0-2.86zM5.41 20L4 18.59l7.72-7.72 1.47 1.35L5.41 20z\"/>\n",
              "  </svg>\n",
              "      </button>\n",
              "      \n",
              "  <style>\n",
              "    .colab-df-container {\n",
              "      display:flex;\n",
              "      flex-wrap:wrap;\n",
              "      gap: 12px;\n",
              "    }\n",
              "\n",
              "    .colab-df-convert {\n",
              "      background-color: #E8F0FE;\n",
              "      border: none;\n",
              "      border-radius: 50%;\n",
              "      cursor: pointer;\n",
              "      display: none;\n",
              "      fill: #1967D2;\n",
              "      height: 32px;\n",
              "      padding: 0 0 0 0;\n",
              "      width: 32px;\n",
              "    }\n",
              "\n",
              "    .colab-df-convert:hover {\n",
              "      background-color: #E2EBFA;\n",
              "      box-shadow: 0px 1px 2px rgba(60, 64, 67, 0.3), 0px 1px 3px 1px rgba(60, 64, 67, 0.15);\n",
              "      fill: #174EA6;\n",
              "    }\n",
              "\n",
              "    [theme=dark] .colab-df-convert {\n",
              "      background-color: #3B4455;\n",
              "      fill: #D2E3FC;\n",
              "    }\n",
              "\n",
              "    [theme=dark] .colab-df-convert:hover {\n",
              "      background-color: #434B5C;\n",
              "      box-shadow: 0px 1px 3px 1px rgba(0, 0, 0, 0.15);\n",
              "      filter: drop-shadow(0px 1px 2px rgba(0, 0, 0, 0.3));\n",
              "      fill: #FFFFFF;\n",
              "    }\n",
              "  </style>\n",
              "\n",
              "      <script>\n",
              "        const buttonEl =\n",
              "          document.querySelector('#df-d460b3c2-c7f8-4d9e-8e0d-e50fa74555ad button.colab-df-convert');\n",
              "        buttonEl.style.display =\n",
              "          google.colab.kernel.accessAllowed ? 'block' : 'none';\n",
              "\n",
              "        async function convertToInteractive(key) {\n",
              "          const element = document.querySelector('#df-d460b3c2-c7f8-4d9e-8e0d-e50fa74555ad');\n",
              "          const dataTable =\n",
              "            await google.colab.kernel.invokeFunction('convertToInteractive',\n",
              "                                                     [key], {});\n",
              "          if (!dataTable) return;\n",
              "\n",
              "          const docLinkHtml = 'Like what you see? Visit the ' +\n",
              "            '<a target=\"_blank\" href=https://colab.research.google.com/notebooks/data_table.ipynb>data table notebook</a>'\n",
              "            + ' to learn more about interactive tables.';\n",
              "          element.innerHTML = '';\n",
              "          dataTable['output_type'] = 'display_data';\n",
              "          await google.colab.output.renderOutput(dataTable, element);\n",
              "          const docLink = document.createElement('div');\n",
              "          docLink.innerHTML = docLinkHtml;\n",
              "          element.appendChild(docLink);\n",
              "        }\n",
              "      </script>\n",
              "    </div>\n",
              "  </div>\n",
              "  "
            ],
            "text/plain": [
              "                            title  searched  owned  current_value\n",
              "162427                X-Men # 141    224080   1507          125.0\n",
              "155977        Uncanny X-Men # 142    209227   1719           50.0\n",
              "101639   Amazing Spider-Man # 361    158604   3174          225.0\n",
              "156278        Uncanny X-Men # 266    122915   2493          200.0\n",
              "101528   Amazing Spider-Man # 300    122602   2403          800.0\n",
              "100709     Amazing Spider-Man # 1    113520    175        62000.0\n",
              "179375                  Spawn # 1    109188   6478           30.0\n",
              "156217        Uncanny X-Men # 221    108420   2583           75.0\n",
              "156250        Uncanny X-Men # 244     97897   2562           55.0\n",
              "101348  Amazing Spider-Man # 252b     95788   2078          250.0"
            ]
          },
          "metadata": {},
          "execution_count": 48
        }
      ]
    },
    {
      "cell_type": "markdown",
      "source": [
        "Comics mais valiosos segundo nossos dados"
      ],
      "metadata": {
        "id": "ZSW8ysReAQ3y"
      }
    },
    {
      "cell_type": "code",
      "source": [
        "comparativo.sort_values(by='current_value', ascending=False)[:10]"
      ],
      "metadata": {
        "colab": {
          "base_uri": "https://localhost:8080/",
          "height": 363
        },
        "id": "hFRrrQCGt7hC",
        "outputId": "8f84c57d-7125-4d87-986d-10e2c75df8c4"
      },
      "execution_count": null,
      "outputs": [
        {
          "output_type": "execute_result",
          "data": {
            "text/html": [
              "\n",
              "  <div id=\"df-7815ee70-2aa3-4ff2-a919-5854745f0541\">\n",
              "    <div class=\"colab-df-container\">\n",
              "      <div>\n",
              "<style scoped>\n",
              "    .dataframe tbody tr th:only-of-type {\n",
              "        vertical-align: middle;\n",
              "    }\n",
              "\n",
              "    .dataframe tbody tr th {\n",
              "        vertical-align: top;\n",
              "    }\n",
              "\n",
              "    .dataframe thead th {\n",
              "        text-align: right;\n",
              "    }\n",
              "</style>\n",
              "<table border=\"1\" class=\"dataframe\">\n",
              "  <thead>\n",
              "    <tr style=\"text-align: right;\">\n",
              "      <th></th>\n",
              "      <th>title</th>\n",
              "      <th>searched</th>\n",
              "      <th>owned</th>\n",
              "      <th>current_value</th>\n",
              "    </tr>\n",
              "  </thead>\n",
              "  <tbody>\n",
              "    <tr>\n",
              "      <th>266</th>\n",
              "      <td>Action Comics # 1</td>\n",
              "      <td>63691</td>\n",
              "      <td>19</td>\n",
              "      <td>3000000.0</td>\n",
              "    </tr>\n",
              "    <tr>\n",
              "      <th>43250</th>\n",
              "      <td>Superman # 1</td>\n",
              "      <td>24682</td>\n",
              "      <td>10</td>\n",
              "      <td>1100000.0</td>\n",
              "    </tr>\n",
              "    <tr>\n",
              "      <th>17586</th>\n",
              "      <td>Detective Comics # 27</td>\n",
              "      <td>37656</td>\n",
              "      <td>11</td>\n",
              "      <td>1000000.0</td>\n",
              "    </tr>\n",
              "    <tr>\n",
              "      <th>3105</th>\n",
              "      <td>All-American Comics # 16</td>\n",
              "      <td>4485</td>\n",
              "      <td>6</td>\n",
              "      <td>700000.0</td>\n",
              "    </tr>\n",
              "    <tr>\n",
              "      <th>5432</th>\n",
              "      <td>Batman # 1</td>\n",
              "      <td>61085</td>\n",
              "      <td>20</td>\n",
              "      <td>550000.0</td>\n",
              "    </tr>\n",
              "    <tr>\n",
              "      <th>377100</th>\n",
              "      <td>Captain America Comics # 1</td>\n",
              "      <td>5327</td>\n",
              "      <td>6</td>\n",
              "      <td>365000.0</td>\n",
              "    </tr>\n",
              "    <tr>\n",
              "      <th>1273</th>\n",
              "      <td>Action Comics # 7</td>\n",
              "      <td>13280</td>\n",
              "      <td>8</td>\n",
              "      <td>340000.0</td>\n",
              "    </tr>\n",
              "    <tr>\n",
              "      <th>100565</th>\n",
              "      <td>Amazing Fantasy # 15</td>\n",
              "      <td>21278</td>\n",
              "      <td>74</td>\n",
              "      <td>340000.0</td>\n",
              "    </tr>\n",
              "    <tr>\n",
              "      <th>377402</th>\n",
              "      <td>Marvel Comics # 1</td>\n",
              "      <td>5065</td>\n",
              "      <td>3</td>\n",
              "      <td>320000.0</td>\n",
              "    </tr>\n",
              "    <tr>\n",
              "      <th>377403</th>\n",
              "      <td>Marvel Comics # 1-2nd print</td>\n",
              "      <td>2137</td>\n",
              "      <td>0</td>\n",
              "      <td>300000.0</td>\n",
              "    </tr>\n",
              "  </tbody>\n",
              "</table>\n",
              "</div>\n",
              "      <button class=\"colab-df-convert\" onclick=\"convertToInteractive('df-7815ee70-2aa3-4ff2-a919-5854745f0541')\"\n",
              "              title=\"Convert this dataframe to an interactive table.\"\n",
              "              style=\"display:none;\">\n",
              "        \n",
              "  <svg xmlns=\"http://www.w3.org/2000/svg\" height=\"24px\"viewBox=\"0 0 24 24\"\n",
              "       width=\"24px\">\n",
              "    <path d=\"M0 0h24v24H0V0z\" fill=\"none\"/>\n",
              "    <path d=\"M18.56 5.44l.94 2.06.94-2.06 2.06-.94-2.06-.94-.94-2.06-.94 2.06-2.06.94zm-11 1L8.5 8.5l.94-2.06 2.06-.94-2.06-.94L8.5 2.5l-.94 2.06-2.06.94zm10 10l.94 2.06.94-2.06 2.06-.94-2.06-.94-.94-2.06-.94 2.06-2.06.94z\"/><path d=\"M17.41 7.96l-1.37-1.37c-.4-.4-.92-.59-1.43-.59-.52 0-1.04.2-1.43.59L10.3 9.45l-7.72 7.72c-.78.78-.78 2.05 0 2.83L4 21.41c.39.39.9.59 1.41.59.51 0 1.02-.2 1.41-.59l7.78-7.78 2.81-2.81c.8-.78.8-2.07 0-2.86zM5.41 20L4 18.59l7.72-7.72 1.47 1.35L5.41 20z\"/>\n",
              "  </svg>\n",
              "      </button>\n",
              "      \n",
              "  <style>\n",
              "    .colab-df-container {\n",
              "      display:flex;\n",
              "      flex-wrap:wrap;\n",
              "      gap: 12px;\n",
              "    }\n",
              "\n",
              "    .colab-df-convert {\n",
              "      background-color: #E8F0FE;\n",
              "      border: none;\n",
              "      border-radius: 50%;\n",
              "      cursor: pointer;\n",
              "      display: none;\n",
              "      fill: #1967D2;\n",
              "      height: 32px;\n",
              "      padding: 0 0 0 0;\n",
              "      width: 32px;\n",
              "    }\n",
              "\n",
              "    .colab-df-convert:hover {\n",
              "      background-color: #E2EBFA;\n",
              "      box-shadow: 0px 1px 2px rgba(60, 64, 67, 0.3), 0px 1px 3px 1px rgba(60, 64, 67, 0.15);\n",
              "      fill: #174EA6;\n",
              "    }\n",
              "\n",
              "    [theme=dark] .colab-df-convert {\n",
              "      background-color: #3B4455;\n",
              "      fill: #D2E3FC;\n",
              "    }\n",
              "\n",
              "    [theme=dark] .colab-df-convert:hover {\n",
              "      background-color: #434B5C;\n",
              "      box-shadow: 0px 1px 3px 1px rgba(0, 0, 0, 0.15);\n",
              "      filter: drop-shadow(0px 1px 2px rgba(0, 0, 0, 0.3));\n",
              "      fill: #FFFFFF;\n",
              "    }\n",
              "  </style>\n",
              "\n",
              "      <script>\n",
              "        const buttonEl =\n",
              "          document.querySelector('#df-7815ee70-2aa3-4ff2-a919-5854745f0541 button.colab-df-convert');\n",
              "        buttonEl.style.display =\n",
              "          google.colab.kernel.accessAllowed ? 'block' : 'none';\n",
              "\n",
              "        async function convertToInteractive(key) {\n",
              "          const element = document.querySelector('#df-7815ee70-2aa3-4ff2-a919-5854745f0541');\n",
              "          const dataTable =\n",
              "            await google.colab.kernel.invokeFunction('convertToInteractive',\n",
              "                                                     [key], {});\n",
              "          if (!dataTable) return;\n",
              "\n",
              "          const docLinkHtml = 'Like what you see? Visit the ' +\n",
              "            '<a target=\"_blank\" href=https://colab.research.google.com/notebooks/data_table.ipynb>data table notebook</a>'\n",
              "            + ' to learn more about interactive tables.';\n",
              "          element.innerHTML = '';\n",
              "          dataTable['output_type'] = 'display_data';\n",
              "          await google.colab.output.renderOutput(dataTable, element);\n",
              "          const docLink = document.createElement('div');\n",
              "          docLink.innerHTML = docLinkHtml;\n",
              "          element.appendChild(docLink);\n",
              "        }\n",
              "      </script>\n",
              "    </div>\n",
              "  </div>\n",
              "  "
            ],
            "text/plain": [
              "                              title  searched  owned  current_value\n",
              "266               Action Comics # 1     63691     19      3000000.0\n",
              "43250                  Superman # 1     24682     10      1100000.0\n",
              "17586         Detective Comics # 27     37656     11      1000000.0\n",
              "3105       All-American Comics # 16      4485      6       700000.0\n",
              "5432                     Batman # 1     61085     20       550000.0\n",
              "377100   Captain America Comics # 1      5327      6       365000.0\n",
              "1273              Action Comics # 7     13280      8       340000.0\n",
              "100565         Amazing Fantasy # 15     21278     74       340000.0\n",
              "377402            Marvel Comics # 1      5065      3       320000.0\n",
              "377403  Marvel Comics # 1-2nd print      2137      0       300000.0"
            ]
          },
          "metadata": {},
          "execution_count": 49
        }
      ]
    },
    {
      "cell_type": "code",
      "source": [
        "dados.query('cover_date == -1').cover_date.count()"
      ],
      "metadata": {
        "colab": {
          "base_uri": "https://localhost:8080/"
        },
        "id": "-6DHlynZu3Bw",
        "outputId": "edd0730f-6903-43d2-c750-082c3792cb6c"
      },
      "execution_count": null,
      "outputs": [
        {
          "output_type": "execute_result",
          "data": {
            "text/plain": [
              "0"
            ]
          },
          "metadata": {},
          "execution_count": 50
        }
      ]
    },
    {
      "cell_type": "code",
      "source": [
        "dados.cover_date.count()"
      ],
      "metadata": {
        "colab": {
          "base_uri": "https://localhost:8080/"
        },
        "id": "49h3wNByP39P",
        "outputId": "ea3f9cd7-b38c-4043-a607-10c9972081e8"
      },
      "execution_count": null,
      "outputs": [
        {
          "output_type": "execute_result",
          "data": {
            "text/plain": [
              "369707"
            ]
          },
          "metadata": {},
          "execution_count": 51
        }
      ]
    },
    {
      "cell_type": "code",
      "source": [
        "dados[['title', 'searched','owned', 'rating','rating_count','cover_date', 'current_value','pub_name']].sort_values(by='current_value', ascending = False).iloc[:10]"
      ],
      "metadata": {
        "colab": {
          "base_uri": "https://localhost:8080/",
          "height": 363
        },
        "id": "0in4A9Um2cFF",
        "outputId": "48708fb8-8970-4e1f-9107-38c8b56c9b29"
      },
      "execution_count": null,
      "outputs": [
        {
          "output_type": "execute_result",
          "data": {
            "text/html": [
              "\n",
              "  <div id=\"df-72877c57-baad-4a49-8c9f-21e08d741489\">\n",
              "    <div class=\"colab-df-container\">\n",
              "      <div>\n",
              "<style scoped>\n",
              "    .dataframe tbody tr th:only-of-type {\n",
              "        vertical-align: middle;\n",
              "    }\n",
              "\n",
              "    .dataframe tbody tr th {\n",
              "        vertical-align: top;\n",
              "    }\n",
              "\n",
              "    .dataframe thead th {\n",
              "        text-align: right;\n",
              "    }\n",
              "</style>\n",
              "<table border=\"1\" class=\"dataframe\">\n",
              "  <thead>\n",
              "    <tr style=\"text-align: right;\">\n",
              "      <th></th>\n",
              "      <th>title</th>\n",
              "      <th>searched</th>\n",
              "      <th>owned</th>\n",
              "      <th>rating</th>\n",
              "      <th>rating_count</th>\n",
              "      <th>cover_date</th>\n",
              "      <th>current_value</th>\n",
              "      <th>pub_name</th>\n",
              "    </tr>\n",
              "  </thead>\n",
              "  <tbody>\n",
              "    <tr>\n",
              "      <th>266</th>\n",
              "      <td>Action Comics # 1</td>\n",
              "      <td>63691</td>\n",
              "      <td>19</td>\n",
              "      <td>4.5</td>\n",
              "      <td>2</td>\n",
              "      <td>84</td>\n",
              "      <td>3000000.0</td>\n",
              "      <td>DC Comics</td>\n",
              "    </tr>\n",
              "    <tr>\n",
              "      <th>43250</th>\n",
              "      <td>Superman # 1</td>\n",
              "      <td>24682</td>\n",
              "      <td>10</td>\n",
              "      <td>0.0</td>\n",
              "      <td>0</td>\n",
              "      <td>83</td>\n",
              "      <td>1100000.0</td>\n",
              "      <td>DC Comics</td>\n",
              "    </tr>\n",
              "    <tr>\n",
              "      <th>17586</th>\n",
              "      <td>Detective Comics # 27</td>\n",
              "      <td>37656</td>\n",
              "      <td>11</td>\n",
              "      <td>5.0</td>\n",
              "      <td>2</td>\n",
              "      <td>83</td>\n",
              "      <td>1000000.0</td>\n",
              "      <td>DC Comics</td>\n",
              "    </tr>\n",
              "    <tr>\n",
              "      <th>3105</th>\n",
              "      <td>All-American Comics # 16</td>\n",
              "      <td>4485</td>\n",
              "      <td>6</td>\n",
              "      <td>0.0</td>\n",
              "      <td>0</td>\n",
              "      <td>82</td>\n",
              "      <td>700000.0</td>\n",
              "      <td>DC Comics</td>\n",
              "    </tr>\n",
              "    <tr>\n",
              "      <th>5432</th>\n",
              "      <td>Batman # 1</td>\n",
              "      <td>61085</td>\n",
              "      <td>20</td>\n",
              "      <td>4.0</td>\n",
              "      <td>1</td>\n",
              "      <td>82</td>\n",
              "      <td>550000.0</td>\n",
              "      <td>DC Comics</td>\n",
              "    </tr>\n",
              "    <tr>\n",
              "      <th>377100</th>\n",
              "      <td>Captain America Comics # 1</td>\n",
              "      <td>5327</td>\n",
              "      <td>6</td>\n",
              "      <td>0.0</td>\n",
              "      <td>0</td>\n",
              "      <td>81</td>\n",
              "      <td>365000.0</td>\n",
              "      <td>Timely Comics</td>\n",
              "    </tr>\n",
              "    <tr>\n",
              "      <th>1273</th>\n",
              "      <td>Action Comics # 7</td>\n",
              "      <td>13280</td>\n",
              "      <td>8</td>\n",
              "      <td>0.0</td>\n",
              "      <td>0</td>\n",
              "      <td>84</td>\n",
              "      <td>340000.0</td>\n",
              "      <td>DC Comics</td>\n",
              "    </tr>\n",
              "    <tr>\n",
              "      <th>100565</th>\n",
              "      <td>Amazing Fantasy # 15</td>\n",
              "      <td>21278</td>\n",
              "      <td>74</td>\n",
              "      <td>5.0</td>\n",
              "      <td>4</td>\n",
              "      <td>60</td>\n",
              "      <td>340000.0</td>\n",
              "      <td>Marvel Comics</td>\n",
              "    </tr>\n",
              "    <tr>\n",
              "      <th>377402</th>\n",
              "      <td>Marvel Comics # 1</td>\n",
              "      <td>5065</td>\n",
              "      <td>3</td>\n",
              "      <td>0.0</td>\n",
              "      <td>0</td>\n",
              "      <td>83</td>\n",
              "      <td>320000.0</td>\n",
              "      <td>Timely Comics</td>\n",
              "    </tr>\n",
              "    <tr>\n",
              "      <th>377403</th>\n",
              "      <td>Marvel Comics # 1-2nd print</td>\n",
              "      <td>2137</td>\n",
              "      <td>0</td>\n",
              "      <td>0.0</td>\n",
              "      <td>0</td>\n",
              "      <td>83</td>\n",
              "      <td>300000.0</td>\n",
              "      <td>Timely Comics</td>\n",
              "    </tr>\n",
              "  </tbody>\n",
              "</table>\n",
              "</div>\n",
              "      <button class=\"colab-df-convert\" onclick=\"convertToInteractive('df-72877c57-baad-4a49-8c9f-21e08d741489')\"\n",
              "              title=\"Convert this dataframe to an interactive table.\"\n",
              "              style=\"display:none;\">\n",
              "        \n",
              "  <svg xmlns=\"http://www.w3.org/2000/svg\" height=\"24px\"viewBox=\"0 0 24 24\"\n",
              "       width=\"24px\">\n",
              "    <path d=\"M0 0h24v24H0V0z\" fill=\"none\"/>\n",
              "    <path d=\"M18.56 5.44l.94 2.06.94-2.06 2.06-.94-2.06-.94-.94-2.06-.94 2.06-2.06.94zm-11 1L8.5 8.5l.94-2.06 2.06-.94-2.06-.94L8.5 2.5l-.94 2.06-2.06.94zm10 10l.94 2.06.94-2.06 2.06-.94-2.06-.94-.94-2.06-.94 2.06-2.06.94z\"/><path d=\"M17.41 7.96l-1.37-1.37c-.4-.4-.92-.59-1.43-.59-.52 0-1.04.2-1.43.59L10.3 9.45l-7.72 7.72c-.78.78-.78 2.05 0 2.83L4 21.41c.39.39.9.59 1.41.59.51 0 1.02-.2 1.41-.59l7.78-7.78 2.81-2.81c.8-.78.8-2.07 0-2.86zM5.41 20L4 18.59l7.72-7.72 1.47 1.35L5.41 20z\"/>\n",
              "  </svg>\n",
              "      </button>\n",
              "      \n",
              "  <style>\n",
              "    .colab-df-container {\n",
              "      display:flex;\n",
              "      flex-wrap:wrap;\n",
              "      gap: 12px;\n",
              "    }\n",
              "\n",
              "    .colab-df-convert {\n",
              "      background-color: #E8F0FE;\n",
              "      border: none;\n",
              "      border-radius: 50%;\n",
              "      cursor: pointer;\n",
              "      display: none;\n",
              "      fill: #1967D2;\n",
              "      height: 32px;\n",
              "      padding: 0 0 0 0;\n",
              "      width: 32px;\n",
              "    }\n",
              "\n",
              "    .colab-df-convert:hover {\n",
              "      background-color: #E2EBFA;\n",
              "      box-shadow: 0px 1px 2px rgba(60, 64, 67, 0.3), 0px 1px 3px 1px rgba(60, 64, 67, 0.15);\n",
              "      fill: #174EA6;\n",
              "    }\n",
              "\n",
              "    [theme=dark] .colab-df-convert {\n",
              "      background-color: #3B4455;\n",
              "      fill: #D2E3FC;\n",
              "    }\n",
              "\n",
              "    [theme=dark] .colab-df-convert:hover {\n",
              "      background-color: #434B5C;\n",
              "      box-shadow: 0px 1px 3px 1px rgba(0, 0, 0, 0.15);\n",
              "      filter: drop-shadow(0px 1px 2px rgba(0, 0, 0, 0.3));\n",
              "      fill: #FFFFFF;\n",
              "    }\n",
              "  </style>\n",
              "\n",
              "      <script>\n",
              "        const buttonEl =\n",
              "          document.querySelector('#df-72877c57-baad-4a49-8c9f-21e08d741489 button.colab-df-convert');\n",
              "        buttonEl.style.display =\n",
              "          google.colab.kernel.accessAllowed ? 'block' : 'none';\n",
              "\n",
              "        async function convertToInteractive(key) {\n",
              "          const element = document.querySelector('#df-72877c57-baad-4a49-8c9f-21e08d741489');\n",
              "          const dataTable =\n",
              "            await google.colab.kernel.invokeFunction('convertToInteractive',\n",
              "                                                     [key], {});\n",
              "          if (!dataTable) return;\n",
              "\n",
              "          const docLinkHtml = 'Like what you see? Visit the ' +\n",
              "            '<a target=\"_blank\" href=https://colab.research.google.com/notebooks/data_table.ipynb>data table notebook</a>'\n",
              "            + ' to learn more about interactive tables.';\n",
              "          element.innerHTML = '';\n",
              "          dataTable['output_type'] = 'display_data';\n",
              "          await google.colab.output.renderOutput(dataTable, element);\n",
              "          const docLink = document.createElement('div');\n",
              "          docLink.innerHTML = docLinkHtml;\n",
              "          element.appendChild(docLink);\n",
              "        }\n",
              "      </script>\n",
              "    </div>\n",
              "  </div>\n",
              "  "
            ],
            "text/plain": [
              "                              title  searched  ...  current_value       pub_name\n",
              "266               Action Comics # 1     63691  ...      3000000.0      DC Comics\n",
              "43250                  Superman # 1     24682  ...      1100000.0      DC Comics\n",
              "17586         Detective Comics # 27     37656  ...      1000000.0      DC Comics\n",
              "3105       All-American Comics # 16      4485  ...       700000.0      DC Comics\n",
              "5432                     Batman # 1     61085  ...       550000.0      DC Comics\n",
              "377100   Captain America Comics # 1      5327  ...       365000.0  Timely Comics\n",
              "1273              Action Comics # 7     13280  ...       340000.0      DC Comics\n",
              "100565         Amazing Fantasy # 15     21278  ...       340000.0  Marvel Comics\n",
              "377402            Marvel Comics # 1      5065  ...       320000.0  Timely Comics\n",
              "377403  Marvel Comics # 1-2nd print      2137  ...       300000.0  Timely Comics\n",
              "\n",
              "[10 rows x 8 columns]"
            ]
          },
          "metadata": {},
          "execution_count": 52
        }
      ]
    },
    {
      "cell_type": "code",
      "source": [
        "dados['issues_total'].isnull().sum()"
      ],
      "metadata": {
        "colab": {
          "base_uri": "https://localhost:8080/"
        },
        "id": "5S0j_hHm9dpF",
        "outputId": "53899964-2849-4707-f3f4-80b806df2587"
      },
      "execution_count": null,
      "outputs": [
        {
          "output_type": "execute_result",
          "data": {
            "text/plain": [
              "3108"
            ]
          },
          "metadata": {},
          "execution_count": 53
        }
      ]
    },
    {
      "cell_type": "code",
      "source": [
        "dados = dados[dados['issues_total'].notna()]"
      ],
      "metadata": {
        "id": "77KtlNKa9zA-"
      },
      "execution_count": null,
      "outputs": []
    },
    {
      "cell_type": "code",
      "source": [
        "dados.query('rating > 0 ').rating.size"
      ],
      "metadata": {
        "colab": {
          "base_uri": "https://localhost:8080/"
        },
        "id": "8tbtv3rvM-LJ",
        "outputId": "8a547de9-7db5-4a56-e371-707eb460cf08"
      },
      "execution_count": null,
      "outputs": [
        {
          "output_type": "execute_result",
          "data": {
            "text/plain": [
              "40100"
            ]
          },
          "metadata": {},
          "execution_count": 176
        }
      ]
    },
    {
      "cell_type": "code",
      "source": [
        "dados_finalizar = dados[['cover_date', 'current_value', 'searched', 'owned', 'issues_total','pub_issues_total']]"
      ],
      "metadata": {
        "id": "F4bZlAoeTZrH"
      },
      "execution_count": null,
      "outputs": []
    },
    {
      "cell_type": "code",
      "source": [
        "pd.isna(dados_finalizar).sum()"
      ],
      "metadata": {
        "colab": {
          "base_uri": "https://localhost:8080/"
        },
        "id": "R40pmhNyzLWZ",
        "outputId": "056a917e-3b2e-4812-b1b2-7439cc82df57"
      },
      "execution_count": null,
      "outputs": [
        {
          "output_type": "execute_result",
          "data": {
            "text/plain": [
              "cover_date          0\n",
              "current_value       0\n",
              "searched            0\n",
              "owned               0\n",
              "issues_total        0\n",
              "pub_issues_total    0\n",
              "dtype: int64"
            ]
          },
          "metadata": {},
          "execution_count": 137
        }
      ]
    },
    {
      "cell_type": "code",
      "source": [
        "corr_matrix = dados_finalizar.corr()\n",
        "corr_matrix['current_value'].sort_values(ascending=False)"
      ],
      "metadata": {
        "colab": {
          "base_uri": "https://localhost:8080/"
        },
        "id": "Na8W0ykpKHIy",
        "outputId": "7f05a673-a725-4e19-b546-ce7989bf505c"
      },
      "execution_count": null,
      "outputs": [
        {
          "output_type": "execute_result",
          "data": {
            "text/plain": [
              "current_value       1.000000\n",
              "searched            0.084156\n",
              "cover_date          0.044879\n",
              "issues_total        0.024052\n",
              "pub_issues_total    0.005725\n",
              "owned              -0.006059\n",
              "Name: current_value, dtype: float64"
            ]
          },
          "metadata": {},
          "execution_count": 138
        }
      ]
    }
  ]
}