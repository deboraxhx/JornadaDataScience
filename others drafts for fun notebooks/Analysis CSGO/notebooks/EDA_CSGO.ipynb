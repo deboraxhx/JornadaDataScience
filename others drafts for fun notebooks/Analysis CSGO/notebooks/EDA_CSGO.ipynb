{
 "cells": [
  {
   "cell_type": "code",
   "execution_count": 4,
   "id": "f5547265-3303-468a-ae4a-93b4130e88e2",
   "metadata": {},
   "outputs": [],
   "source": [
    "import pandas as pd\n",
    "import numpy as np\n",
    "import matplotlib.pyplot as plt\n",
    "import seaborn as sns"
   ]
  },
  {
   "cell_type": "code",
   "execution_count": 6,
   "id": "8334c17a-4639-49e5-ae13-62df7a48fe45",
   "metadata": {},
   "outputs": [],
   "source": [
    "df = pd.read_csv('CSGO_merge.csv')"
   ]
  },
  {
   "cell_type": "code",
   "execution_count": 7,
   "id": "c8cd17a1-4028-4b61-bfda-c58e42085997",
   "metadata": {},
   "outputs": [],
   "source": [
    "#EDA = ANALISE DESCRITIVA. "
   ]
  },
  {
   "cell_type": "markdown",
   "id": "37c07329-207a-4131-9425-43398b3d9a91",
   "metadata": {},
   "source": [
    "Os dados a serem analisados foram retirados do kaggle, no link no rodapé dessa célula. \n",
    "\n",
    "Os dados disponivels contem informacões de 2,5 mil jogadores que somaram juntos mais de 170 mil partidas na plataforma Gamers Club, no modo lobby e em partidas rankeadas. \n",
    "\n",
    "Nesse conjunto de dados temos informaçoes sobre os jogadores, como nacionalidade e aniversario, alem da suas conquitas e performance nas partidas. \n",
    "\n",
    "\n",
    "link: https://www.kaggle.com/datasets/gamersclub/brazilian-csgo-plataform-dataset-by-gamers-club"
   ]
  },
  {
   "cell_type": "code",
   "execution_count": 8,
   "id": "a5e4ed87-6f8f-420b-a222-70f30c32e45a",
   "metadata": {},
   "outputs": [
    {
     "name": "stdout",
     "output_type": "stream",
     "text": [
      "<class 'pandas.core.frame.DataFrame'>\n",
      "RangeIndex: 183447 entries, 0 to 183446\n",
      "Data columns (total 41 columns):\n",
      " #   Column          Non-Null Count   Dtype  \n",
      "---  ------          --------------   -----  \n",
      " 0   Unnamed: 0      183447 non-null  int64  \n",
      " 1   idLobbyGame     183447 non-null  int64  \n",
      " 2   idPlayer        183447 non-null  int64  \n",
      " 3   idRoom          183447 non-null  int64  \n",
      " 4   qtKill          183447 non-null  int64  \n",
      " 5   qtAssist        183447 non-null  int64  \n",
      " 6   qtDeath         183447 non-null  int64  \n",
      " 7   qtHs            183447 non-null  int64  \n",
      " 8   qtBombeDefuse   183447 non-null  int64  \n",
      " 9   qtBombePlant    183447 non-null  int64  \n",
      " 10  qtTk            183447 non-null  float64\n",
      " 11  qtTkAssist      183447 non-null  float64\n",
      " 12  qt1Kill         183447 non-null  int64  \n",
      " 13  qt2Kill         183447 non-null  int64  \n",
      " 14  qt3Kill         183447 non-null  int64  \n",
      " 15  qt4Kill         183447 non-null  int64  \n",
      " 16  qt5Kill         183447 non-null  int64  \n",
      " 17  qtFirstKill     183447 non-null  int64  \n",
      " 18  vlDamage        183447 non-null  int64  \n",
      " 19  qtHits          183447 non-null  float64\n",
      " 20  qtShots         183447 non-null  int64  \n",
      " 21  qtLastAlive     183447 non-null  float64\n",
      " 22  qtClutchWon     183447 non-null  int64  \n",
      " 23  qtRoundsPlayed  183447 non-null  int64  \n",
      " 24  descMapName     183447 non-null  object \n",
      " 25  vlLevel         183447 non-null  int64  \n",
      " 26  qtSurvived      183447 non-null  float64\n",
      " 27  qtTrade         183447 non-null  float64\n",
      " 28  qtFlashAssist   183447 non-null  float64\n",
      " 29  qtHitHeadshot   183447 non-null  float64\n",
      " 30  qtHitChest      183447 non-null  float64\n",
      " 31  qtHitStomach    183447 non-null  float64\n",
      " 32  qtHitLeftAtm    183447 non-null  float64\n",
      " 33  qtHitRightArm   183447 non-null  float64\n",
      " 34  qtHitLeftLeg    183447 non-null  float64\n",
      " 35  qtHitRightLeg   183447 non-null  float64\n",
      " 36  flWinner        183447 non-null  int64  \n",
      " 37  dtCreatedAt     183447 non-null  object \n",
      " 38  descCountry     183447 non-null  object \n",
      " 39  dtBirth         160252 non-null  object \n",
      " 40  dtRegistration  183447 non-null  object \n",
      "dtypes: float64(14), int64(22), object(5)\n",
      "memory usage: 57.4+ MB\n"
     ]
    }
   ],
   "source": [
    "#Colunas e os tipode de dados\n",
    "df.info()"
   ]
  },
  {
   "cell_type": "markdown",
   "id": "d3b6a35b-ae02-45d1-bdec-ffdb27047f43",
   "metadata": {},
   "source": [
    "Colunas:\n",
    "idLobbyGame\n"
   ]
  },
  {
   "cell_type": "code",
   "execution_count": 16,
   "id": "4cafd114-ca00-470b-80bf-7c75d76791b0",
   "metadata": {},
   "outputs": [
    {
     "data": {
      "text/plain": [
       "(183447, 41)"
      ]
     },
     "execution_count": 16,
     "metadata": {},
     "output_type": "execute_result"
    }
   ],
   "source": [
    "df.shape"
   ]
  },
  {
   "cell_type": "code",
   "execution_count": 48,
   "id": "a72afed9-4bb4-4ce1-9fb4-4f2727c4e149",
   "metadata": {},
   "outputs": [
    {
     "data": {
      "text/plain": [
       "Index(['Unnamed: 0', 'idLobbyGame', 'idPlayer', 'idRoom', 'qtKill', 'qtAssist',\n",
       "       'qtDeath', 'qtHs', 'qtBombeDefuse', 'qtBombePlant', 'qtTk',\n",
       "       'qtTkAssist', 'qt1Kill', 'qt2Kill', 'qt3Kill', 'qt4Kill', 'qt5Kill',\n",
       "       'qtFirstKill', 'vlDamage', 'qtHits', 'qtShots', 'qtLastAlive',\n",
       "       'qtClutchWon', 'qtRoundsPlayed', 'descMapName', 'vlLevel', 'qtSurvived',\n",
       "       'qtTrade', 'qtFlashAssist', 'qtHitHeadshot', 'qtHitChest',\n",
       "       'qtHitStomach', 'qtHitLeftAtm', 'qtHitRightArm', 'qtHitLeftLeg',\n",
       "       'qtHitRightLeg', 'flWinner', 'dtCreatedAt', 'descCountry', 'dtBirth',\n",
       "       'dtRegistration'],\n",
       "      dtype='object')"
      ]
     },
     "execution_count": 48,
     "metadata": {},
     "output_type": "execute_result"
    }
   ],
   "source": [
    "df.columns"
   ]
  },
  {
   "cell_type": "code",
   "execution_count": 63,
   "id": "1ec7aa8b-72c4-42ba-ad7a-73ffe1d87cc1",
   "metadata": {},
   "outputs": [
    {
     "name": "stdout",
     "output_type": "stream",
     "text": [
      "Unnamed: 0 /// valores unicos: 183447\n",
      "idLobbyGame /// valores unicos: 172270\n",
      "idPlayer /// valores unicos: 2469\n",
      "idRoom /// valores unicos: 177839\n",
      "qtKill /// valores unicos: 74\n",
      "qtAssist /// valores unicos: 21\n",
      "qtDeath /// valores unicos: 58\n",
      "qtHs /// valores unicos: 39\n",
      "qtBombeDefuse /// valores unicos: 6\n",
      "qtBombePlant /// valores unicos: 13\n",
      "qtTk /// valores unicos: 7\n",
      "qtTkAssist /// valores unicos: 9\n",
      "qt1Kill /// valores unicos: 30\n",
      "qt2Kill /// valores unicos: 17\n",
      "qt3Kill /// valores unicos: 12\n",
      "qt4Kill /// valores unicos: 7\n",
      "qt5Kill /// valores unicos: 4\n",
      "qtFirstKill /// valores unicos: 20\n",
      "vlDamage /// valores unicos: 5891\n",
      "qtHits /// valores unicos: 213\n",
      "qtShots /// valores unicos: 1401\n",
      "qtLastAlive /// valores unicos: 28\n",
      "qtClutchWon /// valores unicos: 9\n",
      "qtRoundsPlayed /// valores unicos: 67\n",
      "descMapName /// valores unicos: 8\n",
      "vlLevel /// valores unicos: 22\n",
      "qtSurvived /// valores unicos: 36\n",
      "qtTrade /// valores unicos: 18\n",
      "qtFlashAssist /// valores unicos: 12\n",
      "qtHitHeadshot /// valores unicos: 48\n",
      "qtHitChest /// valores unicos: 108\n",
      "qtHitStomach /// valores unicos: 69\n",
      "qtHitLeftAtm /// valores unicos: 18\n",
      "qtHitRightArm /// valores unicos: 28\n",
      "qtHitLeftLeg /// valores unicos: 22\n",
      "qtHitRightLeg /// valores unicos: 23\n",
      "flWinner /// valores unicos: 2\n",
      "dtCreatedAt /// valores unicos: 169864\n",
      "descCountry /// valores unicos: 9\n",
      "dtBirth /// valores unicos: 1594\n",
      "dtRegistration /// valores unicos: 2469\n"
     ]
    }
   ],
   "source": [
    "#print(df.idLobbyGame.nunique())\n",
    "#print(df.idPlayer.nunique())\n",
    "#valores unicos\n",
    "\n",
    "colunas = df.columns\n",
    "for i in colunas:\n",
    "    print(f'{i} /// valores unicos: {df[i].nunique()}')\n",
    "\n"
   ]
  },
  {
   "cell_type": "code",
   "execution_count": null,
   "id": "23058c74-98d3-4bdb-ad78-22091dfec80e",
   "metadata": {},
   "outputs": [],
   "source": []
  },
  {
   "cell_type": "code",
   "execution_count": null,
   "id": "e72f56ee-0c4c-4252-b189-4368b6271baf",
   "metadata": {},
   "outputs": [],
   "source": []
  }
 ],
 "metadata": {
  "kernelspec": {
   "display_name": "Python 3 (ipykernel)",
   "language": "python",
   "name": "python3"
  },
  "language_info": {
   "codemirror_mode": {
    "name": "ipython",
    "version": 3
   },
   "file_extension": ".py",
   "mimetype": "text/x-python",
   "name": "python",
   "nbconvert_exporter": "python",
   "pygments_lexer": "ipython3",
   "version": "3.10.4"
  }
 },
 "nbformat": 4,
 "nbformat_minor": 5
}
